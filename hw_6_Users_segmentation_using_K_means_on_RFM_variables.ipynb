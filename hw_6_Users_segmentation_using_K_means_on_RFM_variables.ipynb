{
 "cells": [
  {
   "cell_type": "markdown",
   "metadata": {
    "id": "v1fV3v3gwU2L"
   },
   "source": [
    "# K-means кластеризація для сегментації користувачів, заснованої на RFM змінних"
   ]
  },
  {
   "cell_type": "markdown",
   "metadata": {
    "ExecuteTime": {
     "end_time": "2021-11-11T14:52:48.768364Z",
     "start_time": "2021-11-11T14:52:48.765116Z"
    },
    "id": "9Je-9aU0wU2O"
   },
   "source": [
    "У цьому ДЗ вирішуватимемо задачу сегментації користувачів, виходячи з їх нещодавності та частоти покупок, а також сум витрат на них."
   ]
  },
  {
   "cell_type": "markdown",
   "metadata": {
    "id": "OmUvzRZswU2P"
   },
   "source": [
    "Імпорти розташуйте під цією клітиною."
   ]
  },
  {
   "cell_type": "code",
   "execution_count": 1,
   "metadata": {
    "id": "5u2OMyY8wU2P",
    "ExecuteTime": {
     "end_time": "2024-02-16T08:13:23.673209948Z",
     "start_time": "2024-02-16T08:13:23.670781552Z"
    }
   },
   "outputs": [],
   "source": [
    "import pandas as pd\n"
   ]
  },
  {
   "cell_type": "markdown",
   "metadata": {
    "id": "X-B8HB4fwU2Q"
   },
   "source": [
    "Будемо використовувати набір даних із наступного джерела: https://archive.ics.uci.edu/ml/datasets/online+retail "
   ]
  },
  {
   "cell_type": "markdown",
   "metadata": {
    "id": "tG6lH8KiwU2Q"
   },
   "source": [
    "1.Завантажте набір даних із файлу. Виведіть перші 5 записів та розмір набору даних."
   ]
  },
  {
   "cell_type": "code",
   "execution_count": 2,
   "metadata": {
    "id": "CPB-7S-gwU2Q",
    "ExecuteTime": {
     "end_time": "2024-02-16T08:13:31.298363372Z",
     "start_time": "2024-02-16T08:13:25.463221965Z"
    }
   },
   "outputs": [
    {
     "name": "stdout",
     "output_type": "stream",
     "text": [
      "{'uci_id': 352, 'name': 'Online Retail', 'repository_url': 'https://archive.ics.uci.edu/dataset/352/online+retail', 'data_url': 'https://archive.ics.uci.edu/static/public/352/data.csv', 'abstract': 'This is a transnational data set which contains all the transactions occurring between 01/12/2010 and 09/12/2011 for a UK-based and registered non-store online retail.', 'area': 'Business', 'tasks': ['Classification', 'Clustering'], 'characteristics': ['Multivariate', 'Sequential', 'Time-Series'], 'num_instances': 541909, 'num_features': 6, 'feature_types': ['Integer', 'Real'], 'demographics': [], 'target_col': None, 'index_col': ['InvoiceNo', 'StockCode'], 'has_missing_values': 'no', 'missing_values_symbol': None, 'year_of_dataset_creation': 2015, 'last_updated': 'Fri Jan 05 2024', 'dataset_doi': '10.24432/C5BW33', 'creators': ['Daqing Chen'], 'intro_paper': {'title': 'Data mining for the online retail industry: A case study of RFM model-based customer segmentation using data mining', 'authors': 'Daqing Chen, Sai Laing Sain, Kun Guo', 'published_in': 'Journal of Database Marketing and Customer Strategy Management, Vol. 19, No. 3', 'year': 2012, 'url': 'https://www.semanticscholar.org/paper/e43a5a90fa33d419df42e485099f8f08badf2149', 'doi': '10.1057/dbm.2012.17'}, 'additional_info': {'summary': 'This is a transnational data set which contains all the transactions occurring between 01/12/2010 and 09/12/2011 for a UK-based and registered non-store online retail.The company mainly sells unique all-occasion gifts. Many customers of the company are wholesalers.', 'purpose': None, 'funded_by': None, 'instances_represent': None, 'recommended_data_splits': None, 'sensitive_data': None, 'preprocessing_description': None, 'variable_info': \"InvoiceNo: Invoice number. Nominal, a 6-digit integral number uniquely assigned to each transaction. If this code starts with letter 'c', it indicates a cancellation. \\nStockCode: Product (item) code. Nominal, a 5-digit integral number uniquely assigned to each distinct product.\\nDescription: Product (item) name. Nominal.\\nQuantity: The quantities of each product (item) per transaction. Numeric.\\t\\nInvoiceDate: Invoice Date and time. Numeric, the day and time when each transaction was generated.\\nUnitPrice: Unit price. Numeric, Product price per unit in sterling.\\nCustomerID: Customer number. Nominal, a 5-digit integral number uniquely assigned to each customer.\\nCountry: Country name. Nominal, the name of the country where each customer resides. \", 'citation': None}}\n",
      "          name     role         type demographic  \\\n",
      "0    InvoiceNo       ID  Categorical        None   \n",
      "1    StockCode       ID  Categorical        None   \n",
      "2  Description  Feature  Categorical        None   \n",
      "3     Quantity  Feature      Integer        None   \n",
      "4  InvoiceDate  Feature         Date        None   \n",
      "5    UnitPrice  Feature   Continuous        None   \n",
      "6   CustomerID  Feature  Categorical        None   \n",
      "7      Country  Feature  Categorical        None   \n",
      "\n",
      "                                         description     units missing_values  \n",
      "0  a 6-digit integral number uniquely assigned to...      None             no  \n",
      "1  a 5-digit integral number uniquely assigned to...      None             no  \n",
      "2                                       product name      None             no  \n",
      "3  the quantities of each product (item) per tran...      None             no  \n",
      "4  the day and time when each transaction was gen...      None             no  \n",
      "5                             product price per unit  sterling             no  \n",
      "6  a 5-digit integral number uniquely assigned to...      None             no  \n",
      "7  the name of the country where each customer re...      None             no  \n"
     ]
    }
   ],
   "source": [
    "from ucimlrepo import fetch_ucirepo \n",
    "  \n",
    "# fetch dataset \n",
    "online_retail = fetch_ucirepo(id=352) \n",
    "  \n",
    "# data (as pandas dataframes) \n",
    "X = online_retail.data.features \n",
    "y = online_retail.data.targets \n",
    "  \n",
    "# metadata \n",
    "print(online_retail.metadata) \n",
    "  \n",
    "# variable information \n",
    "print(online_retail.variables) \n"
   ]
  },
  {
   "cell_type": "code",
   "outputs": [
    {
     "data": {
      "text/plain": "                            Description  Quantity     InvoiceDate  UnitPrice  \\\n0    WHITE HANGING HEART T-LIGHT HOLDER         6  12/1/2010 8:26       2.55   \n1                   WHITE METAL LANTERN         6  12/1/2010 8:26       3.39   \n2        CREAM CUPID HEARTS COAT HANGER         8  12/1/2010 8:26       2.75   \n3   KNITTED UNION FLAG HOT WATER BOTTLE         6  12/1/2010 8:26       3.39   \n4        RED WOOLLY HOTTIE WHITE HEART.         6  12/1/2010 8:26       3.39   \n5          SET 7 BABUSHKA NESTING BOXES         2  12/1/2010 8:26       7.65   \n6     GLASS STAR FROSTED T-LIGHT HOLDER         6  12/1/2010 8:26       4.25   \n7                HAND WARMER UNION JACK         6  12/1/2010 8:28       1.85   \n8             HAND WARMER RED POLKA DOT         6  12/1/2010 8:28       1.85   \n9         ASSORTED COLOUR BIRD ORNAMENT        32  12/1/2010 8:34       1.69   \n10           POPPY'S PLAYHOUSE BEDROOM          6  12/1/2010 8:34       2.10   \n11            POPPY'S PLAYHOUSE KITCHEN         6  12/1/2010 8:34       2.10   \n12    FELTCRAFT PRINCESS CHARLOTTE DOLL         8  12/1/2010 8:34       3.75   \n13              IVORY KNITTED MUG COSY          6  12/1/2010 8:34       1.65   \n14   BOX OF 6 ASSORTED COLOUR TEASPOONS         6  12/1/2010 8:34       4.25   \n15        BOX OF VINTAGE JIGSAW BLOCKS          3  12/1/2010 8:34       4.95   \n16       BOX OF VINTAGE ALPHABET BLOCKS         2  12/1/2010 8:34       9.95   \n17             HOME BUILDING BLOCK WORD         3  12/1/2010 8:34       5.95   \n18             LOVE BUILDING BLOCK WORD         3  12/1/2010 8:34       5.95   \n19          RECIPE BOX WITH METAL HEART         4  12/1/2010 8:34       7.95   \n\n    CustomerID         Country  \n0      17850.0  United Kingdom  \n1      17850.0  United Kingdom  \n2      17850.0  United Kingdom  \n3      17850.0  United Kingdom  \n4      17850.0  United Kingdom  \n5      17850.0  United Kingdom  \n6      17850.0  United Kingdom  \n7      17850.0  United Kingdom  \n8      17850.0  United Kingdom  \n9      13047.0  United Kingdom  \n10     13047.0  United Kingdom  \n11     13047.0  United Kingdom  \n12     13047.0  United Kingdom  \n13     13047.0  United Kingdom  \n14     13047.0  United Kingdom  \n15     13047.0  United Kingdom  \n16     13047.0  United Kingdom  \n17     13047.0  United Kingdom  \n18     13047.0  United Kingdom  \n19     13047.0  United Kingdom  ",
      "text/html": "<div>\n<style scoped>\n    .dataframe tbody tr th:only-of-type {\n        vertical-align: middle;\n    }\n\n    .dataframe tbody tr th {\n        vertical-align: top;\n    }\n\n    .dataframe thead th {\n        text-align: right;\n    }\n</style>\n<table border=\"1\" class=\"dataframe\">\n  <thead>\n    <tr style=\"text-align: right;\">\n      <th></th>\n      <th>Description</th>\n      <th>Quantity</th>\n      <th>InvoiceDate</th>\n      <th>UnitPrice</th>\n      <th>CustomerID</th>\n      <th>Country</th>\n    </tr>\n  </thead>\n  <tbody>\n    <tr>\n      <th>0</th>\n      <td>WHITE HANGING HEART T-LIGHT HOLDER</td>\n      <td>6</td>\n      <td>12/1/2010 8:26</td>\n      <td>2.55</td>\n      <td>17850.0</td>\n      <td>United Kingdom</td>\n    </tr>\n    <tr>\n      <th>1</th>\n      <td>WHITE METAL LANTERN</td>\n      <td>6</td>\n      <td>12/1/2010 8:26</td>\n      <td>3.39</td>\n      <td>17850.0</td>\n      <td>United Kingdom</td>\n    </tr>\n    <tr>\n      <th>2</th>\n      <td>CREAM CUPID HEARTS COAT HANGER</td>\n      <td>8</td>\n      <td>12/1/2010 8:26</td>\n      <td>2.75</td>\n      <td>17850.0</td>\n      <td>United Kingdom</td>\n    </tr>\n    <tr>\n      <th>3</th>\n      <td>KNITTED UNION FLAG HOT WATER BOTTLE</td>\n      <td>6</td>\n      <td>12/1/2010 8:26</td>\n      <td>3.39</td>\n      <td>17850.0</td>\n      <td>United Kingdom</td>\n    </tr>\n    <tr>\n      <th>4</th>\n      <td>RED WOOLLY HOTTIE WHITE HEART.</td>\n      <td>6</td>\n      <td>12/1/2010 8:26</td>\n      <td>3.39</td>\n      <td>17850.0</td>\n      <td>United Kingdom</td>\n    </tr>\n    <tr>\n      <th>5</th>\n      <td>SET 7 BABUSHKA NESTING BOXES</td>\n      <td>2</td>\n      <td>12/1/2010 8:26</td>\n      <td>7.65</td>\n      <td>17850.0</td>\n      <td>United Kingdom</td>\n    </tr>\n    <tr>\n      <th>6</th>\n      <td>GLASS STAR FROSTED T-LIGHT HOLDER</td>\n      <td>6</td>\n      <td>12/1/2010 8:26</td>\n      <td>4.25</td>\n      <td>17850.0</td>\n      <td>United Kingdom</td>\n    </tr>\n    <tr>\n      <th>7</th>\n      <td>HAND WARMER UNION JACK</td>\n      <td>6</td>\n      <td>12/1/2010 8:28</td>\n      <td>1.85</td>\n      <td>17850.0</td>\n      <td>United Kingdom</td>\n    </tr>\n    <tr>\n      <th>8</th>\n      <td>HAND WARMER RED POLKA DOT</td>\n      <td>6</td>\n      <td>12/1/2010 8:28</td>\n      <td>1.85</td>\n      <td>17850.0</td>\n      <td>United Kingdom</td>\n    </tr>\n    <tr>\n      <th>9</th>\n      <td>ASSORTED COLOUR BIRD ORNAMENT</td>\n      <td>32</td>\n      <td>12/1/2010 8:34</td>\n      <td>1.69</td>\n      <td>13047.0</td>\n      <td>United Kingdom</td>\n    </tr>\n    <tr>\n      <th>10</th>\n      <td>POPPY'S PLAYHOUSE BEDROOM</td>\n      <td>6</td>\n      <td>12/1/2010 8:34</td>\n      <td>2.10</td>\n      <td>13047.0</td>\n      <td>United Kingdom</td>\n    </tr>\n    <tr>\n      <th>11</th>\n      <td>POPPY'S PLAYHOUSE KITCHEN</td>\n      <td>6</td>\n      <td>12/1/2010 8:34</td>\n      <td>2.10</td>\n      <td>13047.0</td>\n      <td>United Kingdom</td>\n    </tr>\n    <tr>\n      <th>12</th>\n      <td>FELTCRAFT PRINCESS CHARLOTTE DOLL</td>\n      <td>8</td>\n      <td>12/1/2010 8:34</td>\n      <td>3.75</td>\n      <td>13047.0</td>\n      <td>United Kingdom</td>\n    </tr>\n    <tr>\n      <th>13</th>\n      <td>IVORY KNITTED MUG COSY</td>\n      <td>6</td>\n      <td>12/1/2010 8:34</td>\n      <td>1.65</td>\n      <td>13047.0</td>\n      <td>United Kingdom</td>\n    </tr>\n    <tr>\n      <th>14</th>\n      <td>BOX OF 6 ASSORTED COLOUR TEASPOONS</td>\n      <td>6</td>\n      <td>12/1/2010 8:34</td>\n      <td>4.25</td>\n      <td>13047.0</td>\n      <td>United Kingdom</td>\n    </tr>\n    <tr>\n      <th>15</th>\n      <td>BOX OF VINTAGE JIGSAW BLOCKS</td>\n      <td>3</td>\n      <td>12/1/2010 8:34</td>\n      <td>4.95</td>\n      <td>13047.0</td>\n      <td>United Kingdom</td>\n    </tr>\n    <tr>\n      <th>16</th>\n      <td>BOX OF VINTAGE ALPHABET BLOCKS</td>\n      <td>2</td>\n      <td>12/1/2010 8:34</td>\n      <td>9.95</td>\n      <td>13047.0</td>\n      <td>United Kingdom</td>\n    </tr>\n    <tr>\n      <th>17</th>\n      <td>HOME BUILDING BLOCK WORD</td>\n      <td>3</td>\n      <td>12/1/2010 8:34</td>\n      <td>5.95</td>\n      <td>13047.0</td>\n      <td>United Kingdom</td>\n    </tr>\n    <tr>\n      <th>18</th>\n      <td>LOVE BUILDING BLOCK WORD</td>\n      <td>3</td>\n      <td>12/1/2010 8:34</td>\n      <td>5.95</td>\n      <td>13047.0</td>\n      <td>United Kingdom</td>\n    </tr>\n    <tr>\n      <th>19</th>\n      <td>RECIPE BOX WITH METAL HEART</td>\n      <td>4</td>\n      <td>12/1/2010 8:34</td>\n      <td>7.95</td>\n      <td>13047.0</td>\n      <td>United Kingdom</td>\n    </tr>\n  </tbody>\n</table>\n</div>"
     },
     "execution_count": 3,
     "metadata": {},
     "output_type": "execute_result"
    }
   ],
   "source": [
    "X.head(20)\n"
   ],
   "metadata": {
    "collapsed": false,
    "ExecuteTime": {
     "end_time": "2024-02-16T08:13:49.860104554Z",
     "start_time": "2024-02-16T08:13:49.824058756Z"
    }
   },
   "execution_count": 3
  },
  {
   "cell_type": "code",
   "outputs": [
    {
     "data": {
      "text/plain": "(541909, 6)"
     },
     "execution_count": 12,
     "metadata": {},
     "output_type": "execute_result"
    }
   ],
   "source": [
    "X.shape\n",
    "#print(y)"
   ],
   "metadata": {
    "collapsed": false,
    "ExecuteTime": {
     "end_time": "2024-02-14T07:29:51.781054221Z",
     "start_time": "2024-02-14T07:29:51.751244438Z"
    }
   },
   "execution_count": 12
  },
  {
   "cell_type": "code",
   "outputs": [],
   "source": [
    "t = X.head (2000)\n",
    "t.to_csv('small_X_data.csv', index= False, sep=',')\n"
   ],
   "metadata": {
    "collapsed": false,
    "ExecuteTime": {
     "end_time": "2024-02-16T08:27:06.076746532Z",
     "start_time": "2024-02-16T08:27:06.034676647Z"
    }
   },
   "execution_count": 9
  },
  {
   "cell_type": "markdown",
   "metadata": {
    "id": "yjmRoqAqwU2R"
   },
   "source": [
    "## Підготовка даних"
   ]
  },
  {
   "cell_type": "markdown",
   "metadata": {
    "id": "et-FANdrwU2R"
   },
   "source": [
    "2. Проведіть невеликий аналіз даних.\n",
    "2.1.Виведіть результат методу describe() для числових колонок. Виведіть кількість унікальних значень у кожній категоріальній колонці."
   ]
  },
  {
   "cell_type": "code",
   "execution_count": 5,
   "metadata": {
    "collapsed": false,
    "ExecuteTime": {
     "end_time": "2024-02-16T08:14:18.969596203Z",
     "start_time": "2024-02-16T08:14:18.870339247Z"
    }
   },
   "outputs": [
    {
     "name": "stdout",
     "output_type": "stream",
     "text": [
      "Beschreibung der numerischen Spalten:\n"
     ]
    },
    {
     "data": {
      "text/plain": "            Quantity      UnitPrice     CustomerID\ncount  541909.000000  541909.000000  406829.000000\nmean        9.552250       4.611114   15287.690570\nstd       218.081158      96.759853    1713.600303\nmin    -80995.000000  -11062.060000   12346.000000\n25%         1.000000       1.250000   13953.000000\n50%         3.000000       2.080000   15152.000000\n75%        10.000000       4.130000   16791.000000\nmax     80995.000000   38970.000000   18287.000000",
      "text/html": "<div>\n<style scoped>\n    .dataframe tbody tr th:only-of-type {\n        vertical-align: middle;\n    }\n\n    .dataframe tbody tr th {\n        vertical-align: top;\n    }\n\n    .dataframe thead th {\n        text-align: right;\n    }\n</style>\n<table border=\"1\" class=\"dataframe\">\n  <thead>\n    <tr style=\"text-align: right;\">\n      <th></th>\n      <th>Quantity</th>\n      <th>UnitPrice</th>\n      <th>CustomerID</th>\n    </tr>\n  </thead>\n  <tbody>\n    <tr>\n      <th>count</th>\n      <td>541909.000000</td>\n      <td>541909.000000</td>\n      <td>406829.000000</td>\n    </tr>\n    <tr>\n      <th>mean</th>\n      <td>9.552250</td>\n      <td>4.611114</td>\n      <td>15287.690570</td>\n    </tr>\n    <tr>\n      <th>std</th>\n      <td>218.081158</td>\n      <td>96.759853</td>\n      <td>1713.600303</td>\n    </tr>\n    <tr>\n      <th>min</th>\n      <td>-80995.000000</td>\n      <td>-11062.060000</td>\n      <td>12346.000000</td>\n    </tr>\n    <tr>\n      <th>25%</th>\n      <td>1.000000</td>\n      <td>1.250000</td>\n      <td>13953.000000</td>\n    </tr>\n    <tr>\n      <th>50%</th>\n      <td>3.000000</td>\n      <td>2.080000</td>\n      <td>15152.000000</td>\n    </tr>\n    <tr>\n      <th>75%</th>\n      <td>10.000000</td>\n      <td>4.130000</td>\n      <td>16791.000000</td>\n    </tr>\n    <tr>\n      <th>max</th>\n      <td>80995.000000</td>\n      <td>38970.000000</td>\n      <td>18287.000000</td>\n    </tr>\n  </tbody>\n</table>\n</div>"
     },
     "execution_count": 5,
     "metadata": {},
     "output_type": "execute_result"
    }
   ],
   "source": [
    "\n",
    "# Ausgabe der Ergebnisse\n",
    "print(\"Beschreibung der numerischen Spalten:\")\n",
    "X.describe()"
   ]
  },
  {
   "cell_type": "code",
   "outputs": [
    {
     "name": "stdout",
     "output_type": "stream",
     "text": [
      "Beschreibung der numerischen Spalten:\n",
      "            Quantity      UnitPrice     CustomerID\n",
      "count  541909.000000  541909.000000  406829.000000\n",
      "mean        9.552250       4.611114   15287.690570\n",
      "std       218.081158      96.759853    1713.600303\n",
      "min    -80995.000000  -11062.060000   12346.000000\n",
      "25%         1.000000       1.250000   13953.000000\n",
      "50%         3.000000       2.080000   15152.000000\n",
      "75%        10.000000       4.130000   16791.000000\n",
      "max     80995.000000   38970.000000   18287.000000\n",
      "\n",
      "Anzahl einzigartiger Werte in kategorialen Spalten:\n",
      "Description: 4223\n",
      "InvoiceDate: 23260\n",
      "Country: 38\n"
     ]
    }
   ],
   "source": [
    "# Identifizierung kategorialer Spalten und Zählung einzigartiger Werte\n",
    "categorical_columns = X.select_dtypes(include=['object', 'category']).columns\n",
    "unique_values_count = {col: X[col].nunique() for col in categorical_columns}\n",
    "\n",
    "\n",
    "print(\"\\nAnzahl einzigartiger Werte in kategorialen Spalten:\")\n",
    "for col, count in unique_values_count.items():\n",
    "    print(f\"{col}: {count}\")\n"
   ],
   "metadata": {
    "id": "SJA9LWt5wU2R",
    "ExecuteTime": {
     "end_time": "2024-02-14T07:33:39.825683606Z",
     "start_time": "2024-02-14T07:33:39.700549971Z"
    }
   },
   "execution_count": 13
  },
  {
   "cell_type": "markdown",
   "metadata": {
    "id": "VDWbC54rwU2S"
   },
   "source": [
    "2.1.1.Як можна пояснити те, що у змінних Quantity і UnitPrice мінімальне значення негативне?"
   ]
  },
  {
   "cell_type": "markdown",
   "metadata": {
    "id": "38AQxv0awU2S"
   },
   "source": [
    "  ## Наявність негативних значень у змінних, як-от Quantity (кількість) та UnitPrice (ціна за одиницю), може вказувати на декілька потенційних сценаріїв в контексті даних про роздрібну торгівлю. Ось кілька можливих пояснень:\n",
    "\n",
    "    Повернення товарів: Негативні значення в Quantity можуть вказувати на повернення товарів покупцями. Тобто, якщо покупець купує товар, а потім повертає його, це повернення може бути зареєстроване як транзакція з негативною кількістю.\n",
    "\n",
    "    Корекції помилок: Іноді негативні значення можуть бути результатом корекції помилок у записах. Наприклад, якщо була зроблена помилка при введенні кількості товару або його ціни, корекція може бути внесена як транзакція з негативним значенням для виправлення загального балансу.\n",
    "\n",
    "    Знижки або від'ємні ціни: У випадку з UnitPrice, негативні значення можуть вказувати на знижки або інші від'ємні нарахування, що застосовуються до певних товарів або замовлень. Це може бути менш звичайним, але можливим в поодиноких випадках.\n",
    "\n",
    "    Системні транзакції: У деяких системах обліку, негативні значення можуть бути використані для представлення певних внутрішніх або системних транзакцій, які не є прямими продажами або поверненнями товарів, але необхідні для внутрішнього обліку.\n",
    "\n",
    "Для точного визначення причин наявності негативних значень у вашому конкретному наборі даних, важливо звернутися до документації даних або зв'язатися з особами, які відповідають за збір і обробку цих даних. Вони можуть надати конкретні пояснення та контекст для розуміння цих значень.\n"
   ]
  },
  {
   "cell_type": "markdown",
   "metadata": {
    "id": "J3m1nf06wU2S"
   },
   "source": [
    "2.1.2. Як ви вважаєте, чи варто залишати ці дані (з негативними значеннями Quantity і UnitPrice) у наборі даних, виходячи з задачі, яку ми вирішуємо? Аргументуйте свою відповідь.\n",
    "Якщо ви вважаєте, що ці рядки треба видалити, видаліть їх."
   ]
  },
  {
   "cell_type": "markdown",
   "metadata": {
    "id": "E04EsRQGwU2S"
   },
   "source": [
    "   У контексті задачі сегментації користувачів, заснованої на нещодавності, частоті покупок та сумі витрат, рішення щодо включення або виключення даних з негативними значеннями для Quantity і UnitPrice залежить від кількох факторів:\n",
    "Аргументи за збереження даних:\n",
    "\n",
    "    Повернення товарів як важлива інформація: Повернення можуть бути важливою частиною поведінкового аналізу. Вони вказують на невдоволення покупця або проблеми з продуктом. Сегментація, яка враховує повернення, може допомогти ідентифікувати групи користувачів з високим рівнем повернень.\n",
    "    Вплив на частоту покупок: Негативні транзакції впливають на загальну частоту взаємодій клієнта з магазином, і їх виключення може спотворити цю картину.\n",
    "\n",
    "Аргументи проти збереження даних:\n",
    "\n",
    "    Спотворення витрат: Негативні значення Quantity та UnitPrice можуть спотворити загальні витрати на користувача, зменшивши суму, яку вони фактично витратили.\n",
    "    Вплив на аналіз: Для задач сегментації, зосереджених на витратах клієнтів та частоті покупок, негативні транзакції можуть ввести плутанину, особливо якщо мета полягає у визначенні найбільш вигідних або активних сегментів користувачів.\n",
    "\n",
    "Рекомендація:\n",
    "\n",
    "На мою думку, видалення рядків з негативними значеннями може бути більш відповідним для цієї конкретної задачі сегментації, особливо якщо фокусуємося на позитивних взаємодіях, які відображають фактичні витрати та частоту покупок користувачів. Видалення цих даних допоможе забезпечити, що аналіз відображатиме більш точну картину витрат і взаємодій користувачів, без врахування повернень або корекцій.\n"
   ]
  },
  {
   "cell_type": "code",
   "outputs": [
    {
     "name": "stdout",
     "output_type": "stream",
     "text": [
      "Розмір оригінальних (530104, 6)\n"
     ]
    }
   ],
   "source": [
    "# Видалення рядків, де Quantity або UnitPrice є негативними\n",
    "cleaned_data = X[(X['Quantity'] > 0) & (X['UnitPrice'] > 0)]\n",
    "\n",
    "# Перевірка розміру даних після очищення\n",
    "print(f\"Розмір оригінальних {cleaned_data.shape}\")\n"
   ],
   "metadata": {
    "collapsed": false,
    "ExecuteTime": {
     "end_time": "2024-02-14T07:46:42.066465312Z",
     "start_time": "2024-02-14T07:46:42.018435351Z"
    }
   },
   "execution_count": 18
  },
  {
   "cell_type": "markdown",
   "metadata": {
    "ExecuteTime": {
     "end_time": "2021-11-11T14:41:47.041756Z",
     "start_time": "2021-11-11T14:41:47.032115Z"
    },
    "id": "Acb_NbL0wU2S"
   },
   "source": [
    "2.2.Виведіть відсоток відсутніх значень у кожній із колонок."
   ]
  },
  {
   "cell_type": "code",
   "execution_count": 19,
   "metadata": {
    "id": "A8dE-_dQwU2T",
    "ExecuteTime": {
     "end_time": "2024-02-14T07:50:15.812166065Z",
     "start_time": "2024-02-14T07:50:15.766779863Z"
    }
   },
   "outputs": [
    {
     "name": "stdout",
     "output_type": "stream",
     "text": [
      "Відсоток відсутніх значень у кожній колонці:\n",
      "Description     0.268311\n",
      "Quantity        0.000000\n",
      "InvoiceDate     0.000000\n",
      "UnitPrice       0.000000\n",
      "CustomerID     24.926694\n",
      "Country         0.000000\n",
      "dtype: float64\n"
     ]
    }
   ],
   "source": [
    "# Перевірка відсотка відсутніх значень у кожній колонці DataFrame `X`\n",
    "percent_missing = X.isnull().mean() * 100\n",
    "\n",
    "# Вивід результатів\n",
    "print(\"Відсоток відсутніх значень у кожній колонці:\")\n",
    "print(percent_missing)\n"
   ]
  },
  {
   "cell_type": "markdown",
   "metadata": {
    "id": "ZGCmqGNGwU2T"
   },
   "source": [
    "2.4. Видаліть рядки з відсутніми значеннями."
   ]
  },
  {
   "cell_type": "code",
   "execution_count": 20,
   "metadata": {
    "id": "49re5wMpwU2T",
    "ExecuteTime": {
     "end_time": "2024-02-14T07:52:32.393769126Z",
     "start_time": "2024-02-14T07:52:32.223499358Z"
    }
   },
   "outputs": [
    {
     "name": "stdout",
     "output_type": "stream",
     "text": [
      "Розмір DataFrame після видалення рядків з відсутніми значеннями: (406829, 6)\n"
     ]
    }
   ],
   "source": [
    "# Видалення рядків з відсутніми значеннями\n",
    "X_clean = X.dropna()\n",
    "\n",
    "# Перевірка розміру нового DataFrame після видалення\n",
    "print(\"Розмір DataFrame після видалення рядків з відсутніми значеннями:\", X_clean.shape)\n"
   ]
  },
  {
   "cell_type": "markdown",
   "metadata": {
    "id": "9NCsKQyiwU2T"
   },
   "source": [
    "2.5. Виведіть значення змінної Country, відсортувавши їх за відсотком присутності в даних.\n",
    "Тобто вгорі має бути значення, яке найчастіше є у даних."
   ]
  },
  {
   "cell_type": "code",
   "execution_count": 21,
   "metadata": {
    "id": "p8k99FzWwU2T",
    "ExecuteTime": {
     "end_time": "2024-02-14T07:55:52.569404012Z",
     "start_time": "2024-02-14T07:55:52.539528924Z"
    }
   },
   "outputs": [
    {
     "name": "stdout",
     "output_type": "stream",
     "text": [
      "Country\n",
      "United Kingdom          91.431956\n",
      "Germany                  1.752139\n",
      "France                   1.579047\n",
      "EIRE                     1.512431\n",
      "Spain                    0.467422\n",
      "Netherlands              0.437527\n",
      "Belgium                  0.381798\n",
      "Switzerland              0.369435\n",
      "Portugal                 0.280305\n",
      "Australia                0.232327\n",
      "Norway                   0.200403\n",
      "Italy                    0.148180\n",
      "Channel Islands          0.139876\n",
      "Finland                  0.128250\n",
      "Cyprus                   0.114779\n",
      "Sweden                   0.085254\n",
      "Unspecified              0.082302\n",
      "Austria                  0.073998\n",
      "Denmark                  0.071783\n",
      "Japan                    0.066063\n",
      "Poland                   0.062926\n",
      "Israel                   0.054806\n",
      "USA                      0.053699\n",
      "Hong Kong                0.053145\n",
      "Singapore                0.042258\n",
      "Iceland                  0.033585\n",
      "Canada                   0.027864\n",
      "Greece                   0.026942\n",
      "Malta                    0.023436\n",
      "United Arab Emirates     0.012548\n",
      "European Community       0.011257\n",
      "RSA                      0.010703\n",
      "Lebanon                  0.008304\n",
      "Lithuania                0.006459\n",
      "Brazil                   0.005905\n",
      "Czech Republic           0.005536\n",
      "Bahrain                  0.003506\n",
      "Saudi Arabia             0.001845\n",
      "Name: proportion, dtype: float64\n"
     ]
    }
   ],
   "source": [
    "# Перевірка, чи існує колонка 'Country' у DataFrame\n",
    "if 'Country' in X.columns:\n",
    "    # Підрахунок відсотка появи кожної країни\n",
    "    country_presence_percentage = X['Country'].value_counts(normalize=True) * 100\n",
    "\n",
    "    # Сортування результатів за спаданням\n",
    "    country_presence_sorted = country_presence_percentage.sort_values(ascending=False)\n",
    "\n",
    "    # Виведення результатів\n",
    "    print(country_presence_sorted)\n",
    "else:\n",
    "    print(\"Колонка 'Country' не знайдена у DataFrame.\")\n"
   ]
  },
  {
   "cell_type": "markdown",
   "metadata": {
    "ExecuteTime": {
     "end_time": "2021-11-11T14:48:34.816766Z",
     "start_time": "2021-11-11T14:48:34.810147Z"
    },
    "id": "XlDOcoP9wU2T"
   },
   "source": [
    "2.6.У наборі даних є значення змінної Country, яке зустрічається найчастіше.\n",
    "Відфільтруйте дані лише до тих записів, які мають значення змінної Country. Це спростить нам задачу, до того ж для інших значень Country обмаль даних."
   ]
  },
  {
   "cell_type": "code",
   "outputs": [
    {
     "data": {
      "text/plain": "'United Kingdom'"
     },
     "execution_count": 11,
     "metadata": {},
     "output_type": "execute_result"
    }
   ],
   "source": [
    "most_common_country = X['Country'].mode()[0]\n",
    "most_common_country"
   ],
   "metadata": {
    "collapsed": false,
    "ExecuteTime": {
     "end_time": "2024-02-16T08:41:16.142648599Z",
     "start_time": "2024-02-16T08:41:16.124404676Z"
    }
   },
   "execution_count": 11
  },
  {
   "cell_type": "code",
   "execution_count": 13,
   "metadata": {
    "id": "7ppVVGxgwU2T",
    "ExecuteTime": {
     "end_time": "2024-02-16T08:42:38.689374338Z",
     "start_time": "2024-02-16T08:42:38.652497810Z"
    }
   },
   "outputs": [
    {
     "data": {
      "text/plain": "                                Description  Quantity      InvoiceDate  \\\n0        WHITE HANGING HEART T-LIGHT HOLDER         6   12/1/2010 8:26   \n1                       WHITE METAL LANTERN         6   12/1/2010 8:26   \n2            CREAM CUPID HEARTS COAT HANGER         8   12/1/2010 8:26   \n3       KNITTED UNION FLAG HOT WATER BOTTLE         6   12/1/2010 8:26   \n4            RED WOOLLY HOTTIE WHITE HEART.         6   12/1/2010 8:26   \n...                                     ...       ...              ...   \n541889       FAIRY TALE COTTAGE NIGHT LIGHT        12  12/9/2011 12:31   \n541890  LARGE CAKE STAND  HANGING STRAWBERY         8  12/9/2011 12:49   \n541891     SET OF 3 HANGING OWLS OLLIE BEAK        24  12/9/2011 12:49   \n541892        RED RETROSPOT ROUND CAKE TINS        24  12/9/2011 12:49   \n541893                DOORMAT RED RETROSPOT        10  12/9/2011 12:49   \n\n        UnitPrice  CustomerID         Country  \n0            2.55     17850.0  United Kingdom  \n1            3.39     17850.0  United Kingdom  \n2            2.75     17850.0  United Kingdom  \n3            3.39     17850.0  United Kingdom  \n4            3.39     17850.0  United Kingdom  \n...           ...         ...             ...  \n541889       1.95     15804.0  United Kingdom  \n541890       2.95     13113.0  United Kingdom  \n541891       1.25     13113.0  United Kingdom  \n541892       8.95     13113.0  United Kingdom  \n541893       7.08     13113.0  United Kingdom  \n\n[495478 rows x 6 columns]",
      "text/html": "<div>\n<style scoped>\n    .dataframe tbody tr th:only-of-type {\n        vertical-align: middle;\n    }\n\n    .dataframe tbody tr th {\n        vertical-align: top;\n    }\n\n    .dataframe thead th {\n        text-align: right;\n    }\n</style>\n<table border=\"1\" class=\"dataframe\">\n  <thead>\n    <tr style=\"text-align: right;\">\n      <th></th>\n      <th>Description</th>\n      <th>Quantity</th>\n      <th>InvoiceDate</th>\n      <th>UnitPrice</th>\n      <th>CustomerID</th>\n      <th>Country</th>\n    </tr>\n  </thead>\n  <tbody>\n    <tr>\n      <th>0</th>\n      <td>WHITE HANGING HEART T-LIGHT HOLDER</td>\n      <td>6</td>\n      <td>12/1/2010 8:26</td>\n      <td>2.55</td>\n      <td>17850.0</td>\n      <td>United Kingdom</td>\n    </tr>\n    <tr>\n      <th>1</th>\n      <td>WHITE METAL LANTERN</td>\n      <td>6</td>\n      <td>12/1/2010 8:26</td>\n      <td>3.39</td>\n      <td>17850.0</td>\n      <td>United Kingdom</td>\n    </tr>\n    <tr>\n      <th>2</th>\n      <td>CREAM CUPID HEARTS COAT HANGER</td>\n      <td>8</td>\n      <td>12/1/2010 8:26</td>\n      <td>2.75</td>\n      <td>17850.0</td>\n      <td>United Kingdom</td>\n    </tr>\n    <tr>\n      <th>3</th>\n      <td>KNITTED UNION FLAG HOT WATER BOTTLE</td>\n      <td>6</td>\n      <td>12/1/2010 8:26</td>\n      <td>3.39</td>\n      <td>17850.0</td>\n      <td>United Kingdom</td>\n    </tr>\n    <tr>\n      <th>4</th>\n      <td>RED WOOLLY HOTTIE WHITE HEART.</td>\n      <td>6</td>\n      <td>12/1/2010 8:26</td>\n      <td>3.39</td>\n      <td>17850.0</td>\n      <td>United Kingdom</td>\n    </tr>\n    <tr>\n      <th>...</th>\n      <td>...</td>\n      <td>...</td>\n      <td>...</td>\n      <td>...</td>\n      <td>...</td>\n      <td>...</td>\n    </tr>\n    <tr>\n      <th>541889</th>\n      <td>FAIRY TALE COTTAGE NIGHT LIGHT</td>\n      <td>12</td>\n      <td>12/9/2011 12:31</td>\n      <td>1.95</td>\n      <td>15804.0</td>\n      <td>United Kingdom</td>\n    </tr>\n    <tr>\n      <th>541890</th>\n      <td>LARGE CAKE STAND  HANGING STRAWBERY</td>\n      <td>8</td>\n      <td>12/9/2011 12:49</td>\n      <td>2.95</td>\n      <td>13113.0</td>\n      <td>United Kingdom</td>\n    </tr>\n    <tr>\n      <th>541891</th>\n      <td>SET OF 3 HANGING OWLS OLLIE BEAK</td>\n      <td>24</td>\n      <td>12/9/2011 12:49</td>\n      <td>1.25</td>\n      <td>13113.0</td>\n      <td>United Kingdom</td>\n    </tr>\n    <tr>\n      <th>541892</th>\n      <td>RED RETROSPOT ROUND CAKE TINS</td>\n      <td>24</td>\n      <td>12/9/2011 12:49</td>\n      <td>8.95</td>\n      <td>13113.0</td>\n      <td>United Kingdom</td>\n    </tr>\n    <tr>\n      <th>541893</th>\n      <td>DOORMAT RED RETROSPOT</td>\n      <td>10</td>\n      <td>12/9/2011 12:49</td>\n      <td>7.08</td>\n      <td>13113.0</td>\n      <td>United Kingdom</td>\n    </tr>\n  </tbody>\n</table>\n<p>495478 rows × 6 columns</p>\n</div>"
     },
     "execution_count": 13,
     "metadata": {},
     "output_type": "execute_result"
    }
   ],
   "source": [
    "filtered_X = X[X['Country'] == most_common_country]\n",
    "filtered_X # only country Unarted Kindom"
   ]
  },
  {
   "cell_type": "code",
   "outputs": [
    {
     "data": {
      "text/plain": "                                Description  Quantity      InvoiceDate  \\\n0        WHITE HANGING HEART T-LIGHT HOLDER         6   12/1/2010 8:26   \n1                       WHITE METAL LANTERN         6   12/1/2010 8:26   \n2            CREAM CUPID HEARTS COAT HANGER         8   12/1/2010 8:26   \n3       KNITTED UNION FLAG HOT WATER BOTTLE         6   12/1/2010 8:26   \n4            RED WOOLLY HOTTIE WHITE HEART.         6   12/1/2010 8:26   \n...                                     ...       ...              ...   \n541904          PACK OF 20 SPACEBOY NAPKINS        12  12/9/2011 12:50   \n541905         CHILDREN'S APRON DOLLY GIRL          6  12/9/2011 12:50   \n541906        CHILDRENS CUTLERY DOLLY GIRL          4  12/9/2011 12:50   \n541907      CHILDRENS CUTLERY CIRCUS PARADE         4  12/9/2011 12:50   \n541908        BAKING SET 9 PIECE RETROSPOT          3  12/9/2011 12:50   \n\n        UnitPrice  CustomerID         Country  \n0            2.55     17850.0  United Kingdom  \n1            3.39     17850.0  United Kingdom  \n2            2.75     17850.0  United Kingdom  \n3            3.39     17850.0  United Kingdom  \n4            3.39     17850.0  United Kingdom  \n...           ...         ...             ...  \n541904       0.85     12680.0          France  \n541905       2.10     12680.0          France  \n541906       4.15     12680.0          France  \n541907       4.15     12680.0          France  \n541908       4.95     12680.0          France  \n\n[541909 rows x 6 columns]",
      "text/html": "<div>\n<style scoped>\n    .dataframe tbody tr th:only-of-type {\n        vertical-align: middle;\n    }\n\n    .dataframe tbody tr th {\n        vertical-align: top;\n    }\n\n    .dataframe thead th {\n        text-align: right;\n    }\n</style>\n<table border=\"1\" class=\"dataframe\">\n  <thead>\n    <tr style=\"text-align: right;\">\n      <th></th>\n      <th>Description</th>\n      <th>Quantity</th>\n      <th>InvoiceDate</th>\n      <th>UnitPrice</th>\n      <th>CustomerID</th>\n      <th>Country</th>\n    </tr>\n  </thead>\n  <tbody>\n    <tr>\n      <th>0</th>\n      <td>WHITE HANGING HEART T-LIGHT HOLDER</td>\n      <td>6</td>\n      <td>12/1/2010 8:26</td>\n      <td>2.55</td>\n      <td>17850.0</td>\n      <td>United Kingdom</td>\n    </tr>\n    <tr>\n      <th>1</th>\n      <td>WHITE METAL LANTERN</td>\n      <td>6</td>\n      <td>12/1/2010 8:26</td>\n      <td>3.39</td>\n      <td>17850.0</td>\n      <td>United Kingdom</td>\n    </tr>\n    <tr>\n      <th>2</th>\n      <td>CREAM CUPID HEARTS COAT HANGER</td>\n      <td>8</td>\n      <td>12/1/2010 8:26</td>\n      <td>2.75</td>\n      <td>17850.0</td>\n      <td>United Kingdom</td>\n    </tr>\n    <tr>\n      <th>3</th>\n      <td>KNITTED UNION FLAG HOT WATER BOTTLE</td>\n      <td>6</td>\n      <td>12/1/2010 8:26</td>\n      <td>3.39</td>\n      <td>17850.0</td>\n      <td>United Kingdom</td>\n    </tr>\n    <tr>\n      <th>4</th>\n      <td>RED WOOLLY HOTTIE WHITE HEART.</td>\n      <td>6</td>\n      <td>12/1/2010 8:26</td>\n      <td>3.39</td>\n      <td>17850.0</td>\n      <td>United Kingdom</td>\n    </tr>\n    <tr>\n      <th>...</th>\n      <td>...</td>\n      <td>...</td>\n      <td>...</td>\n      <td>...</td>\n      <td>...</td>\n      <td>...</td>\n    </tr>\n    <tr>\n      <th>541904</th>\n      <td>PACK OF 20 SPACEBOY NAPKINS</td>\n      <td>12</td>\n      <td>12/9/2011 12:50</td>\n      <td>0.85</td>\n      <td>12680.0</td>\n      <td>France</td>\n    </tr>\n    <tr>\n      <th>541905</th>\n      <td>CHILDREN'S APRON DOLLY GIRL</td>\n      <td>6</td>\n      <td>12/9/2011 12:50</td>\n      <td>2.10</td>\n      <td>12680.0</td>\n      <td>France</td>\n    </tr>\n    <tr>\n      <th>541906</th>\n      <td>CHILDRENS CUTLERY DOLLY GIRL</td>\n      <td>4</td>\n      <td>12/9/2011 12:50</td>\n      <td>4.15</td>\n      <td>12680.0</td>\n      <td>France</td>\n    </tr>\n    <tr>\n      <th>541907</th>\n      <td>CHILDRENS CUTLERY CIRCUS PARADE</td>\n      <td>4</td>\n      <td>12/9/2011 12:50</td>\n      <td>4.15</td>\n      <td>12680.0</td>\n      <td>France</td>\n    </tr>\n    <tr>\n      <th>541908</th>\n      <td>BAKING SET 9 PIECE RETROSPOT</td>\n      <td>3</td>\n      <td>12/9/2011 12:50</td>\n      <td>4.95</td>\n      <td>12680.0</td>\n      <td>France</td>\n    </tr>\n  </tbody>\n</table>\n<p>541909 rows × 6 columns</p>\n</div>"
     },
     "execution_count": 17,
     "metadata": {},
     "output_type": "execute_result"
    }
   ],
   "source": [
    "filtered_X = X.dropna(subset =['Country'])\n",
    "filtered_X # all possible countries that are not missed"
   ],
   "metadata": {
    "collapsed": false,
    "ExecuteTime": {
     "end_time": "2024-02-16T08:45:34.477538147Z",
     "start_time": "2024-02-16T08:45:34.439952083Z"
    }
   },
   "execution_count": 17
  },
  {
   "cell_type": "markdown",
   "metadata": {
    "ExecuteTime": {
     "end_time": "2021-11-11T14:50:31.349827Z",
     "start_time": "2021-11-11T14:50:31.344787Z"
    },
    "id": "QIDUWx80wU2T"
   },
   "source": [
    "2.7. Створіть стовпець Date із значень у стовпці InvoiceDate. Стовпець Date повинен містити дату у форматі рік-місяць-день, наприклад \"2021-10-24\"."
   ]
  },
  {
   "cell_type": "code",
   "execution_count": 20,
   "metadata": {
    "id": "12qHSb6xwU2T",
    "ExecuteTime": {
     "end_time": "2024-02-16T08:55:52.917812522Z",
     "start_time": "2024-02-16T08:55:52.686006523Z"
    }
   },
   "outputs": [
    {
     "data": {
      "text/plain": "                                Description  Quantity      InvoiceDate  \\\n0        WHITE HANGING HEART T-LIGHT HOLDER         6   12/1/2010 8:26   \n1                       WHITE METAL LANTERN         6   12/1/2010 8:26   \n2            CREAM CUPID HEARTS COAT HANGER         8   12/1/2010 8:26   \n3       KNITTED UNION FLAG HOT WATER BOTTLE         6   12/1/2010 8:26   \n4            RED WOOLLY HOTTIE WHITE HEART.         6   12/1/2010 8:26   \n...                                     ...       ...              ...   \n541904          PACK OF 20 SPACEBOY NAPKINS        12  12/9/2011 12:50   \n541905         CHILDREN'S APRON DOLLY GIRL          6  12/9/2011 12:50   \n541906        CHILDRENS CUTLERY DOLLY GIRL          4  12/9/2011 12:50   \n541907      CHILDRENS CUTLERY CIRCUS PARADE         4  12/9/2011 12:50   \n541908        BAKING SET 9 PIECE RETROSPOT          3  12/9/2011 12:50   \n\n        UnitPrice  CustomerID         Country        Date  \n0            2.55     17850.0  United Kingdom  2010-12-01  \n1            3.39     17850.0  United Kingdom  2010-12-01  \n2            2.75     17850.0  United Kingdom  2010-12-01  \n3            3.39     17850.0  United Kingdom  2010-12-01  \n4            3.39     17850.0  United Kingdom  2010-12-01  \n...           ...         ...             ...         ...  \n541904       0.85     12680.0          France  2011-12-09  \n541905       2.10     12680.0          France  2011-12-09  \n541906       4.15     12680.0          France  2011-12-09  \n541907       4.15     12680.0          France  2011-12-09  \n541908       4.95     12680.0          France  2011-12-09  \n\n[541909 rows x 7 columns]",
      "text/html": "<div>\n<style scoped>\n    .dataframe tbody tr th:only-of-type {\n        vertical-align: middle;\n    }\n\n    .dataframe tbody tr th {\n        vertical-align: top;\n    }\n\n    .dataframe thead th {\n        text-align: right;\n    }\n</style>\n<table border=\"1\" class=\"dataframe\">\n  <thead>\n    <tr style=\"text-align: right;\">\n      <th></th>\n      <th>Description</th>\n      <th>Quantity</th>\n      <th>InvoiceDate</th>\n      <th>UnitPrice</th>\n      <th>CustomerID</th>\n      <th>Country</th>\n      <th>Date</th>\n    </tr>\n  </thead>\n  <tbody>\n    <tr>\n      <th>0</th>\n      <td>WHITE HANGING HEART T-LIGHT HOLDER</td>\n      <td>6</td>\n      <td>12/1/2010 8:26</td>\n      <td>2.55</td>\n      <td>17850.0</td>\n      <td>United Kingdom</td>\n      <td>2010-12-01</td>\n    </tr>\n    <tr>\n      <th>1</th>\n      <td>WHITE METAL LANTERN</td>\n      <td>6</td>\n      <td>12/1/2010 8:26</td>\n      <td>3.39</td>\n      <td>17850.0</td>\n      <td>United Kingdom</td>\n      <td>2010-12-01</td>\n    </tr>\n    <tr>\n      <th>2</th>\n      <td>CREAM CUPID HEARTS COAT HANGER</td>\n      <td>8</td>\n      <td>12/1/2010 8:26</td>\n      <td>2.75</td>\n      <td>17850.0</td>\n      <td>United Kingdom</td>\n      <td>2010-12-01</td>\n    </tr>\n    <tr>\n      <th>3</th>\n      <td>KNITTED UNION FLAG HOT WATER BOTTLE</td>\n      <td>6</td>\n      <td>12/1/2010 8:26</td>\n      <td>3.39</td>\n      <td>17850.0</td>\n      <td>United Kingdom</td>\n      <td>2010-12-01</td>\n    </tr>\n    <tr>\n      <th>4</th>\n      <td>RED WOOLLY HOTTIE WHITE HEART.</td>\n      <td>6</td>\n      <td>12/1/2010 8:26</td>\n      <td>3.39</td>\n      <td>17850.0</td>\n      <td>United Kingdom</td>\n      <td>2010-12-01</td>\n    </tr>\n    <tr>\n      <th>...</th>\n      <td>...</td>\n      <td>...</td>\n      <td>...</td>\n      <td>...</td>\n      <td>...</td>\n      <td>...</td>\n      <td>...</td>\n    </tr>\n    <tr>\n      <th>541904</th>\n      <td>PACK OF 20 SPACEBOY NAPKINS</td>\n      <td>12</td>\n      <td>12/9/2011 12:50</td>\n      <td>0.85</td>\n      <td>12680.0</td>\n      <td>France</td>\n      <td>2011-12-09</td>\n    </tr>\n    <tr>\n      <th>541905</th>\n      <td>CHILDREN'S APRON DOLLY GIRL</td>\n      <td>6</td>\n      <td>12/9/2011 12:50</td>\n      <td>2.10</td>\n      <td>12680.0</td>\n      <td>France</td>\n      <td>2011-12-09</td>\n    </tr>\n    <tr>\n      <th>541906</th>\n      <td>CHILDRENS CUTLERY DOLLY GIRL</td>\n      <td>4</td>\n      <td>12/9/2011 12:50</td>\n      <td>4.15</td>\n      <td>12680.0</td>\n      <td>France</td>\n      <td>2011-12-09</td>\n    </tr>\n    <tr>\n      <th>541907</th>\n      <td>CHILDRENS CUTLERY CIRCUS PARADE</td>\n      <td>4</td>\n      <td>12/9/2011 12:50</td>\n      <td>4.15</td>\n      <td>12680.0</td>\n      <td>France</td>\n      <td>2011-12-09</td>\n    </tr>\n    <tr>\n      <th>541908</th>\n      <td>BAKING SET 9 PIECE RETROSPOT</td>\n      <td>3</td>\n      <td>12/9/2011 12:50</td>\n      <td>4.95</td>\n      <td>12680.0</td>\n      <td>France</td>\n      <td>2011-12-09</td>\n    </tr>\n  </tbody>\n</table>\n<p>541909 rows × 7 columns</p>\n</div>"
     },
     "execution_count": 20,
     "metadata": {},
     "output_type": "execute_result"
    }
   ],
   "source": [
    "\n",
    "filtered_X['Date'] = pd.to_datetime(filtered_X ['InvoiceDate']).dt.date\n",
    "filtered_X"
   ]
  },
  {
   "cell_type": "markdown",
   "metadata": {
    "id": "0vq5bDjlwU2U"
   },
   "source": [
    "Отже, на даний момент у нас є всі необхідні дані для вирішення задачі:\n",
    "- Customer ID\n",
    "- Unit Price\n",
    "- Quantity\n",
    "- Invoice Date"
   ]
  },
  {
   "cell_type": "markdown",
   "metadata": {
    "id": "PNmTY6XMwU2U"
   },
   "source": [
    "## RFM"
   ]
  },
  {
   "cell_type": "markdown",
   "metadata": {
    "id": "cLl0SJwOwU2U"
   },
   "source": [
    "Давність-частота-грошовий вираз (Recency-Frequency-Monetary)\n",
    "    \n",
    "    \n",
    "RFM-аналіз дозволяє сегментувати клієнтів за частотою та вартістю покупок та визначати тих клієнтів, які витрачають найбільше грошей.\n",
    "\n",
    "* Давність - скільки часу пройшло з того часу, як клієнт щось купив у нас.\n",
    "* Частота - як часто клієнт купує у нас.\n",
    "* Грошовий вираз - загальна вартість покупок, здійснених покупцем.\n",
    "\n",
    "Логічно припустити з опису вище, що **дані мають бути згруповані за клієнтами**. Інакше немає сенсу виводити Recency та Частоту."
   ]
  },
  {
   "cell_type": "markdown",
   "metadata": {
    "id": "3AhUVUaQwU2U"
   },
   "source": [
    "3.1.Визначте останню дату транзакції у наборі даних. Ця дата нам необхідна, щоб визначати, як давно користувач робив покупку. Але дані історичні і якщо ми візьмемо для розрахунку recency фактичну сьогоднішню дату, розподіл recency буде зрушений у бік кількох сотень днів.\n",
    "Щоб розподіл recency розпочинався з нуля, за дату \"сьогодні\" ми візьмемо дату останньої транзакції в наборі даних. Запишіть знайдену дату змінної NOW."
   ]
  },
  {
   "cell_type": "code",
   "execution_count": 24,
   "metadata": {
    "id": "gbVZz1c0wU2U",
    "ExecuteTime": {
     "end_time": "2024-02-16T09:25:32.439110127Z",
     "start_time": "2024-02-16T09:25:32.370495535Z"
    }
   },
   "outputs": [
    {
     "name": "stdout",
     "output_type": "stream",
     "text": [
      "2011-12-09\n"
     ]
    }
   ],
   "source": [
    "# Визначення останньої дати транзакції у наборі даних\n",
    "NOW = filtered_X['Date'].max()\n",
    "\n",
    "# Виведення останньої дати\n",
    "print(NOW)\n"
   ]
  },
  {
   "cell_type": "markdown",
   "metadata": {
    "id": "EO4wes9AwU2U"
   },
   "source": [
    "### Recency"
   ]
  },
  {
   "cell_type": "markdown",
   "metadata": {
    "id": "BsekKkiEwU2U"
   },
   "source": [
    "3.2.У змінну R_df запишіть recency dataframe, що складається з колонок CustomerID, Last_Purchase_Date та Recency,\n",
    "де     \n",
    "   - Last_Purchase_Date - це дата останньої покупки клієнта;\n",
    "   - Recency - скільки днів минуло з дати останньої покупки клієнта до NOW."
   ]
  },
  {
   "cell_type": "code",
   "execution_count": 28,
   "metadata": {
    "id": "AdMoQN7SwU2U",
    "ExecuteTime": {
     "end_time": "2024-02-16T09:30:27.841507539Z",
     "start_time": "2024-02-16T09:30:27.575941154Z"
    }
   },
   "outputs": [
    {
     "data": {
      "text/plain": "   CustomerID Last_Purchase_Date  Recency\n0     12346.0         2011-01-18      325\n1     12347.0         2011-12-07        2\n2     12348.0         2011-09-25       75\n3     12349.0         2011-11-21       18\n4     12350.0         2011-02-02      310",
      "text/html": "<div>\n<style scoped>\n    .dataframe tbody tr th:only-of-type {\n        vertical-align: middle;\n    }\n\n    .dataframe tbody tr th {\n        vertical-align: top;\n    }\n\n    .dataframe thead th {\n        text-align: right;\n    }\n</style>\n<table border=\"1\" class=\"dataframe\">\n  <thead>\n    <tr style=\"text-align: right;\">\n      <th></th>\n      <th>CustomerID</th>\n      <th>Last_Purchase_Date</th>\n      <th>Recency</th>\n    </tr>\n  </thead>\n  <tbody>\n    <tr>\n      <th>0</th>\n      <td>12346.0</td>\n      <td>2011-01-18</td>\n      <td>325</td>\n    </tr>\n    <tr>\n      <th>1</th>\n      <td>12347.0</td>\n      <td>2011-12-07</td>\n      <td>2</td>\n    </tr>\n    <tr>\n      <th>2</th>\n      <td>12348.0</td>\n      <td>2011-09-25</td>\n      <td>75</td>\n    </tr>\n    <tr>\n      <th>3</th>\n      <td>12349.0</td>\n      <td>2011-11-21</td>\n      <td>18</td>\n    </tr>\n    <tr>\n      <th>4</th>\n      <td>12350.0</td>\n      <td>2011-02-02</td>\n      <td>310</td>\n    </tr>\n  </tbody>\n</table>\n</div>"
     },
     "execution_count": 28,
     "metadata": {},
     "output_type": "execute_result"
    }
   ],
   "source": [
    "# Групування даних за CustomerID для визначення дати останньої покупки\n",
    "R_df= filtered_X.groupby('CustomerID').agg(Last_Purchase_Date=('Date', 'max')).reset_index()\n",
    "\n",
    "# Розрахунок Recency як різниця між NOW і Last_Purchase_Date\n",
    "R_df['Recency'] = (pd.to_datetime(NOW) - pd.to_datetime(R_df['Last_Purchase_Date'])).dt.days\n",
    "\n",
    "\n",
    "\n",
    "# Виведення перших кількох рядків R_df для перевірки\n",
    "R_df.head()\n"
   ]
  },
  {
   "cell_type": "markdown",
   "metadata": {
    "id": "Ktt2eO1vwU2U"
   },
   "source": [
    "### Frequency - Monetary"
   ]
  },
  {
   "cell_type": "markdown",
   "metadata": {
    "id": "AawJ3Hx4wU2V"
   },
   "source": [
    "3.3.Створіть Frequency - Monetary dataframe у змінній FM_df.  \n",
    "Датафрейм повинен містити\n",
    "- CustomerID - ідентифікатор клієнта\n",
    "- Frequency - кількість покупок клієнта (кількість унікальних інвойсів)\n",
    "- Monetary - скільки грошей у магазині витратив клієнт"
   ]
  },
  {
   "cell_type": "code",
   "execution_count": 30,
   "metadata": {
    "id": "cHJ46YH0wU2V",
    "ExecuteTime": {
     "end_time": "2024-02-16T09:36:04.590951721Z",
     "start_time": "2024-02-16T09:36:04.547449585Z"
    }
   },
   "outputs": [
    {
     "name": "stdout",
     "output_type": "stream",
     "text": [
      "   CustomerID  Frequency  Monetary\n",
      "0     12346.0          2      2.08\n",
      "1     12347.0        182    481.21\n",
      "2     12348.0         31    178.71\n",
      "3     12349.0         73    605.10\n",
      "4     12350.0         17     65.30\n"
     ]
    }
   ],
   "source": [
    "# Розрахунок Frequency - кількість покупок для кожного клієнта\n",
    "frequency = filtered_X.groupby('CustomerID').size().reset_index(name='Frequency')\n",
    "\n",
    "# Розрахунок Monetary - сума витрат для кожного клієнта\n",
    "monetary = filtered_X.groupby('CustomerID')['UnitPrice'].sum().reset_index(name='Monetary')\n",
    "\n",
    "# Об'єднання Frequency і Monetary в один DataFrame\n",
    "FM_df = frequency.merge(monetary, on='CustomerID')\n",
    "\n",
    "# Перегляд перших кількох рядків результату\n",
    "print(FM_df.head())\n"
   ]
  },
  {
   "cell_type": "markdown",
   "metadata": {
    "id": "0-O-o8aFwU2V"
   },
   "source": [
    "### RFM\n",
    "3.4.Створіть RFM_df, який є об'єднанням R_df та FM_df за ідентифікатором клієнта."
   ]
  },
  {
   "cell_type": "code",
   "execution_count": 31,
   "metadata": {
    "id": "9YjMiKz4wU2V",
    "ExecuteTime": {
     "end_time": "2024-02-16T09:39:58.659239926Z",
     "start_time": "2024-02-16T09:39:58.609222049Z"
    }
   },
   "outputs": [
    {
     "name": "stdout",
     "output_type": "stream",
     "text": [
      "   CustomerID Last_Purchase_Date  Recency  Frequency  Monetary\n",
      "0     12346.0         2011-01-18      325          2      2.08\n",
      "1     12347.0         2011-12-07        2        182    481.21\n",
      "2     12348.0         2011-09-25       75         31    178.71\n",
      "3     12349.0         2011-11-21       18         73    605.10\n",
      "4     12350.0         2011-02-02      310         17     65.30\n"
     ]
    }
   ],
   "source": [
    "# Об'єднання R_df і FM_df для створення RFM_df за ідентифікатором клієнта\n",
    "RFM_df = R_df.merge(FM_df, on='CustomerID')\n",
    "\n",
    "# Виведення перших кількох рядків RFM_df для перевірки\n",
    "print(RFM_df.head())\n"
   ]
  },
  {
   "cell_type": "markdown",
   "metadata": {
    "id": "Zih-NbOPwU2V"
   },
   "source": [
    "## K-means для RFM сегментації"
   ]
  },
  {
   "cell_type": "markdown",
   "metadata": {
    "id": "4Rd45UvkwU2V"
   },
   "source": [
    "K-means дає кращий результат за наступних умов:\n",
    "- Розподіл даних не спотворений (тобто немає довгих хвостів)\n",
    "- Дані стандартизовані (тобто середнє значення 0 та стандартне відхилення 1)."
   ]
  },
  {
   "cell_type": "markdown",
   "metadata": {
    "id": "A07uZMcHwU2V"
   },
   "source": [
    "4.1.Побудуйте діаграми розподілу даних (наприклад, sns.distplot) для колонок Recency, Frequency і Monetary RFM_df.\n",
    "Виведіть коефіцієнт асиметрії кожної з колонок."
   ]
  },
  {
   "cell_type": "code",
   "execution_count": 37,
   "metadata": {
    "id": "qXhwh1ZmwU2V",
    "ExecuteTime": {
     "end_time": "2024-02-16T09:49:59.222685247Z",
     "start_time": "2024-02-16T09:49:51.775590254Z"
    }
   },
   "outputs": [
    {
     "name": "stdout",
     "output_type": "stream",
     "text": [
      "Recency Skewness:  1.2493697309912783\n",
      "Frequency Skewness:  18.15373495399194\n",
      "Monetary Skewness:  22.375198711981614\n"
     ]
    },
    {
     "data": {
      "text/plain": "<Figure size 1800x600 with 3 Axes>",
      "image/png": "[encoded data removed]"
     },
     "metadata": {},
     "output_type": "display_data"
    }
   ],
   "source": [
    "import matplotlib.pyplot as plt\n",
    "import seaborn as sns\n",
    "\n",
    "sns.set(style=\"whitegrid\")\n",
    "\n",
    "\n",
    "# Побудова діаграм розподілу для Recency\n",
    "\n",
    "fig, ax = plt.subplots(1, 3, figsize=(18, 6))\n",
    "\n",
    "sns.histplot(RFM_df['Recency'], bins=2000, kde=True, ax=ax[0])\n",
    "ax[0].set_title('Distribution of Recency')\n",
    "ax[0].set_xlim([0, 500])\n",
    "\n",
    "sns.histplot(RFM_df['Frequency'], bins=2000, kde=True, ax=ax[1])\n",
    "ax[1].set_title('Distribution of Frequency')\n",
    "ax[1].set_xlim([0, 750])\n",
    "\n",
    "sns.histplot(RFM_df['Monetary'], bins=2000, kde=True, ax=ax[2])\n",
    "ax[2].set_title('Distribution of Monetary')\n",
    "ax[2].set_xlim([0, 2000])\n",
    "\n",
    "plt.tight_layout()\n",
    "\n",
    "# Виведення коефіцієнта асиметрії\n",
    "print(\"Recency Skewness: \", RFM_df['Recency'].skew())\n",
    "print(\"Frequency Skewness: \", RFM_df['Frequency'].skew())\n",
    "print(\"Monetary Skewness: \", RFM_df['Monetary'].skew())\n"
   ]
  },
  {
   "cell_type": "markdown",
   "metadata": {
    "id": "qosYFxvgwU2V"
   },
   "source": [
    "Дані сильно перекручені, тому ми виконаємо над ними log перетворення, щоб зменшити асиметрію кожної змінної.\n",
    "\n",
    "4.2.Над кожною зі змінних 'Recency', 'Frequency', 'Monetary' виконайте перетворення log(x+1).   \n",
    "Додаємо константу, оскільки log перетворення вимагає, щоб усі значення були позитивними.\n",
    "Відобразіть розподіл змінних після перетворення."
   ]
  },
  {
   "cell_type": "code",
   "execution_count": 38,
   "metadata": {
    "id": "NmY9OCYgwU2V",
    "ExecuteTime": {
     "end_time": "2024-02-16T09:53:29.604236811Z",
     "start_time": "2024-02-16T09:53:28.873954857Z"
    }
   },
   "outputs": [
    {
     "data": {
      "text/plain": "<Figure size 1800x600 with 3 Axes>",
      "image/png": "[encoded data removed]"
     },
     "metadata": {},
     "output_type": "display_data"
    }
   ],
   "source": [
    "import numpy as np\n",
    "\n",
    "# Performing log transformation on 'Recency', 'Frequency', 'Monetary'\n",
    "RFM_df['Recency_log'] = np.log(RFM_df['Recency'] + 1)\n",
    "RFM_df['Frequency_log'] = np.log(RFM_df['Frequency'] + 1)\n",
    "RFM_df['Monetary_log'] = np.log(RFM_df['Monetary'] + 1)\n",
    "\n",
    "# Creating distribution plots for variables after log transformation\n",
    "fig, ax = plt.subplots(1, 3, figsize=(18, 6))\n",
    "\n",
    "sns.histplot(RFM_df['Recency_log'], bins=20, kde=True, ax=ax[0])\n",
    "ax[0].set_title('Log Transformed Distribution of Recency')\n",
    "\n",
    "sns.histplot(RFM_df['Frequency_log'], bins=20, kde=True, ax=ax[1])\n",
    "ax[1].set_title('Log Transformed Distribution of Frequency')\n",
    "\n",
    "sns.histplot(RFM_df['Monetary_log'], bins=20, kde=True, ax=ax[2])\n",
    "ax[2].set_title('Log Transformed Distribution of Monetary')\n",
    "\n",
    "plt.tight_layout()\n",
    "plt.show()\n"
   ]
  },
  {
   "cell_type": "markdown",
   "metadata": {
    "ExecuteTime": {
     "end_time": "2021-11-11T15:25:39.756193Z",
     "start_time": "2021-11-11T15:25:39.752264Z"
    },
    "id": "yJY39vFxwU2V"
   },
   "source": [
    "4.3.Бачимо, що в нас все одно залишилися хвости. Приберемо їх з використанням техніки **Winsorizing**.    \n",
    "\n",
    "Прочитайте про неї тут: https://en.wikipedia.org/wiki/Winsorizing.    \n",
    "\n",
    "Для використання техніки будемо використовувати бібліотеку [feature_engine](https://feature-engine.readthedocs.io/en/1.1.x/).    \n",
    "Встановіть її.\n"
   ]
  },
  {
   "cell_type": "markdown",
   "metadata": {
    "id": "IDwGxMvxwU2W"
   },
   "source": [
    "Нам потрібний об'єкт Winsorizer. Імпортуйте його за допомогою\n",
    "`from feature_engine.outliers import Winsorizer`."
   ]
  },
  {
   "cell_type": "markdown",
   "metadata": {
    "id": "GIVyTngEwU2W"
   },
   "source": [
    "У змінній windsoriser створіть екземпляр класу Winsorizer зі значеннями змінних 'tail='both'', 'fold=2', а в 'variables' передайте назви змінних, які ми хочемо перетворити.\n",
    "Викличте метод fit()."
   ]
  },
  {
   "cell_type": "code",
   "execution_count": null,
   "metadata": {
    "ExecuteTime": {
     "end_time": "2021-11-11T14:50:46.404870Z",
     "start_time": "2021-11-11T14:50:46.244234Z"
    },
    "id": "1tuJsN5CwU2W"
   },
   "outputs": [],
   "source": [
    "# ваш код тут\n",
    "windsoriser = Winsorizer(...)"
   ]
  },
  {
   "cell_type": "markdown",
   "metadata": {
    "id": "NpY8ytqbwU2W"
   },
   "source": [
    "Викликаємо трансформацію:"
   ]
  },
  {
   "cell_type": "code",
   "execution_count": null,
   "metadata": {
    "ExecuteTime": {
     "end_time": "2021-11-11T15:30:01.124156Z",
     "start_time": "2021-11-11T15:30:01.117103Z"
    },
    "id": "uX9XQS6UwU2W"
   },
   "outputs": [],
   "source": [
    "... = windsoriser.transform(...)"
   ]
  },
  {
   "cell_type": "markdown",
   "metadata": {
    "id": "hENkxY2TwU2W"
   },
   "source": [
    "4.4. Стандартизуйте наші RFM змінні так, щоб середнє було 0, а стандартне відхилення дорівнювало 1. Тут не треба ділити на трейн і тест, можемо працювати разом з повним набором даних."
   ]
  },
  {
   "cell_type": "code",
   "execution_count": null,
   "metadata": {
    "ExecuteTime": {
     "end_time": "2021-11-11T14:50:46.404870Z",
     "start_time": "2021-11-11T14:50:46.244234Z"
    },
    "id": "GQ00fHtnwU2W"
   },
   "outputs": [],
   "source": [
    "# ваш код тут"
   ]
  },
  {
   "cell_type": "markdown",
   "metadata": {
    "id": "DjF8bm5EwU2W"
   },
   "source": [
    "4.5. Знайдіть оптимальну кількість кластерів за допомогою Elbow Method.\n",
    "Запустіть KMeans кластеризацію підготовлених стандартизованих RFM даних з параметром K від 1 до 10 включно.\n",
    "Виконати це можна у циклі.\n",
    "Відобразіть графічно отримані результати про значення сум внутрішньокластерних відстаней (у sklearn його називають inertia) для різних значень K."
   ]
  },
  {
   "cell_type": "code",
   "execution_count": null,
   "metadata": {
    "ExecuteTime": {
     "end_time": "2021-11-11T14:50:46.404870Z",
     "start_time": "2021-11-11T14:50:46.244234Z"
    },
    "id": "1Ck-8muHwU2W"
   },
   "outputs": [],
   "source": [
    "# ваш код тут"
   ]
  },
  {
   "cell_type": "markdown",
   "metadata": {
    "id": "gi1RLgVpwU2W"
   },
   "source": [
    "Значення кластера, при якому зменшення значення inertia стає постійним, можна вибрати як правильне значення кластера для наших даних.\n",
    "Спробуємо використовувати значення К від 3 до 5."
   ]
  },
  {
   "cell_type": "markdown",
   "metadata": {
    "id": "4lZZNgVGwU2W"
   },
   "source": [
    "4.6.Створіть функцію, яка прийматиме набір даних для навчання (стандартизовані дані), значення К та набір даних з оригінальними (до стандартизації) значеннями (назвем його original_df_rfm).\n",
    "\n",
    "Усередині функції необхідно\n",
    "1. Навчити на стандартизованих даних Kmeans з кількістю кластерів К, що є аргументом функції.\n",
    "2. Отримати ідентифікатори кластерів (лейбли).\n",
    "3. Створити новий датафрейм як копію original_df_rfm.\n",
    "4. До набору даних, отриманого в п.3, додайте колонку зі значенням кластера для даного рядка.\n",
    "5. Виконайте зменшення розмірності за допомогою TSNE (можете спробувати замість TSNE використовувати PCA, і візуально порівняти результати).\n",
    "6. Відобразити результати кластеризації.\n",
    "\n",
    "Пункти 5 та 6 вже реалізовані за вас.\n",
    "Запустіть функцію для значень K = {3,4,5}.\n",
    "**Наша мета** - за допомогою візуалізацій зрозуміти, яка кількість кластерів оптимальна."
   ]
  },
  {
   "cell_type": "code",
   "execution_count": null,
   "metadata": {
    "ExecuteTime": {
     "end_time": "2021-11-11T15:39:43.101968Z",
     "start_time": "2021-11-11T15:39:43.097975Z"
    },
    "id": "GBpb4fE-wU2W"
   },
   "outputs": [],
   "source": [
    "from sklearn.manifold import TSNE\n",
    "\n",
    "def fit_visualize_kmeans(..., clusters_number, original_df_rfm):\n",
    "\n",
    "    ...\n",
    "    cluster_labels = ...\n",
    "        \n",
    "    # Копия original_df_rfm с доп колонкой, содержащей лейблы кластеров\n",
    "    df_new = ...\n",
    "    \n",
    "    # Инициируем TSNE\n",
    "    model = TSNE(random_state=1)\n",
    "    transformed = model.fit_transform(df_new)\n",
    "    \n",
    "    # Визуализируем результаты TSNE трансформации\n",
    "    plt.title('Flattened Graph of {} Clusters'.format(clusters_number))\n",
    "    params = dict(\n",
    "        x=transformed[:,0], \n",
    "        y=transformed[:,1],\n",
    "        hue=cluster_labels, \n",
    "        style=cluster_labels, \n",
    "        palette=\"Set1\"\n",
    "    )\n",
    "    sns.scatterplot(**params)\n",
    "    return df_new"
   ]
  },
  {
   "cell_type": "code",
   "execution_count": null,
   "metadata": {
    "ExecuteTime": {
     "end_time": "2021-11-11T16:26:01.117789Z",
     "start_time": "2021-11-11T16:26:00.834529Z"
    },
    "id": "NuIkWsU_wU2X"
   },
   "outputs": [],
   "source": [
    "plt.figure(figsize=(10, 10))\n",
    "\n",
    "plt.subplot(3, 1, 1)\n",
    "df_rfm_k3 = fit_visualize_kmeans(...)\n",
    "\n",
    "plt.subplot(3, 1, 2)\n",
    "df_rfm_k4 = fit_visualize_kmeans(...)\n",
    "\n",
    "plt.subplot(3, 1, 3)\n",
    "df_rfm_k5 = fit_visualize_kmeans(...)\n",
    "\n",
    "plt.tight_layout()\n"
   ]
  },
  {
   "cell_type": "markdown",
   "metadata": {
    "id": "02FA6RTXwU2X"
   },
   "source": [
    "Проаналізуйте отримані графіки. При якій кількості кластерів на вашій основі з візуалізацій найкраще поділяються дані на кластери?"
   ]
  },
  {
   "cell_type": "markdown",
   "metadata": {
    "ExecuteTime": {
     "end_time": "2021-11-11T16:00:40.894614Z",
     "start_time": "2021-11-11T16:00:40.891135Z"
    },
    "id": "3QQDfeV6wU2X"
   },
   "source": [
    "4.7.Збудуємо додатково [Snake plots](https://www.marketingprofs.com/tutorials/snakeplot.asp), які часто використовують у маркетингових аналізах. \n",
    "\n",
    "Прочитайте про цей графік та давайте напишемо функцію для її реалізації.\n",
    "У функції має відбуватися таке:\n",
    "1. Створюємо датафрейм normalised_df_rfm, який містить оригінальні CustomerID, стандартизовані значення Recency, Frequency, Monetary та номер кластера.\n",
    "2. Візуалізуємо датафрейм. Ця частина вже реалізована.  \n",
    "\n",
    "Визначте відповідні аргументи функції самостійно. Вона має запускатися для різних результатів кластеризації.\n",
    "Функція snake_plot може приймати декілька параметрів."
   ]
  },
  {
   "cell_type": "code",
   "execution_count": null,
   "metadata": {
    "ExecuteTime": {
     "end_time": "2021-11-11T16:05:34.114594Z",
     "start_time": "2021-11-11T16:05:34.108168Z"
    },
    "id": "w3XkMzfiwU2X"
   },
   "outputs": [],
   "source": [
    "def snake_plot(...):\n",
    "    normalised_df_rfm = ...\n",
    "\n",
    "    # \"Розправляємо \" дані в довгий формат\n",
    "    df_melt = pd.melt(normalised_df_rfm.reset_index(), \n",
    "                        id_vars=['CustomerID', 'Cluster'],\n",
    "                        value_vars=['Recency', 'Frequency', 'Monetary'], \n",
    "                        var_name='Metric', \n",
    "                        value_name='Value')\n",
    "    plt.xlabel('Metric')\n",
    "    plt.ylabel('Value')\n",
    "    sns.pointplot(data=df_melt, x='Metric', y='Value', hue='Cluster')"
   ]
  },
  {
   "cell_type": "code",
   "execution_count": null,
   "metadata": {
    "ExecuteTime": {
     "end_time": "2021-11-11T16:05:40.704208Z",
     "start_time": "2021-11-11T16:05:39.193764Z"
    },
    "id": "5Vsges04wU2X"
   },
   "outputs": [],
   "source": [
    "plt.figure(figsize=(9, 9))\n",
    "\n",
    "plt.subplot(3, 1, 1)\n",
    "plt.title('Snake Plot of K-Means = 3')\n",
    "snake_plot(...)\n",
    "\n",
    "plt.subplot(3, 1, 2)\n",
    "plt.title('Snake Plot of K-Means = 4')\n",
    "snake_plot(...)\n",
    "\n",
    "plt.subplot(3, 1, 3)\n",
    "plt.title('Snake Plot of K-Means = 5')\n",
    "snake_plot(...)\n",
    "\n",
    "plt.tight_layout()"
   ]
  },
  {
   "cell_type": "markdown",
   "metadata": {
    "id": "7sLq9svUwU2X"
   },
   "source": [
    "Зі згладжених графіків і графіків-змій видно, що значення кластера, що дорівнює 4, добре сегментує наших клієнтів.\n",
    "Ми також могли б піти на більшу кількість кластерів, що повністю залежить від того, як компанія хоче сегментувати своїх клієнтів. Але зазвичай 4 кластери – це зручно."
   ]
  },
  {
   "cell_type": "markdown",
   "metadata": {
    "id": "33xYpGmpwU2X"
   },
   "source": [
    "4.8.Інтерпретуємо результати кластеризації.\n",
    "З результатів кластеризації з кількістю кластерів 4 (і оригінальними значеннями RFM змінних) сформуйте агрегат , який містить середнє значення по кожній із трьох колонок та кількість клієнтів у кластері.\n",
    "Виведіть цей агрегат."
   ]
  },
  {
   "cell_type": "code",
   "execution_count": null,
   "metadata": {
    "ExecuteTime": {
     "end_time": "2021-11-11T14:50:46.404870Z",
     "start_time": "2021-11-11T14:50:46.244234Z"
    },
    "id": "oq0D0jvowU2X"
   },
   "outputs": [],
   "source": [
    "# ваш код тут"
   ]
  },
  {
   "cell_type": "markdown",
   "metadata": {
    "id": "yfkJsWkGwU2X"
   },
   "source": [
    "Зробіть висновки про отримані результати. Як би ви назвали кожний кластер? Які з них містять користувачів, що платять, а які - тих, хто потенційно піде у відтік?"
   ]
  },
  {
   "cell_type": "markdown",
   "metadata": {
    "id": "HTMjlu5cwU2X"
   },
   "source": [
    "    ваш відповідь тут"
   ]
  },
  {
   "cell_type": "code",
   "source": [],
   "metadata": {
    "id": "g4TIttKcLxdP"
   },
   "execution_count": null,
   "outputs": []
  }
 ],
 "metadata": {
  "kernelspec": {
   "display_name": "Python 3 (ipykernel)",
   "language": "python",
   "name": "python3"
  },
  "language_info": {
   "codemirror_mode": {
    "name": "ipython",
    "version": 3
   },
   "file_extension": ".py",
   "mimetype": "text/x-python",
   "name": "python",
   "nbconvert_exporter": "python",
   "pygments_lexer": "ipython3",
   "version": "3.9.7"
  },
  "toc": {
   "base_numbering": 1,
   "nav_menu": {},
   "number_sections": true,
   "sideBar": true,
   "skip_h1_title": false,
   "title_cell": "Table of Contents",
   "title_sidebar": "Contents",
   "toc_cell": false,
   "toc_position": {},
   "toc_section_display": true,
   "toc_window_display": false
  },
  "colab": {
   "provenance": []
  }
 },
 "nbformat": 4,
 "nbformat_minor": 0
}
