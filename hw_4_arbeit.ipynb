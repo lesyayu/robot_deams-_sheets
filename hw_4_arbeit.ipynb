{
  "cells": [
    {
      "cell_type": "markdown",
      "metadata": {
        "id": "view-in-github",
        "colab_type": "text"
      },
      "source": [
        "<a href=\"https://colab.research.google.com/github/lesyayu/robot_deams-_sheets/blob/main/hw_4_arbeit.ipynb\" target=\"_parent\"><img src=\"https://colab.research.google.com/assets/colab-badge.svg\" alt=\"Open In Colab\"/></a>"
      ]
    },
    {
      "cell_type": "markdown",
      "id": "c201591a",
      "metadata": {
        "ExecuteTime": {
          "end_time": "2021-10-08T14:20:56.413092Z",
          "start_time": "2021-10-08T14:20:56.409316Z"
        },
        "id": "c201591a"
      },
      "source": [
        "# Лінійна регресія"
      ]
    },
    {
      "cell_type": "markdown",
      "id": "178d8f7b",
      "metadata": {
        "ExecuteTime": {
          "end_time": "2021-10-08T14:20:56.413092Z",
          "start_time": "2021-10-08T14:20:56.409316Z"
        },
        "id": "178d8f7b"
      },
      "source": [
        "У цьому домашньому завданні ми працюємо з набором даних про рівень щастя у країнах за 2019 рік. Він доступний в кабінеті або можна завантажити з Kaggle [змагання](https://www.kaggle.com/unsdsn/world-happiness?select=2019.csv)."
      ]
    },
    {
      "cell_type": "markdown",
      "id": "682c5672",
      "metadata": {
        "ExecuteTime": {
          "end_time": "2021-10-08T14:24:45.084860Z",
          "start_time": "2021-10-08T14:24:45.081379Z"
        },
        "id": "682c5672"
      },
      "source": [
        "Усі імпорти розміщуємо зверху, під цією секцією."
      ]
    },
    {
      "cell_type": "code",
      "execution_count": 39,
      "id": "e5bfeac9",
      "metadata": {
        "id": "e5bfeac9",
        "colab": {
          "base_uri": "https://localhost:8080/",
          "height": 75
        },
        "outputId": "c68738c0-0a99-447e-94ae-eb8bc4bd75a4"
      },
      "outputs": [
        {
          "output_type": "display_data",
          "data": {
            "text/plain": [
              "<IPython.core.display.HTML object>"
            ],
            "text/html": [
              "\n",
              "     <input type=\"file\" id=\"files-83535c89-71df-4d58-9b1a-e830593bfa36\" name=\"files[]\" multiple disabled\n",
              "        style=\"border:none\" />\n",
              "     <output id=\"result-83535c89-71df-4d58-9b1a-e830593bfa36\">\n",
              "      Upload widget is only available when the cell has been executed in the\n",
              "      current browser session. Please rerun this cell to enable.\n",
              "      </output>\n",
              "      <script>// Copyright 2017 Google LLC\n",
              "//\n",
              "// Licensed under the Apache License, Version 2.0 (the \"License\");\n",
              "// you may not use this file except in compliance with the License.\n",
              "// You may obtain a copy of the License at\n",
              "//\n",
              "//      http://www.apache.org/licenses/LICENSE-2.0\n",
              "//\n",
              "// Unless required by applicable law or agreed to in writing, software\n",
              "// distributed under the License is distributed on an \"AS IS\" BASIS,\n",
              "// WITHOUT WARRANTIES OR CONDITIONS OF ANY KIND, either express or implied.\n",
              "// See the License for the specific language governing permissions and\n",
              "// limitations under the License.\n",
              "\n",
              "/**\n",
              " * @fileoverview Helpers for google.colab Python module.\n",
              " */\n",
              "(function(scope) {\n",
              "function span(text, styleAttributes = {}) {\n",
              "  const element = document.createElement('span');\n",
              "  element.textContent = text;\n",
              "  for (const key of Object.keys(styleAttributes)) {\n",
              "    element.style[key] = styleAttributes[key];\n",
              "  }\n",
              "  return element;\n",
              "}\n",
              "\n",
              "// Max number of bytes which will be uploaded at a time.\n",
              "const MAX_PAYLOAD_SIZE = 100 * 1024;\n",
              "\n",
              "function _uploadFiles(inputId, outputId) {\n",
              "  const steps = uploadFilesStep(inputId, outputId);\n",
              "  const outputElement = document.getElementById(outputId);\n",
              "  // Cache steps on the outputElement to make it available for the next call\n",
              "  // to uploadFilesContinue from Python.\n",
              "  outputElement.steps = steps;\n",
              "\n",
              "  return _uploadFilesContinue(outputId);\n",
              "}\n",
              "\n",
              "// This is roughly an async generator (not supported in the browser yet),\n",
              "// where there are multiple asynchronous steps and the Python side is going\n",
              "// to poll for completion of each step.\n",
              "// This uses a Promise to block the python side on completion of each step,\n",
              "// then passes the result of the previous step as the input to the next step.\n",
              "function _uploadFilesContinue(outputId) {\n",
              "  const outputElement = document.getElementById(outputId);\n",
              "  const steps = outputElement.steps;\n",
              "\n",
              "  const next = steps.next(outputElement.lastPromiseValue);\n",
              "  return Promise.resolve(next.value.promise).then((value) => {\n",
              "    // Cache the last promise value to make it available to the next\n",
              "    // step of the generator.\n",
              "    outputElement.lastPromiseValue = value;\n",
              "    return next.value.response;\n",
              "  });\n",
              "}\n",
              "\n",
              "/**\n",
              " * Generator function which is called between each async step of the upload\n",
              " * process.\n",
              " * @param {string} inputId Element ID of the input file picker element.\n",
              " * @param {string} outputId Element ID of the output display.\n",
              " * @return {!Iterable<!Object>} Iterable of next steps.\n",
              " */\n",
              "function* uploadFilesStep(inputId, outputId) {\n",
              "  const inputElement = document.getElementById(inputId);\n",
              "  inputElement.disabled = false;\n",
              "\n",
              "  const outputElement = document.getElementById(outputId);\n",
              "  outputElement.innerHTML = '';\n",
              "\n",
              "  const pickedPromise = new Promise((resolve) => {\n",
              "    inputElement.addEventListener('change', (e) => {\n",
              "      resolve(e.target.files);\n",
              "    });\n",
              "  });\n",
              "\n",
              "  const cancel = document.createElement('button');\n",
              "  inputElement.parentElement.appendChild(cancel);\n",
              "  cancel.textContent = 'Cancel upload';\n",
              "  const cancelPromise = new Promise((resolve) => {\n",
              "    cancel.onclick = () => {\n",
              "      resolve(null);\n",
              "    };\n",
              "  });\n",
              "\n",
              "  // Wait for the user to pick the files.\n",
              "  const files = yield {\n",
              "    promise: Promise.race([pickedPromise, cancelPromise]),\n",
              "    response: {\n",
              "      action: 'starting',\n",
              "    }\n",
              "  };\n",
              "\n",
              "  cancel.remove();\n",
              "\n",
              "  // Disable the input element since further picks are not allowed.\n",
              "  inputElement.disabled = true;\n",
              "\n",
              "  if (!files) {\n",
              "    return {\n",
              "      response: {\n",
              "        action: 'complete',\n",
              "      }\n",
              "    };\n",
              "  }\n",
              "\n",
              "  for (const file of files) {\n",
              "    const li = document.createElement('li');\n",
              "    li.append(span(file.name, {fontWeight: 'bold'}));\n",
              "    li.append(span(\n",
              "        `(${file.type || 'n/a'}) - ${file.size} bytes, ` +\n",
              "        `last modified: ${\n",
              "            file.lastModifiedDate ? file.lastModifiedDate.toLocaleDateString() :\n",
              "                                    'n/a'} - `));\n",
              "    const percent = span('0% done');\n",
              "    li.appendChild(percent);\n",
              "\n",
              "    outputElement.appendChild(li);\n",
              "\n",
              "    const fileDataPromise = new Promise((resolve) => {\n",
              "      const reader = new FileReader();\n",
              "      reader.onload = (e) => {\n",
              "        resolve(e.target.result);\n",
              "      };\n",
              "      reader.readAsArrayBuffer(file);\n",
              "    });\n",
              "    // Wait for the data to be ready.\n",
              "    let fileData = yield {\n",
              "      promise: fileDataPromise,\n",
              "      response: {\n",
              "        action: 'continue',\n",
              "      }\n",
              "    };\n",
              "\n",
              "    // Use a chunked sending to avoid message size limits. See b/62115660.\n",
              "    let position = 0;\n",
              "    do {\n",
              "      const length = Math.min(fileData.byteLength - position, MAX_PAYLOAD_SIZE);\n",
              "      const chunk = new Uint8Array(fileData, position, length);\n",
              "      position += length;\n",
              "\n",
              "      const base64 = btoa(String.fromCharCode.apply(null, chunk));\n",
              "      yield {\n",
              "        response: {\n",
              "          action: 'append',\n",
              "          file: file.name,\n",
              "          data: base64,\n",
              "        },\n",
              "      };\n",
              "\n",
              "      let percentDone = fileData.byteLength === 0 ?\n",
              "          100 :\n",
              "          Math.round((position / fileData.byteLength) * 100);\n",
              "      percent.textContent = `${percentDone}% done`;\n",
              "\n",
              "    } while (position < fileData.byteLength);\n",
              "  }\n",
              "\n",
              "  // All done.\n",
              "  yield {\n",
              "    response: {\n",
              "      action: 'complete',\n",
              "    }\n",
              "  };\n",
              "}\n",
              "\n",
              "scope.google = scope.google || {};\n",
              "scope.google.colab = scope.google.colab || {};\n",
              "scope.google.colab._files = {\n",
              "  _uploadFiles,\n",
              "  _uploadFilesContinue,\n",
              "};\n",
              "})(self);\n",
              "</script> "
            ]
          },
          "metadata": {}
        },
        {
          "output_type": "stream",
          "name": "stdout",
          "text": [
            "Saving 2019.csv to 2019.csv\n"
          ]
        }
      ],
      "source": [
        "import numpy as np\n",
        "import pandas as pd\n",
        "import seaborn as sns\n",
        "from pylab import rcParams\n",
        "import matplotlib.pyplot as plt\n",
        "from matplotlib import rc\n",
        "\n",
        "%matplotlib inline\n",
        "rcParams['figure.figsize'] = 12, 6\n",
        "\n",
        "\n",
        "from sklearn.model_selection import train_test_split\n",
        "from sklearn.preprocessing import MinMaxScaler\n",
        "\n",
        "# for download dataset\n",
        "\n",
        "from google.colab import files\n",
        "uploaded = files.upload()\n",
        "\n",
        "import io\n",
        "\n",
        "\n"
      ]
    },
    {
      "cell_type": "markdown",
      "id": "d612bd8a",
      "metadata": {
        "id": "d612bd8a"
      },
      "source": [
        "1. Зчитайте дані за допомогою pandas у змінну `df`."
      ]
    },
    {
      "cell_type": "code",
      "execution_count": 40,
      "id": "ca3aeea7",
      "metadata": {
        "id": "ca3aeea7",
        "colab": {
          "base_uri": "https://localhost:8080/"
        },
        "outputId": "64168047-26fa-4f55-ef04-dd5c182db9d0"
      },
      "outputs": [
        {
          "output_type": "stream",
          "name": "stdout",
          "text": [
            "<class 'pandas.core.frame.DataFrame'>\n",
            "RangeIndex: 156 entries, 0 to 155\n",
            "Data columns (total 9 columns):\n",
            " #   Column                        Non-Null Count  Dtype  \n",
            "---  ------                        --------------  -----  \n",
            " 0   Overall rank                  156 non-null    int64  \n",
            " 1   Country or region             156 non-null    object \n",
            " 2   Score                         156 non-null    float64\n",
            " 3   GDP per capita                156 non-null    float64\n",
            " 4   Social support                156 non-null    float64\n",
            " 5   Healthy life expectancy       156 non-null    float64\n",
            " 6   Freedom to make life choices  156 non-null    float64\n",
            " 7   Generosity                    156 non-null    float64\n",
            " 8   Perceptions of corruption     156 non-null    float64\n",
            "dtypes: float64(7), int64(1), object(1)\n",
            "memory usage: 11.1+ KB\n"
          ]
        }
      ],
      "source": [
        "df = pd.read_csv(io.BytesIO(uploaded['2019.csv']))\n",
        "df.info()"
      ]
    },
    {
      "cell_type": "markdown",
      "id": "2b3cce20",
      "metadata": {
        "ExecuteTime": {
          "end_time": "2021-10-14T17:21:00.884611Z",
          "start_time": "2021-10-14T17:21:00.881566Z"
        },
        "id": "2b3cce20"
      },
      "source": [
        "2. Виведіть діаграму розсіювання ознак `Score` та `GDP per capita`, використовуючи метод `regplot()` з `seaborn`."
      ]
    },
    {
      "cell_type": "code",
      "execution_count": 43,
      "id": "fa1a32b9",
      "metadata": {
        "id": "fa1a32b9",
        "colab": {
          "base_uri": "https://localhost:8080/",
          "height": 565
        },
        "outputId": "f8c44337-dc00-42cb-fb0a-5594d6a86139"
      },
      "outputs": [
        {
          "output_type": "execute_result",
          "data": {
            "text/plain": [
              "<Axes: xlabel='GDP per capita', ylabel='Score'>"
            ]
          },
          "metadata": {},
          "execution_count": 43
        },
        {
          "output_type": "display_data",
          "data": {
            "text/plain": [
              "<Figure size 1200x600 with 1 Axes>"
            ],
            "image/png": "[encoded data removed]"
          },
          "metadata": {}
        }
      ],
      "source": [
        "# x='Economy (GDP per Capita)', y='Happiness Score'\n",
        "sns.regplot(x='GDP per capita', y='Score', data=df)\n",
        "#plt.show()"
      ]
    },
    {
      "cell_type": "markdown",
      "id": "fe20c4f7",
      "metadata": {
        "id": "fe20c4f7"
      },
      "source": [
        "Ми моделюватимемо цю залежність. Тобто незалежною змінною є `GDP per capita`, залежною `Score`. Судячи з діаграми розсіювання, залежність між цими двома змінними має добре описуватись лінійною моделлю."
      ]
    },
    {
      "cell_type": "markdown",
      "id": "fac2b15e",
      "metadata": {
        "id": "fac2b15e"
      },
      "source": [
        "## Розв'язання задачі лінійної регресії методом градієнтного спуску"
      ]
    },
    {
      "cell_type": "markdown",
      "id": "c5f7382a",
      "metadata": {
        "id": "c5f7382a"
      },
      "source": [
        "Позначення:\n",
        "- `X` - матриця ознак\n",
        "- `y` - цільова змінна\n",
        "- `theta` - вектор параметрів\n",
        "- `alpha` - темп навчання (learning rate)"
      ]
    },
    {
      "cell_type": "markdown",
      "id": "b0820ce0",
      "metadata": {
        "ExecuteTime": {
          "end_time": "2021-10-08T14:31:44.843127Z",
          "start_time": "2021-10-08T14:31:44.839958Z"
        },
        "id": "b0820ce0"
      },
      "source": [
        "<font color='blue'>**[Optional]**</font> 3. Реалізуйте формулу передбачення лінійної регресії у методі `predict`. Метод повертає передбачення. Нагадаю, що для кожного спостереження з матриці ознак передбачення знаходимо за допомогою наступної формули:\n",
        "$$x \\in X, i \\in [1,m], j : \\\\ \\hat{y}_i = \\theta_0 + \\theta_1 x_1 + ... + \\theta_n x_n = \\theta^T x ,\\\\\n",
        "\\text{де m - кількість спостережень, } \\\\\n",
        "\\text{n - кількість ознак, } \\\\\n",
        "x_0 = 1 \\ \\text{для всіх спостережень}.\n",
        "$$\n",
        "\n",
        "Передбачення всіх спостережень у матриці Х можемо знайти як множення матриці ознак на ваги."
      ]
    },
    {
      "cell_type": "code",
      "execution_count": null,
      "id": "a9f34e8f",
      "metadata": {
        "ExecuteTime": {
          "end_time": "2021-10-08T14:30:30.020347Z",
          "start_time": "2021-10-08T14:30:30.017723Z"
        },
        "id": "a9f34e8f"
      },
      "outputs": [],
      "source": [
        "def predict(X, theta):\n",
        "    prediction = ...\n",
        "    return prediction"
      ]
    },
    {
      "cell_type": "markdown",
      "id": "dc68bc0e",
      "metadata": {
        "id": "dc68bc0e"
      },
      "source": [
        "<font color='blue'>**[Optional]**</font> 4. Доповніть обчислення значення функції витрат, формула якої наведена в слайдах лекції про лінійну регресію (підказка - формула така сама, якби ми рахували середньоквадратичну помилку).  \n",
        "Метод `cost()` приймає вектор параметрів `theta`, матрицю наших ознак `X` та реальні значення цільової змінної `y`.\n"
      ]
    },
    {
      "cell_type": "code",
      "execution_count": null,
      "id": "b8e63ce7",
      "metadata": {
        "ExecuteTime": {
          "end_time": "2021-10-08T20:45:54.974985Z",
          "start_time": "2021-10-08T20:45:54.972316Z"
        },
        "id": "b8e63ce7"
      },
      "outputs": [],
      "source": [
        "def cost(y_true, y_estimate):\n",
        "    m = len(y_true)\n",
        "    cost_value = ... # ваш код тут\n",
        "    return cost_value"
      ]
    },
    {
      "cell_type": "markdown",
      "id": "64975088",
      "metadata": {
        "id": "64975088"
      },
      "source": [
        "<font color='blue'>**[Optional]**</font> 5. Ознайомтеся з реалізацією методу `get_gradient()`, який повертає вектор часткових похідних функції витрат за кожним із параметрів лінійної регресії.\n",
        "Доповніть метод `gradient_descent()`, який дозволить реалізувати алгоритм градієтного спуску. Під час градієнтного спуку ми оновлюємо параметри згідно з формулою:\n",
        "$$\n",
        "\\text{для кожного} \\ j \\in [0, n]: \\quad \\theta_j := \\theta_j - \\alpha \\frac{\\partial}{\\partial \\theta_j}J(\\theta), \\\\\n",
        "\\text{де n - кількість ознак}\n",
        "$$\n",
        "  Метод градієнтного спуску оновлює ваги (модель навчається) поки вони не перестануть змінюватися від ітерації до ітерації, тобто поки Евклідова відстань (звичайна відстань між веткорами, як у шкільній геометрії) між векторами ваг за останні дві ітерації не буде меншою за невелику константу (зазвичай позначається як $\\epsilon$ (епсілон), ми встановимо $\\epsilon=10^{-6}$).\n",
        "\n",
        "В `gradient_descent()` заповніть всі місця, де стоять три крапки. Використовуйте реалізовані у попередніх завданнях методи `cost()` та `predict()`, і звичайно ж Вам знадобиться метод `get_gradient()`."
      ]
    },
    {
      "cell_type": "code",
      "execution_count": null,
      "id": "6aaba898",
      "metadata": {
        "ExecuteTime": {
          "end_time": "2022-01-30T18:18:37.374720Z",
          "start_time": "2022-01-30T18:18:37.349521Z"
        },
        "id": "6aaba898"
      },
      "outputs": [],
      "source": [
        "def get_gradient(X, y, y_estimate):\n",
        "    gradient =\n",
        "    return gradient"
      ]
    },
    {
      "cell_type": "code",
      "execution_count": null,
      "id": "4062f8df",
      "metadata": {
        "ExecuteTime": {
          "end_time": "2022-01-23T14:33:36.235226Z",
          "start_time": "2022-01-23T14:33:36.199550Z"
        },
        "id": "4062f8df"
      },
      "outputs": [],
      "source": [
        "def gradient_descent(X, y, theta, learning_rate, eps, max_iterations):\n",
        "    cost_history = []\n",
        "    theta_history = []\n",
        "    iterations = 1\n",
        "    while True:\n",
        "        y_estimate = ... # передбачення з поточними значеннями вагів\n",
        "        gradient = ... # значення часткових похідних функції витрат з поточними значеннями ваг\n",
        "        cost_value = ... # значення функції витрат при поточних вагах\n",
        "        cost_history.append(cost_value)\n",
        "        new_theta = ...\n",
        "        theta_history.append(new_theta)\n",
        "        # Умова зупинки, описана в умові завдання\n",
        "        if ... < eps:\n",
        "            print(\"Алгоритм зійшовся.\")\n",
        "            break\n",
        "\n",
        "        # Друга умова зупинки\n",
        "        if iterations >= max_iterations:\n",
        "            print(\"Досягнуто максимальної кількості ітерацій\")\n",
        "            break\n",
        "\n",
        "        # Виводимо інформацію кожні 100 ітерацій\n",
        "        if iterations % 100 == 0:\n",
        "            print (\"Ітерація: %d - Помилка на трейн даних: %.4f\" % (iterations, cost_value))\n",
        "\n",
        "        iterations += 1\n",
        "        theta = new_theta\n",
        "    return theta, cost_history, theta_history, iterations\n"
      ]
    },
    {
      "cell_type": "markdown",
      "id": "2cefb83e",
      "metadata": {
        "id": "2cefb83e"
      },
      "source": [
        "Підготуємо дані."
      ]
    },
    {
      "cell_type": "code",
      "execution_count": 45,
      "id": "fdbb2770",
      "metadata": {
        "ExecuteTime": {
          "end_time": "2021-10-10T19:28:00.717047Z",
          "start_time": "2021-10-10T19:28:00.714364Z"
        },
        "id": "fdbb2770"
      },
      "outputs": [],
      "source": [
        "X = df['GDP per capita'].values.reshape(-1,1)\n",
        "y = df['Score'].values.reshape(-1,1)"
      ]
    },
    {
      "cell_type": "markdown",
      "id": "12fb7483",
      "metadata": {
        "id": "12fb7483"
      },
      "source": [
        "6. Розділіть `X` та `y` на `train` і `test` підвиборки у співвідношенні 80/20. Оскільки у нас мало даних, валідаційну вибірку не виділятимемо. Запишіть результати у `X_train`, `y_train`, `X_test`, `y_test`."
      ]
    },
    {
      "cell_type": "code",
      "source": [
        "# Розділення даних на навчальні та тестові\n",
        "X_train, X_test, y_train, y_test = train_test_split(X, y, test_size=0.20, random_state=42)\n",
        "#X_train is series\n"
      ],
      "metadata": {
        "id": "bL3PCtYRGeth"
      },
      "id": "bL3PCtYRGeth",
      "execution_count": 46,
      "outputs": []
    },
    {
      "cell_type": "markdown",
      "id": "f54c99e4",
      "metadata": {
        "id": "f54c99e4"
      },
      "source": [
        "7.Реалізуйте масштабування ознак із використанням `MinMaxScaler`. Пам'ятайте про те, як ми застосовуємо масштабування ознак на`train` та `test` вибірках."
      ]
    },
    {
      "cell_type": "code",
      "execution_count": 47,
      "id": "d2f92029",
      "metadata": {
        "id": "d2f92029"
      },
      "outputs": [],
      "source": [
        "# Створення об'єкту MinMaxScaler\n",
        "scaler = MinMaxScaler()\n",
        "\n",
        "# Масштабування навчальної вибірки\n",
        "X_train_scaled = scaler.fit_transform(X_train)\n",
        "\n",
        "# Масштабування тестової вибірки\n",
        "# ВАЖЛИВО: використовувати ті ж параметри масштабування, що й для навчальної вибірки\n",
        "X_test_scaled = scaler.transform(X_test)\n",
        "\n",
        "# Тепер X_train_scaled та X_test_scaled містять масштабовані ознаки\n"
      ]
    },
    {
      "cell_type": "markdown",
      "id": "832cd76a",
      "metadata": {
        "id": "832cd76a"
      },
      "source": [
        "<font color='blue'>**[Optional]**</font> 8. Додайте колонку з одиниць до масивів `X_train`, `X_test`."
      ]
    },
    {
      "cell_type": "code",
      "execution_count": 35,
      "id": "7722e7d4",
      "metadata": {
        "id": "7722e7d4"
      },
      "outputs": [],
      "source": [
        "# Додавання колонки з одиницями до X_train\n",
        "\n",
        "ones_train = np.ones((X_train.shape[0], 1)) # Створення колонки одиниць для кожного рядка в X_train\n",
        "X_train = np.hstack((X_train, ones_train)) # Горизонтальне з'єднання колонки з X_train\n",
        "\n",
        "# Додавання колонки з одиницями до X_test\n",
        "ones_test = np.ones((X_test.shape[0], 1)) # Створення колонки одиниць для кожного рядка в X_test\n",
        "X_test  = np.hstack((X_test, ones_test)) # Горизонтальне з'єднання колонки з X_test\n"
      ]
    },
    {
      "cell_type": "markdown",
      "id": "bf927241",
      "metadata": {
        "id": "bf927241"
      },
      "source": [
        "<font color='blue'>**[Optional]**</font> 9. Встановіть темп навчання рівний 0.01, точність епсілон рівний $10^{-6}$, кількість ітерацій дорівнює 20000 і запустіть градієнтний спуск на тренувальні дані, передавши всі необхідні параметри."
      ]
    },
    {
      "cell_type": "code",
      "execution_count": null,
      "id": "ed756079",
      "metadata": {
        "ExecuteTime": {
          "end_time": "2021-10-08T20:20:00.992990Z",
          "start_time": "2021-10-08T20:20:00.989771Z"
        },
        "id": "ed756079"
      },
      "outputs": [],
      "source": [
        "learning_rate = ...\n",
        "max_iterations = ...\n",
        "epsilon = ...\n",
        "\n",
        "theta = np.random.randn(2,1)\n",
        "\n",
        "theta, cost_history, theta_history, iterations = gradient_descent(...)"
      ]
    },
    {
      "cell_type": "markdown",
      "id": "763cd65b",
      "metadata": {
        "id": "763cd65b"
      },
      "source": [
        "<font color='blue'>**[Optional]**</font> 10. Відобразіть на лінійному графіку значення змінної `cost_history`. Використовуйте будь-яку бібліотеку для візуалізації на вибір."
      ]
    },
    {
      "cell_type": "code",
      "execution_count": null,
      "id": "9bdacbfa",
      "metadata": {
        "id": "9bdacbfa"
      },
      "outputs": [],
      "source": []
    },
    {
      "cell_type": "markdown",
      "id": "f25e7b8e",
      "metadata": {
        "ExecuteTime": {
          "end_time": "2021-10-08T14:56:41.741952Z",
          "start_time": "2021-10-08T14:56:41.738456Z"
        },
        "id": "f25e7b8e"
      },
      "source": [
        "Відобразіть лише перші 200 ітерацій. Схоже, що після них модель мало навчається. Ми могли б застосувати техніку early stopping у даному випадку та зупинитися на деякій невеликій кількості ітерацій. Зазвичай ця техніка застосовується, щоб уникнути перенавчання. При цьому втрачається трохи точності на train set."
      ]
    },
    {
      "cell_type": "code",
      "execution_count": null,
      "id": "3a96588e",
      "metadata": {
        "ExecuteTime": {
          "end_time": "2022-01-30T18:20:36.325570Z",
          "start_time": "2022-01-30T18:20:36.209097Z"
        },
        "id": "3a96588e"
      },
      "outputs": [],
      "source": []
    },
    {
      "cell_type": "markdown",
      "id": "1b03a7de",
      "metadata": {
        "id": "1b03a7de"
      },
      "source": [
        "Виведемо отримані параметри та останнє значення функції витрат."
      ]
    },
    {
      "cell_type": "code",
      "execution_count": null,
      "id": "a4b599fc",
      "metadata": {
        "ExecuteTime": {
          "end_time": "2021-10-08T20:48:05.893974Z",
          "start_time": "2021-10-08T20:48:05.890650Z"
        },
        "id": "a4b599fc"
      },
      "outputs": [],
      "source": [
        "print('Theta0:          {:0.3f},\\nTheta1:          {:0.3f}'.format(theta[0][-1],theta[1][-1]))\n",
        "print('Final cost/MSE:  {:0.3f}'.format(cost_history[-1]))\n",
        "print('Number of iterateions: {:d}'.format(iterations))"
      ]
    },
    {
      "cell_type": "markdown",
      "id": "4b900aa2",
      "metadata": {
        "id": "4b900aa2"
      },
      "source": [
        "<font color='blue'>**[Optional]**</font> 11. Знайдіть прогнози на `X_train`, `X_test` та порахуйте `mean_squared_error` помилку прогнозів обох підвибірках."
      ]
    },
    {
      "cell_type": "code",
      "execution_count": null,
      "id": "92c350ea",
      "metadata": {
        "id": "92c350ea"
      },
      "outputs": [],
      "source": []
    },
    {
      "cell_type": "markdown",
      "id": "e5de21d1",
      "metadata": {
        "ExecuteTime": {
          "end_time": "2021-10-08T15:02:52.150262Z",
          "start_time": "2021-10-08T15:02:52.146946Z"
        },
        "id": "e5de21d1"
      },
      "source": [
        "<font color='blue'>**[Optional]**</font> 12. Виведіть діаграму розсіювання ознак `Score` та `GDP per capita` та додайте лінію прогнозу моделі."
      ]
    },
    {
      "cell_type": "code",
      "execution_count": null,
      "id": "5a53e725",
      "metadata": {
        "id": "5a53e725"
      },
      "outputs": [],
      "source": []
    },
    {
      "cell_type": "markdown",
      "id": "7c55cead",
      "metadata": {
        "id": "7c55cead"
      },
      "source": [
        "13. Навчіть лінійну регресію на наборі даних, що складається тільки з ознаки `GDP per capita`, але тепер використовуючи LinearRegression з sklearn.   \n",
        "Подумайте, чи треба в sklearn модель подавати стовпчик з одиниць, яку ми подавали в самописну модель."
      ]
    },
    {
      "cell_type": "code",
      "execution_count": 48,
      "id": "cc1fd861",
      "metadata": {
        "id": "cc1fd861",
        "colab": {
          "base_uri": "https://localhost:8080/"
        },
        "outputId": "1a945a8c-8862-4d24-edcc-6181899de9d0"
      },
      "outputs": [
        {
          "output_type": "execute_result",
          "data": {
            "text/plain": [
              "0.5119632343226919"
            ]
          },
          "metadata": {},
          "execution_count": 48
        }
      ],
      "source": [
        "from sklearn.model_selection import train_test_split\n",
        "from sklearn.linear_model import LinearRegression\n",
        "\n",
        "# Створення екземпляра LinearRegression\n",
        "model = LinearRegression()\n",
        "\n",
        "# Навчання моделі\n",
        "model.fit(X_train, y_train)\n",
        "\n",
        "# Оцінювання моделі (опціонально)\n",
        "model.score(X_test, y_test)\n"
      ]
    },
    {
      "cell_type": "markdown",
      "id": "9ff8707d",
      "metadata": {
        "id": "9ff8707d"
      },
      "source": [
        "Порівняйте помилку на тестовій вибірці лінійної регресії, написаної вами, та зі sklearn. Чи є різниця у значеннях?"
      ]
    },
    {
      "cell_type": "code",
      "execution_count": null,
      "id": "e86662ec",
      "metadata": {
        "id": "e86662ec"
      },
      "outputs": [],
      "source": []
    },
    {
      "cell_type": "code",
      "source": [
        "#define metrics\n",
        "def get_metrics(y_true, y_predicted, n_digits=5):\n",
        "    params = dict(y_true=y_true, y_pred=y_predicted)\n",
        "    mse = mean_squared_error(**params)\n",
        "    rmse = mean_squared_error(**params, squared=False)\n",
        "    return dict(mse=round(mse, n_digits), rmse=round(rmse, n_digits))"
      ],
      "metadata": {
        "id": "HPKlDz88vunZ"
      },
      "id": "HPKlDz88vunZ",
      "execution_count": 69,
      "outputs": []
    },
    {
      "cell_type": "markdown",
      "id": "61e8299b",
      "metadata": {
        "id": "61e8299b"
      },
      "source": [
        "14. Навчимо лінійну регресію на більшій кількості ознак і подивимося, чи вдасться покращити модель."
      ]
    },
    {
      "cell_type": "code",
      "source": [
        "df.info()"
      ],
      "metadata": {
        "colab": {
          "base_uri": "https://localhost:8080/"
        },
        "id": "9MhXTEcQxynt",
        "outputId": "d70f4580-e5dc-4231-b870-9a52982a330d"
      },
      "id": "9MhXTEcQxynt",
      "execution_count": 50,
      "outputs": [
        {
          "output_type": "stream",
          "name": "stdout",
          "text": [
            "<class 'pandas.core.frame.DataFrame'>\n",
            "RangeIndex: 156 entries, 0 to 155\n",
            "Data columns (total 9 columns):\n",
            " #   Column                        Non-Null Count  Dtype  \n",
            "---  ------                        --------------  -----  \n",
            " 0   Overall rank                  156 non-null    int64  \n",
            " 1   Country or region             156 non-null    object \n",
            " 2   Score                         156 non-null    float64\n",
            " 3   GDP per capita                156 non-null    float64\n",
            " 4   Social support                156 non-null    float64\n",
            " 5   Healthy life expectancy       156 non-null    float64\n",
            " 6   Freedom to make life choices  156 non-null    float64\n",
            " 7   Generosity                    156 non-null    float64\n",
            " 8   Perceptions of corruption     156 non-null    float64\n",
            "dtypes: float64(7), int64(1), object(1)\n",
            "memory usage: 11.1+ KB\n"
          ]
        }
      ]
    },
    {
      "cell_type": "markdown",
      "id": "a4e10ab5",
      "metadata": {
        "ExecuteTime": {
          "end_time": "2021-10-14T16:54:08.159686Z",
          "start_time": "2021-10-14T16:54:08.152242Z"
        },
        "id": "a4e10ab5"
      },
      "source": [
        "14.1 Навчіть лінійну регресію з sklearn використовуючи як набор ознак наступний: `GDP per capita`, `Social support`, `Healthy life expectancy`, `Freedom to make life choices`, `Generosity`, `Perceptions of corruption`\n",
        "\n",
        "Не забудьте:  \n",
        "1. Розділити `train` та `test`.\n",
        "2. Нормувати кожну колонку даних."
      ]
    },
    {
      "cell_type": "code",
      "execution_count": 37,
      "id": "69958ca9",
      "metadata": {
        "id": "69958ca9"
      },
      "outputs": [],
      "source": [
        "def get_indices(X):\n",
        "    train_id, test_id = train_test_split(X.index, test_size=test_size, shuffle=True, random_state=42)\n",
        "    return train_id, test_id"
      ]
    },
    {
      "cell_type": "code",
      "source": [
        "X = df.drop(['Score'],axis=1)\n",
        "y = df['Score']\n",
        "X = X.drop(['Country or region'], axis=1)\n",
        "\n",
        "X_train, X_test, y_train, y_test = train_test_split(X, y, test_size=0.20, random_state=42)\n",
        "\n",
        "# Створення об'єкту MinMaxScaler\n",
        "scaler = MinMaxScaler()\n",
        "\n",
        "# Масштабування навчальної вибірки\n",
        "X_train_scaled = scaler.fit_transform(X_train)\n",
        "\n",
        "# Масштабування тестової вибірки\n",
        "# ВАЖЛИВО: використовувати ті ж параметри масштабування, що й для навчальної вибірки\n",
        "X_test_scaled = scaler.transform(X_test)\n",
        "\n",
        "# Тепер X_train_scaled та X_test_scaled містять масштабовані ознаки\n",
        "\n",
        "#X_train_scaled"
      ],
      "metadata": {
        "id": "vXhXtyHTxiqy"
      },
      "id": "vXhXtyHTxiqy",
      "execution_count": null,
      "outputs": []
    },
    {
      "cell_type": "markdown",
      "id": "8d8e3625",
      "metadata": {
        "id": "8d8e3625"
      },
      "source": [
        "14.2 Виведіть помилку прогнозу на `train` та `test` вибірках. Порівняйте з результатом, отриманим під час навчання однією ознакою. Чи змінилися метрики?"
      ]
    },
    {
      "cell_type": "code",
      "execution_count": 64,
      "id": "95591a90",
      "metadata": {
        "id": "95591a90"
      },
      "outputs": [],
      "source": [
        "test_size = 0.2\n",
        "\n",
        "train_id, test_id = get_indices(X)"
      ]
    },
    {
      "cell_type": "code",
      "source": [
        "X.loc[train_id].shape, X.loc[test_id].shape"
      ],
      "metadata": {
        "colab": {
          "base_uri": "https://localhost:8080/"
        },
        "id": "TPIdXPJa1TVe",
        "outputId": "6300b34f-56f6-40a4-80de-8ce2fe2a2c99"
      },
      "id": "TPIdXPJa1TVe",
      "execution_count": 65,
      "outputs": [
        {
          "output_type": "execute_result",
          "data": {
            "text/plain": [
              "((124, 7), (32, 7))"
            ]
          },
          "metadata": {},
          "execution_count": 65
        }
      ]
    },
    {
      "cell_type": "code",
      "source": [
        "lr = LinearRegression()\n",
        "\n",
        "lr.fit(X.loc[train_id], y.loc[train_id])\n",
        "\n",
        "lr.n_features_in_"
      ],
      "metadata": {
        "colab": {
          "base_uri": "https://localhost:8080/"
        },
        "id": "Q5jd9NHV1c32",
        "outputId": "8a2e6d24-e8bb-4a9c-b92a-65e0e0f7f8e6"
      },
      "id": "Q5jd9NHV1c32",
      "execution_count": 66,
      "outputs": [
        {
          "output_type": "execute_result",
          "data": {
            "text/plain": [
              "7"
            ]
          },
          "metadata": {},
          "execution_count": 66
        }
      ]
    },
    {
      "cell_type": "code",
      "source": [
        "y_train_pred = lr.predict(X.loc[train_id])\n",
        "y_test_pred = lr.predict(X.loc[test_id])"
      ],
      "metadata": {
        "id": "lo55eta01htU"
      },
      "id": "lo55eta01htU",
      "execution_count": 67,
      "outputs": []
    },
    {
      "cell_type": "code",
      "source": [
        "get_metrics(y.loc[train_id], y_train_pred)"
      ],
      "metadata": {
        "colab": {
          "base_uri": "https://localhost:8080/",
          "height": 315
        },
        "id": "iWchHReh1vgs",
        "outputId": "239b867b-b2c0-4261-a724-6999bf56af75"
      },
      "id": "iWchHReh1vgs",
      "execution_count": 70,
      "outputs": [
        {
          "output_type": "error",
          "ename": "NameError",
          "evalue": "name 'mean_squared_error' is not defined",
          "traceback": [
            "\u001b[0;31m---------------------------------------------------------------------------\u001b[0m",
            "\u001b[0;31mNameError\u001b[0m                                 Traceback (most recent call last)",
            "\u001b[0;32m<ipython-input-70-fb042b50ff52>\u001b[0m in \u001b[0;36m<cell line: 1>\u001b[0;34m()\u001b[0m\n\u001b[0;32m----> 1\u001b[0;31m \u001b[0mget_metrics\u001b[0m\u001b[0;34m(\u001b[0m\u001b[0my\u001b[0m\u001b[0;34m.\u001b[0m\u001b[0mloc\u001b[0m\u001b[0;34m[\u001b[0m\u001b[0mtrain_id\u001b[0m\u001b[0;34m]\u001b[0m\u001b[0;34m,\u001b[0m \u001b[0my_train_pred\u001b[0m\u001b[0;34m)\u001b[0m\u001b[0;34m\u001b[0m\u001b[0;34m\u001b[0m\u001b[0m\n\u001b[0m",
            "\u001b[0;32m<ipython-input-69-50edee9d009e>\u001b[0m in \u001b[0;36mget_metrics\u001b[0;34m(y_true, y_predicted, n_digits)\u001b[0m\n\u001b[1;32m      2\u001b[0m \u001b[0;32mdef\u001b[0m \u001b[0mget_metrics\u001b[0m\u001b[0;34m(\u001b[0m\u001b[0my_true\u001b[0m\u001b[0;34m,\u001b[0m \u001b[0my_predicted\u001b[0m\u001b[0;34m,\u001b[0m \u001b[0mn_digits\u001b[0m\u001b[0;34m=\u001b[0m\u001b[0;36m5\u001b[0m\u001b[0;34m)\u001b[0m\u001b[0;34m:\u001b[0m\u001b[0;34m\u001b[0m\u001b[0;34m\u001b[0m\u001b[0m\n\u001b[1;32m      3\u001b[0m     \u001b[0mparams\u001b[0m \u001b[0;34m=\u001b[0m \u001b[0mdict\u001b[0m\u001b[0;34m(\u001b[0m\u001b[0my_true\u001b[0m\u001b[0;34m=\u001b[0m\u001b[0my_true\u001b[0m\u001b[0;34m,\u001b[0m \u001b[0my_pred\u001b[0m\u001b[0;34m=\u001b[0m\u001b[0my_predicted\u001b[0m\u001b[0;34m)\u001b[0m\u001b[0;34m\u001b[0m\u001b[0;34m\u001b[0m\u001b[0m\n\u001b[0;32m----> 4\u001b[0;31m     \u001b[0mmse\u001b[0m \u001b[0;34m=\u001b[0m \u001b[0mmean_squared_error\u001b[0m\u001b[0;34m(\u001b[0m\u001b[0;34m**\u001b[0m\u001b[0mparams\u001b[0m\u001b[0;34m)\u001b[0m\u001b[0;34m\u001b[0m\u001b[0;34m\u001b[0m\u001b[0m\n\u001b[0m\u001b[1;32m      5\u001b[0m     \u001b[0mrmse\u001b[0m \u001b[0;34m=\u001b[0m \u001b[0mmean_squared_error\u001b[0m\u001b[0;34m(\u001b[0m\u001b[0;34m**\u001b[0m\u001b[0mparams\u001b[0m\u001b[0;34m,\u001b[0m \u001b[0msquared\u001b[0m\u001b[0;34m=\u001b[0m\u001b[0;32mFalse\u001b[0m\u001b[0;34m)\u001b[0m\u001b[0;34m\u001b[0m\u001b[0;34m\u001b[0m\u001b[0m\n\u001b[1;32m      6\u001b[0m     \u001b[0;32mreturn\u001b[0m \u001b[0mdict\u001b[0m\u001b[0;34m(\u001b[0m\u001b[0mmse\u001b[0m\u001b[0;34m=\u001b[0m\u001b[0mround\u001b[0m\u001b[0;34m(\u001b[0m\u001b[0mmse\u001b[0m\u001b[0;34m,\u001b[0m \u001b[0mn_digits\u001b[0m\u001b[0;34m)\u001b[0m\u001b[0;34m,\u001b[0m \u001b[0mrmse\u001b[0m\u001b[0;34m=\u001b[0m\u001b[0mround\u001b[0m\u001b[0;34m(\u001b[0m\u001b[0mrmse\u001b[0m\u001b[0;34m,\u001b[0m \u001b[0mn_digits\u001b[0m\u001b[0;34m)\u001b[0m\u001b[0;34m)\u001b[0m\u001b[0;34m\u001b[0m\u001b[0;34m\u001b[0m\u001b[0m\n",
            "\u001b[0;31mNameError\u001b[0m: name 'mean_squared_error' is not defined"
          ]
        }
      ]
    },
    {
      "cell_type": "code",
      "source": [
        "get_metrics(y.loc[train_id], y_train_pred)"
      ],
      "metadata": {
        "colab": {
          "base_uri": "https://localhost:8080/",
          "height": 315
        },
        "id": "biWVZnnS1_uM",
        "outputId": "c332516f-fc0a-4dd8-9a34-8cd4bbd0f59f"
      },
      "id": "biWVZnnS1_uM",
      "execution_count": 71,
      "outputs": [
        {
          "output_type": "error",
          "ename": "NameError",
          "evalue": "name 'mean_squared_error' is not defined",
          "traceback": [
            "\u001b[0;31m---------------------------------------------------------------------------\u001b[0m",
            "\u001b[0;31mNameError\u001b[0m                                 Traceback (most recent call last)",
            "\u001b[0;32m<ipython-input-71-fb042b50ff52>\u001b[0m in \u001b[0;36m<cell line: 1>\u001b[0;34m()\u001b[0m\n\u001b[0;32m----> 1\u001b[0;31m \u001b[0mget_metrics\u001b[0m\u001b[0;34m(\u001b[0m\u001b[0my\u001b[0m\u001b[0;34m.\u001b[0m\u001b[0mloc\u001b[0m\u001b[0;34m[\u001b[0m\u001b[0mtrain_id\u001b[0m\u001b[0;34m]\u001b[0m\u001b[0;34m,\u001b[0m \u001b[0my_train_pred\u001b[0m\u001b[0;34m)\u001b[0m\u001b[0;34m\u001b[0m\u001b[0;34m\u001b[0m\u001b[0m\n\u001b[0m",
            "\u001b[0;32m<ipython-input-69-50edee9d009e>\u001b[0m in \u001b[0;36mget_metrics\u001b[0;34m(y_true, y_predicted, n_digits)\u001b[0m\n\u001b[1;32m      2\u001b[0m \u001b[0;32mdef\u001b[0m \u001b[0mget_metrics\u001b[0m\u001b[0;34m(\u001b[0m\u001b[0my_true\u001b[0m\u001b[0;34m,\u001b[0m \u001b[0my_predicted\u001b[0m\u001b[0;34m,\u001b[0m \u001b[0mn_digits\u001b[0m\u001b[0;34m=\u001b[0m\u001b[0;36m5\u001b[0m\u001b[0;34m)\u001b[0m\u001b[0;34m:\u001b[0m\u001b[0;34m\u001b[0m\u001b[0;34m\u001b[0m\u001b[0m\n\u001b[1;32m      3\u001b[0m     \u001b[0mparams\u001b[0m \u001b[0;34m=\u001b[0m \u001b[0mdict\u001b[0m\u001b[0;34m(\u001b[0m\u001b[0my_true\u001b[0m\u001b[0;34m=\u001b[0m\u001b[0my_true\u001b[0m\u001b[0;34m,\u001b[0m \u001b[0my_pred\u001b[0m\u001b[0;34m=\u001b[0m\u001b[0my_predicted\u001b[0m\u001b[0;34m)\u001b[0m\u001b[0;34m\u001b[0m\u001b[0;34m\u001b[0m\u001b[0m\n\u001b[0;32m----> 4\u001b[0;31m     \u001b[0mmse\u001b[0m \u001b[0;34m=\u001b[0m \u001b[0mmean_squared_error\u001b[0m\u001b[0;34m(\u001b[0m\u001b[0;34m**\u001b[0m\u001b[0mparams\u001b[0m\u001b[0;34m)\u001b[0m\u001b[0;34m\u001b[0m\u001b[0;34m\u001b[0m\u001b[0m\n\u001b[0m\u001b[1;32m      5\u001b[0m     \u001b[0mrmse\u001b[0m \u001b[0;34m=\u001b[0m \u001b[0mmean_squared_error\u001b[0m\u001b[0;34m(\u001b[0m\u001b[0;34m**\u001b[0m\u001b[0mparams\u001b[0m\u001b[0;34m,\u001b[0m \u001b[0msquared\u001b[0m\u001b[0;34m=\u001b[0m\u001b[0;32mFalse\u001b[0m\u001b[0;34m)\u001b[0m\u001b[0;34m\u001b[0m\u001b[0;34m\u001b[0m\u001b[0m\n\u001b[1;32m      6\u001b[0m     \u001b[0;32mreturn\u001b[0m \u001b[0mdict\u001b[0m\u001b[0;34m(\u001b[0m\u001b[0mmse\u001b[0m\u001b[0;34m=\u001b[0m\u001b[0mround\u001b[0m\u001b[0;34m(\u001b[0m\u001b[0mmse\u001b[0m\u001b[0;34m,\u001b[0m \u001b[0mn_digits\u001b[0m\u001b[0;34m)\u001b[0m\u001b[0;34m,\u001b[0m \u001b[0mrmse\u001b[0m\u001b[0;34m=\u001b[0m\u001b[0mround\u001b[0m\u001b[0;34m(\u001b[0m\u001b[0mrmse\u001b[0m\u001b[0;34m,\u001b[0m \u001b[0mn_digits\u001b[0m\u001b[0;34m)\u001b[0m\u001b[0;34m)\u001b[0m\u001b[0;34m\u001b[0m\u001b[0;34m\u001b[0m\u001b[0m\n",
            "\u001b[0;31mNameError\u001b[0m: name 'mean_squared_error' is not defined"
          ]
        }
      ]
    },
    {
      "cell_type": "code",
      "source": [
        "plt.figure(figsize=(8,8))\n",
        "sns.regplot(x=y.loc[train_id], y=y_train_pred, label='train')\n",
        "sns.regplot(x=y.loc[test_id], y=y_test_pred, label='test')\n",
        "plt.ylabel(f'{target_col_name} pred')\n",
        "plt.legend();"
      ],
      "metadata": {
        "colab": {
          "base_uri": "https://localhost:8080/",
          "height": 919
        },
        "id": "cb-H5kLv2Fn-",
        "outputId": "61bb81d4-c3bf-47dd-a536-50837480b66c"
      },
      "id": "cb-H5kLv2Fn-",
      "execution_count": 72,
      "outputs": [
        {
          "output_type": "error",
          "ename": "NameError",
          "evalue": "name 'target_col_name' is not defined",
          "traceback": [
            "\u001b[0;31m---------------------------------------------------------------------------\u001b[0m",
            "\u001b[0;31mNameError\u001b[0m                                 Traceback (most recent call last)",
            "\u001b[0;32m<ipython-input-72-64553c7cfd55>\u001b[0m in \u001b[0;36m<cell line: 4>\u001b[0;34m()\u001b[0m\n\u001b[1;32m      2\u001b[0m \u001b[0msns\u001b[0m\u001b[0;34m.\u001b[0m\u001b[0mregplot\u001b[0m\u001b[0;34m(\u001b[0m\u001b[0mx\u001b[0m\u001b[0;34m=\u001b[0m\u001b[0my\u001b[0m\u001b[0;34m.\u001b[0m\u001b[0mloc\u001b[0m\u001b[0;34m[\u001b[0m\u001b[0mtrain_id\u001b[0m\u001b[0;34m]\u001b[0m\u001b[0;34m,\u001b[0m \u001b[0my\u001b[0m\u001b[0;34m=\u001b[0m\u001b[0my_train_pred\u001b[0m\u001b[0;34m,\u001b[0m \u001b[0mlabel\u001b[0m\u001b[0;34m=\u001b[0m\u001b[0;34m'train'\u001b[0m\u001b[0;34m)\u001b[0m\u001b[0;34m\u001b[0m\u001b[0;34m\u001b[0m\u001b[0m\n\u001b[1;32m      3\u001b[0m \u001b[0msns\u001b[0m\u001b[0;34m.\u001b[0m\u001b[0mregplot\u001b[0m\u001b[0;34m(\u001b[0m\u001b[0mx\u001b[0m\u001b[0;34m=\u001b[0m\u001b[0my\u001b[0m\u001b[0;34m.\u001b[0m\u001b[0mloc\u001b[0m\u001b[0;34m[\u001b[0m\u001b[0mtest_id\u001b[0m\u001b[0;34m]\u001b[0m\u001b[0;34m,\u001b[0m \u001b[0my\u001b[0m\u001b[0;34m=\u001b[0m\u001b[0my_test_pred\u001b[0m\u001b[0;34m,\u001b[0m \u001b[0mlabel\u001b[0m\u001b[0;34m=\u001b[0m\u001b[0;34m'test'\u001b[0m\u001b[0;34m)\u001b[0m\u001b[0;34m\u001b[0m\u001b[0;34m\u001b[0m\u001b[0m\n\u001b[0;32m----> 4\u001b[0;31m \u001b[0mplt\u001b[0m\u001b[0;34m.\u001b[0m\u001b[0mylabel\u001b[0m\u001b[0;34m(\u001b[0m\u001b[0;34mf'{target_col_name} pred'\u001b[0m\u001b[0;34m)\u001b[0m\u001b[0;34m\u001b[0m\u001b[0;34m\u001b[0m\u001b[0m\n\u001b[0m\u001b[1;32m      5\u001b[0m \u001b[0mplt\u001b[0m\u001b[0;34m.\u001b[0m\u001b[0mlegend\u001b[0m\u001b[0;34m(\u001b[0m\u001b[0;34m)\u001b[0m\u001b[0;34m;\u001b[0m\u001b[0;34m\u001b[0m\u001b[0;34m\u001b[0m\u001b[0m\n",
            "\u001b[0;31mNameError\u001b[0m: name 'target_col_name' is not defined"
          ]
        },
        {
          "output_type": "display_data",
          "data": {
            "text/plain": [
              "<Figure size 800x800 with 1 Axes>"
            ],
            "image/png": "[encoded data removed]"
          },
          "metadata": {}
        }
      ]
    },
    {
      "cell_type": "markdown",
      "id": "f1b2b3fb",
      "metadata": {
        "id": "f1b2b3fb"
      },
      "source": [
        "14.3 Виведіть коефіцієнти моделі і визначте, які ознаки мають найбільші коефіцієнти по модулю, що стоять перед ними (достатньо вивести назви ознак і коефіцієнти в одному датафреймі)."
      ]
    },
    {
      "cell_type": "code",
      "execution_count": null,
      "id": "8649e634",
      "metadata": {
        "id": "8649e634"
      },
      "outputs": [],
      "source": []
    },
    {
      "cell_type": "markdown",
      "id": "21912671",
      "metadata": {
        "id": "21912671"
      },
      "source": [
        "15. Навчіть модель поліноміальної регресії зі ступенем 2 на тих самих даних, що й у попередньому пункті. Використовуйте у процесі навчання `PolynomialFeatures`. Дослідіть метрики якості на трейні та тест датасетах. Чи є перенавчання (overfit)?"
      ]
    },
    {
      "cell_type": "code",
      "execution_count": null,
      "id": "f2432d1c",
      "metadata": {
        "id": "f2432d1c"
      },
      "outputs": [],
      "source": []
    },
    {
      "cell_type": "markdown",
      "id": "af1ffc17",
      "metadata": {
        "id": "af1ffc17"
      },
      "source": [
        "16. Зробіть пайплайн із кроками `MinMaxScaler`, `PolynomialFeatures` та `ElasticNet`.\n",
        "\n",
        "Яка модель у домашньому завданні дала найкращі значення середньоквадратичної помилки на тестових даних, лін. регресія написана самостійно, лін. регресія зі sklearn, поліноміальна регресія?"
      ]
    },
    {
      "cell_type": "code",
      "execution_count": null,
      "id": "8b654ac1",
      "metadata": {
        "id": "8b654ac1"
      },
      "outputs": [],
      "source": []
    }
  ],
  "metadata": {
    "kernelspec": {
      "display_name": "Python 3 (ipykernel)",
      "language": "python",
      "name": "python3"
    },
    "language_info": {
      "codemirror_mode": {
        "name": "ipython",
        "version": 3
      },
      "file_extension": ".py",
      "mimetype": "text/x-python",
      "name": "python",
      "nbconvert_exporter": "python",
      "pygments_lexer": "ipython3",
      "version": "3.9.7"
    },
    "toc": {
      "base_numbering": 1,
      "nav_menu": {},
      "number_sections": true,
      "sideBar": true,
      "skip_h1_title": false,
      "title_cell": "Table of Contents",
      "title_sidebar": "Contents",
      "toc_cell": false,
      "toc_position": {},
      "toc_section_display": true,
      "toc_window_display": false
    },
    "colab": {
      "provenance": [],
      "include_colab_link": true
    }
  },
  "nbformat": 4,
  "nbformat_minor": 5
}