{
  "cells": [
    {
      "cell_type": "markdown",
      "metadata": {
        "id": "view-in-github",
        "colab_type": "text"
      },
      "source": [
        "<a href=\"https://colab.research.google.com/github/lesyayu/robot_deams-_sheets/blob/main/hw_2.ipynb\" target=\"_parent\"><img src=\"https://colab.research.google.com/assets/colab-badge.svg\" alt=\"Open In Colab\"/></a>"
      ]
    },
    {
      "cell_type": "markdown",
      "id": "6bbb4b6a",
      "metadata": {
        "id": "6bbb4b6a"
      },
      "source": [
        "# Homework 2: Pandas and simple visualization"
      ]
    },
    {
      "cell_type": "markdown",
      "id": "7ef4e602",
      "metadata": {
        "id": "7ef4e602"
      },
      "source": [
        "Дані для домашнього завдання були взяті з Kaggle, по [посиланню](https://www.kaggle.com/aungpyaeap/supermarket-sales) ви зможете знайти їх опис."
      ]
    },
    {
      "cell_type": "markdown",
      "source": [
        "*   Invoice id: Computer generated sales slip invoice identification number\n",
        "\n",
        "*   Branch: Branch of supercenter (3 branches are available identified by A, B and C).\n",
        "\n",
        "*   City: Location of supercenters\n",
        "\n",
        "*   Customer type: Type of customers, recorded by Members for customers using member card and Normal for without member card.\n",
        "\n",
        "*   Gender: Gender type of customer\n",
        "\n",
        "*   Product line: General item categorization groups - Electronic accessories, Fashion accessories, Food and beverages, Health and beauty, Home and lifestyle, Sports and travel\n",
        "\n",
        "*   Unit price: Price of each product in $\n",
        "\n",
        "*   Quantity: Number of products purchased by customer\n",
        "\n",
        "*   Tax: 5% tax fee for customer buying\n",
        "\n",
        "*   Total: Total price including tax\n",
        "\n",
        "*   Date: Date of purchase (Record available from January 2019 to March 2019)\n",
        "\n",
        "*   Time: Purchase time (10am to 9pm)\n",
        "\n",
        "*   Payment: Payment used by customer for purchase (3 methods are available – Cash, Credit card and Ewallet)\n",
        "\n",
        "*   COGS: Cost of goods sold\n",
        "\n",
        "*   Gross margin percentage: Gross margin percentage\n",
        "\n",
        "*   Gross income: Gross income\n",
        "\n",
        "*   Rating: Customer stratification rating on their overall shopping experience (On a scale of 1 to 10)"
      ],
      "metadata": {
        "id": "90ApJ-BdcEkO"
      },
      "id": "90ApJ-BdcEkO"
    },
    {
      "cell_type": "markdown",
      "source": [
        "Для тих хто використовує Google Colab, не забудьте перед початком роботи загрузити файл supermarket_sales.csv або скористайтесь одним з методів наведених в [статті](https://towardsdatascience.com/3-ways-to-load-csv-files-into-colab-7c14fcbdcb92)"
      ],
      "metadata": {
        "id": "QgQvlIZ9clSx"
      },
      "id": "QgQvlIZ9clSx"
    },
    {
      "cell_type": "markdown",
      "id": "fd7f076b",
      "metadata": {
        "ExecuteTime": {
          "end_time": "2021-09-20T19:43:50.443031Z",
          "start_time": "2021-09-20T19:43:50.439600Z"
        },
        "id": "fd7f076b"
      },
      "source": [
        "1. Використовуючи  Pandas прочитайте набір даних в DataFrame з файлу  'supermarket_sales.csv'."
      ]
    },
    {
      "cell_type": "code",
      "execution_count": 7,
      "id": "ac12f89b",
      "metadata": {
        "id": "ac12f89b",
        "colab": {
          "base_uri": "https://localhost:8080/"
        },
        "outputId": "9e4fa522-52d7-4d00-d7b2-76231daba666"
      },
      "outputs": [
        {
          "output_type": "execute_result",
          "data": {
            "text/plain": [
              "(1000, 17)"
            ]
          },
          "metadata": {},
          "execution_count": 7
        }
      ],
      "source": [
        "import numpy as np\n",
        "import pandas as pd\n",
        "from matplotlib import pyplot as plt\n",
        "# or  import matplotlib.pyplot as plt\n",
        "%matplotlib inline\n",
        "\n",
        "# Read the dataset into a DataFrame\n",
        "#df = pd.read_csv('/content/supermarket_sales - Sheet1.csv')\n",
        "\n",
        "url = 'https://raw.githubusercontent.com/lesyayu/robot_deams-_sheets/main/supermarket_sales%20-%20Sheet1.csv'\n",
        "df = pd.read_csv(url)# Dataset is now stored in a Pandas Dataframe\n",
        "\n",
        "df.shape\n"
      ]
    },
    {
      "cell_type": "code",
      "source": [
        "from google.colab import drive\n",
        "drive.mount('/content/drive')"
      ],
      "metadata": {
        "colab": {
          "base_uri": "https://localhost:8080/"
        },
        "id": "quuPanfdiC0D",
        "outputId": "77a20dc1-0cec-474d-bf48-3edb5963f521"
      },
      "id": "quuPanfdiC0D",
      "execution_count": 8,
      "outputs": [
        {
          "output_type": "stream",
          "name": "stdout",
          "text": [
            "Drive already mounted at /content/drive; to attempt to forcibly remount, call drive.mount(\"/content/drive\", force_remount=True).\n"
          ]
        }
      ]
    },
    {
      "cell_type": "markdown",
      "id": "ca064875",
      "metadata": {
        "ExecuteTime": {
          "end_time": "2021-09-20T19:44:56.499824Z",
          "start_time": "2021-09-20T19:44:56.496923Z"
        },
        "id": "ca064875"
      },
      "source": [
        "2. Відобразіть 5 перших записів і 5 останніх записів"
      ]
    },
    {
      "cell_type": "code",
      "execution_count": 33,
      "id": "d095f26b",
      "metadata": {
        "id": "d095f26b",
        "colab": {
          "base_uri": "https://localhost:8080/",
          "height": 310
        },
        "outputId": "da62f53a-0b59-4ea4-eae4-7723e72580ac"
      },
      "outputs": [
        {
          "output_type": "execute_result",
          "data": {
            "text/plain": [
              "    Invoice ID Branch       City Customer type  Gender  \\\n",
              "0  750-67-8428      A     Yangon        Member  Female   \n",
              "1  226-31-3081      C  Naypyitaw        Normal  Female   \n",
              "2  631-41-3108      A     Yangon        Normal    Male   \n",
              "3  123-19-1176      A     Yangon        Member    Male   \n",
              "4  373-73-7910      A     Yangon        Normal    Male   \n",
              "\n",
              "             Product line  Unit price  Quantity   Tax 5%     Total       Date  \\\n",
              "0       Health and beauty       74.69         7  26.1415  548.9715 2019-01-05   \n",
              "1  Electronic accessories       15.28         5   3.8200   80.2200 2019-03-08   \n",
              "2      Home and lifestyle       46.33         7  16.2155  340.5255 2019-03-03   \n",
              "3       Health and beauty       58.22         8  23.2880  489.0480 2019-01-27   \n",
              "4       Sports and travel       86.31         7  30.2085  634.3785 2019-02-08   \n",
              "\n",
              "    Time      Payment    cogs  gross margin percentage  gross income  Rating  \n",
              "0  13:08      Ewallet  522.83                 4.761905       26.1415     9.1  \n",
              "1  10:29         Cash   76.40                 4.761905        3.8200     9.6  \n",
              "2  13:23  Credit card  324.31                 4.761905       16.2155     7.4  \n",
              "3  20:33      Ewallet  465.76                 4.761905       23.2880     8.4  \n",
              "4  10:37      Ewallet  604.17                 4.761905       30.2085     5.3  "
            ],
            "text/html": [
              "\n",
              "  <div id=\"df-d76749d9-dd2d-4848-89d6-783a840805d2\" class=\"colab-df-container\">\n",
              "    <div>\n",
              "<style scoped>\n",
              "    .dataframe tbody tr th:only-of-type {\n",
              "        vertical-align: middle;\n",
              "    }\n",
              "\n",
              "    .dataframe tbody tr th {\n",
              "        vertical-align: top;\n",
              "    }\n",
              "\n",
              "    .dataframe thead th {\n",
              "        text-align: right;\n",
              "    }\n",
              "</style>\n",
              "<table border=\"1\" class=\"dataframe\">\n",
              "  <thead>\n",
              "    <tr style=\"text-align: right;\">\n",
              "      <th></th>\n",
              "      <th>Invoice ID</th>\n",
              "      <th>Branch</th>\n",
              "      <th>City</th>\n",
              "      <th>Customer type</th>\n",
              "      <th>Gender</th>\n",
              "      <th>Product line</th>\n",
              "      <th>Unit price</th>\n",
              "      <th>Quantity</th>\n",
              "      <th>Tax 5%</th>\n",
              "      <th>Total</th>\n",
              "      <th>Date</th>\n",
              "      <th>Time</th>\n",
              "      <th>Payment</th>\n",
              "      <th>cogs</th>\n",
              "      <th>gross margin percentage</th>\n",
              "      <th>gross income</th>\n",
              "      <th>Rating</th>\n",
              "    </tr>\n",
              "  </thead>\n",
              "  <tbody>\n",
              "    <tr>\n",
              "      <th>0</th>\n",
              "      <td>750-67-8428</td>\n",
              "      <td>A</td>\n",
              "      <td>Yangon</td>\n",
              "      <td>Member</td>\n",
              "      <td>Female</td>\n",
              "      <td>Health and beauty</td>\n",
              "      <td>74.69</td>\n",
              "      <td>7</td>\n",
              "      <td>26.1415</td>\n",
              "      <td>548.9715</td>\n",
              "      <td>2019-01-05</td>\n",
              "      <td>13:08</td>\n",
              "      <td>Ewallet</td>\n",
              "      <td>522.83</td>\n",
              "      <td>4.761905</td>\n",
              "      <td>26.1415</td>\n",
              "      <td>9.1</td>\n",
              "    </tr>\n",
              "    <tr>\n",
              "      <th>1</th>\n",
              "      <td>226-31-3081</td>\n",
              "      <td>C</td>\n",
              "      <td>Naypyitaw</td>\n",
              "      <td>Normal</td>\n",
              "      <td>Female</td>\n",
              "      <td>Electronic accessories</td>\n",
              "      <td>15.28</td>\n",
              "      <td>5</td>\n",
              "      <td>3.8200</td>\n",
              "      <td>80.2200</td>\n",
              "      <td>2019-03-08</td>\n",
              "      <td>10:29</td>\n",
              "      <td>Cash</td>\n",
              "      <td>76.40</td>\n",
              "      <td>4.761905</td>\n",
              "      <td>3.8200</td>\n",
              "      <td>9.6</td>\n",
              "    </tr>\n",
              "    <tr>\n",
              "      <th>2</th>\n",
              "      <td>631-41-3108</td>\n",
              "      <td>A</td>\n",
              "      <td>Yangon</td>\n",
              "      <td>Normal</td>\n",
              "      <td>Male</td>\n",
              "      <td>Home and lifestyle</td>\n",
              "      <td>46.33</td>\n",
              "      <td>7</td>\n",
              "      <td>16.2155</td>\n",
              "      <td>340.5255</td>\n",
              "      <td>2019-03-03</td>\n",
              "      <td>13:23</td>\n",
              "      <td>Credit card</td>\n",
              "      <td>324.31</td>\n",
              "      <td>4.761905</td>\n",
              "      <td>16.2155</td>\n",
              "      <td>7.4</td>\n",
              "    </tr>\n",
              "    <tr>\n",
              "      <th>3</th>\n",
              "      <td>123-19-1176</td>\n",
              "      <td>A</td>\n",
              "      <td>Yangon</td>\n",
              "      <td>Member</td>\n",
              "      <td>Male</td>\n",
              "      <td>Health and beauty</td>\n",
              "      <td>58.22</td>\n",
              "      <td>8</td>\n",
              "      <td>23.2880</td>\n",
              "      <td>489.0480</td>\n",
              "      <td>2019-01-27</td>\n",
              "      <td>20:33</td>\n",
              "      <td>Ewallet</td>\n",
              "      <td>465.76</td>\n",
              "      <td>4.761905</td>\n",
              "      <td>23.2880</td>\n",
              "      <td>8.4</td>\n",
              "    </tr>\n",
              "    <tr>\n",
              "      <th>4</th>\n",
              "      <td>373-73-7910</td>\n",
              "      <td>A</td>\n",
              "      <td>Yangon</td>\n",
              "      <td>Normal</td>\n",
              "      <td>Male</td>\n",
              "      <td>Sports and travel</td>\n",
              "      <td>86.31</td>\n",
              "      <td>7</td>\n",
              "      <td>30.2085</td>\n",
              "      <td>634.3785</td>\n",
              "      <td>2019-02-08</td>\n",
              "      <td>10:37</td>\n",
              "      <td>Ewallet</td>\n",
              "      <td>604.17</td>\n",
              "      <td>4.761905</td>\n",
              "      <td>30.2085</td>\n",
              "      <td>5.3</td>\n",
              "    </tr>\n",
              "  </tbody>\n",
              "</table>\n",
              "</div>\n",
              "    <div class=\"colab-df-buttons\">\n",
              "\n",
              "  <div class=\"colab-df-container\">\n",
              "    <button class=\"colab-df-convert\" onclick=\"convertToInteractive('df-d76749d9-dd2d-4848-89d6-783a840805d2')\"\n",
              "            title=\"Convert this dataframe to an interactive table.\"\n",
              "            style=\"display:none;\">\n",
              "\n",
              "  <svg xmlns=\"http://www.w3.org/2000/svg\" height=\"24px\" viewBox=\"0 -960 960 960\">\n",
              "    <path d=\"M120-120v-720h720v720H120Zm60-500h600v-160H180v160Zm220 220h160v-160H400v160Zm0 220h160v-160H400v160ZM180-400h160v-160H180v160Zm440 0h160v-160H620v160ZM180-180h160v-160H180v160Zm440 0h160v-160H620v160Z\"/>\n",
              "  </svg>\n",
              "    </button>\n",
              "\n",
              "  <style>\n",
              "    .colab-df-container {\n",
              "      display:flex;\n",
              "      gap: 12px;\n",
              "    }\n",
              "\n",
              "    .colab-df-convert {\n",
              "      background-color: #E8F0FE;\n",
              "      border: none;\n",
              "      border-radius: 50%;\n",
              "      cursor: pointer;\n",
              "      display: none;\n",
              "      fill: #1967D2;\n",
              "      height: 32px;\n",
              "      padding: 0 0 0 0;\n",
              "      width: 32px;\n",
              "    }\n",
              "\n",
              "    .colab-df-convert:hover {\n",
              "      background-color: #E2EBFA;\n",
              "      box-shadow: 0px 1px 2px rgba(60, 64, 67, 0.3), 0px 1px 3px 1px rgba(60, 64, 67, 0.15);\n",
              "      fill: #174EA6;\n",
              "    }\n",
              "\n",
              "    .colab-df-buttons div {\n",
              "      margin-bottom: 4px;\n",
              "    }\n",
              "\n",
              "    [theme=dark] .colab-df-convert {\n",
              "      background-color: #3B4455;\n",
              "      fill: #D2E3FC;\n",
              "    }\n",
              "\n",
              "    [theme=dark] .colab-df-convert:hover {\n",
              "      background-color: #434B5C;\n",
              "      box-shadow: 0px 1px 3px 1px rgba(0, 0, 0, 0.15);\n",
              "      filter: drop-shadow(0px 1px 2px rgba(0, 0, 0, 0.3));\n",
              "      fill: #FFFFFF;\n",
              "    }\n",
              "  </style>\n",
              "\n",
              "    <script>\n",
              "      const buttonEl =\n",
              "        document.querySelector('#df-d76749d9-dd2d-4848-89d6-783a840805d2 button.colab-df-convert');\n",
              "      buttonEl.style.display =\n",
              "        google.colab.kernel.accessAllowed ? 'block' : 'none';\n",
              "\n",
              "      async function convertToInteractive(key) {\n",
              "        const element = document.querySelector('#df-d76749d9-dd2d-4848-89d6-783a840805d2');\n",
              "        const dataTable =\n",
              "          await google.colab.kernel.invokeFunction('convertToInteractive',\n",
              "                                                    [key], {});\n",
              "        if (!dataTable) return;\n",
              "\n",
              "        const docLinkHtml = 'Like what you see? Visit the ' +\n",
              "          '<a target=\"_blank\" href=https://colab.research.google.com/notebooks/data_table.ipynb>data table notebook</a>'\n",
              "          + ' to learn more about interactive tables.';\n",
              "        element.innerHTML = '';\n",
              "        dataTable['output_type'] = 'display_data';\n",
              "        await google.colab.output.renderOutput(dataTable, element);\n",
              "        const docLink = document.createElement('div');\n",
              "        docLink.innerHTML = docLinkHtml;\n",
              "        element.appendChild(docLink);\n",
              "      }\n",
              "    </script>\n",
              "  </div>\n",
              "\n",
              "\n",
              "<div id=\"df-304fb851-8aa4-4883-aa3c-712689e7228a\">\n",
              "  <button class=\"colab-df-quickchart\" onclick=\"quickchart('df-304fb851-8aa4-4883-aa3c-712689e7228a')\"\n",
              "            title=\"Suggest charts\"\n",
              "            style=\"display:none;\">\n",
              "\n",
              "<svg xmlns=\"http://www.w3.org/2000/svg\" height=\"24px\"viewBox=\"0 0 24 24\"\n",
              "     width=\"24px\">\n",
              "    <g>\n",
              "        <path d=\"M19 3H5c-1.1 0-2 .9-2 2v14c0 1.1.9 2 2 2h14c1.1 0 2-.9 2-2V5c0-1.1-.9-2-2-2zM9 17H7v-7h2v7zm4 0h-2V7h2v10zm4 0h-2v-4h2v4z\"/>\n",
              "    </g>\n",
              "</svg>\n",
              "  </button>\n",
              "\n",
              "<style>\n",
              "  .colab-df-quickchart {\n",
              "      --bg-color: #E8F0FE;\n",
              "      --fill-color: #1967D2;\n",
              "      --hover-bg-color: #E2EBFA;\n",
              "      --hover-fill-color: #174EA6;\n",
              "      --disabled-fill-color: #AAA;\n",
              "      --disabled-bg-color: #DDD;\n",
              "  }\n",
              "\n",
              "  [theme=dark] .colab-df-quickchart {\n",
              "      --bg-color: #3B4455;\n",
              "      --fill-color: #D2E3FC;\n",
              "      --hover-bg-color: #434B5C;\n",
              "      --hover-fill-color: #FFFFFF;\n",
              "      --disabled-bg-color: #3B4455;\n",
              "      --disabled-fill-color: #666;\n",
              "  }\n",
              "\n",
              "  .colab-df-quickchart {\n",
              "    background-color: var(--bg-color);\n",
              "    border: none;\n",
              "    border-radius: 50%;\n",
              "    cursor: pointer;\n",
              "    display: none;\n",
              "    fill: var(--fill-color);\n",
              "    height: 32px;\n",
              "    padding: 0;\n",
              "    width: 32px;\n",
              "  }\n",
              "\n",
              "  .colab-df-quickchart:hover {\n",
              "    background-color: var(--hover-bg-color);\n",
              "    box-shadow: 0 1px 2px rgba(60, 64, 67, 0.3), 0 1px 3px 1px rgba(60, 64, 67, 0.15);\n",
              "    fill: var(--button-hover-fill-color);\n",
              "  }\n",
              "\n",
              "  .colab-df-quickchart-complete:disabled,\n",
              "  .colab-df-quickchart-complete:disabled:hover {\n",
              "    background-color: var(--disabled-bg-color);\n",
              "    fill: var(--disabled-fill-color);\n",
              "    box-shadow: none;\n",
              "  }\n",
              "\n",
              "  .colab-df-spinner {\n",
              "    border: 2px solid var(--fill-color);\n",
              "    border-color: transparent;\n",
              "    border-bottom-color: var(--fill-color);\n",
              "    animation:\n",
              "      spin 1s steps(1) infinite;\n",
              "  }\n",
              "\n",
              "  @keyframes spin {\n",
              "    0% {\n",
              "      border-color: transparent;\n",
              "      border-bottom-color: var(--fill-color);\n",
              "      border-left-color: var(--fill-color);\n",
              "    }\n",
              "    20% {\n",
              "      border-color: transparent;\n",
              "      border-left-color: var(--fill-color);\n",
              "      border-top-color: var(--fill-color);\n",
              "    }\n",
              "    30% {\n",
              "      border-color: transparent;\n",
              "      border-left-color: var(--fill-color);\n",
              "      border-top-color: var(--fill-color);\n",
              "      border-right-color: var(--fill-color);\n",
              "    }\n",
              "    40% {\n",
              "      border-color: transparent;\n",
              "      border-right-color: var(--fill-color);\n",
              "      border-top-color: var(--fill-color);\n",
              "    }\n",
              "    60% {\n",
              "      border-color: transparent;\n",
              "      border-right-color: var(--fill-color);\n",
              "    }\n",
              "    80% {\n",
              "      border-color: transparent;\n",
              "      border-right-color: var(--fill-color);\n",
              "      border-bottom-color: var(--fill-color);\n",
              "    }\n",
              "    90% {\n",
              "      border-color: transparent;\n",
              "      border-bottom-color: var(--fill-color);\n",
              "    }\n",
              "  }\n",
              "</style>\n",
              "\n",
              "  <script>\n",
              "    async function quickchart(key) {\n",
              "      const quickchartButtonEl =\n",
              "        document.querySelector('#' + key + ' button');\n",
              "      quickchartButtonEl.disabled = true;  // To prevent multiple clicks.\n",
              "      quickchartButtonEl.classList.add('colab-df-spinner');\n",
              "      try {\n",
              "        const charts = await google.colab.kernel.invokeFunction(\n",
              "            'suggestCharts', [key], {});\n",
              "      } catch (error) {\n",
              "        console.error('Error during call to suggestCharts:', error);\n",
              "      }\n",
              "      quickchartButtonEl.classList.remove('colab-df-spinner');\n",
              "      quickchartButtonEl.classList.add('colab-df-quickchart-complete');\n",
              "    }\n",
              "    (() => {\n",
              "      let quickchartButtonEl =\n",
              "        document.querySelector('#df-304fb851-8aa4-4883-aa3c-712689e7228a button');\n",
              "      quickchartButtonEl.style.display =\n",
              "        google.colab.kernel.accessAllowed ? 'block' : 'none';\n",
              "    })();\n",
              "  </script>\n",
              "</div>\n",
              "    </div>\n",
              "  </div>\n"
            ]
          },
          "metadata": {},
          "execution_count": 33
        }
      ],
      "source": [
        "# ваш код тут\n",
        "\n",
        "df.head()\n"
      ]
    },
    {
      "cell_type": "code",
      "source": [
        "df.tail()"
      ],
      "metadata": {
        "id": "1Jw3F-Eq5yRI"
      },
      "id": "1Jw3F-Eq5yRI",
      "execution_count": null,
      "outputs": []
    },
    {
      "cell_type": "markdown",
      "id": "2d54e0e4",
      "metadata": {
        "id": "2d54e0e4"
      },
      "source": [
        "3. Виведіть назви колонок разом з їх типами даних"
      ]
    },
    {
      "cell_type": "code",
      "execution_count": null,
      "id": "509e34a4",
      "metadata": {
        "id": "509e34a4"
      },
      "outputs": [],
      "source": [
        "# ваш код тут\n",
        "print(df.dtypes)"
      ]
    },
    {
      "cell_type": "markdown",
      "id": "75f38c1e",
      "metadata": {
        "ExecuteTime": {
          "end_time": "2021-09-20T19:46:49.248936Z",
          "start_time": "2021-09-20T19:46:49.245644Z"
        },
        "id": "75f38c1e"
      },
      "source": [
        "4. Скільки колонок мають текстовий тип даних? А скільки колонок мають числовий тип даних (float/int)? Відповідь треба дати за допомогою функцій бібіліотеки Pandas. Формат відповіді: тип - кількість колонок. Також, відповідь вважатиметься правильною, якщо для типів float і int будуть окермі стрічки у відповіді (тобто обʼєднувати їх необовʼязково)."
      ]
    },
    {
      "cell_type": "code",
      "execution_count": 20,
      "id": "6ecd4a85",
      "metadata": {
        "ExecuteTime": {
          "end_time": "2021-09-20T19:47:21.096833Z",
          "start_time": "2021-09-20T19:47:21.094560Z"
        },
        "id": "6ecd4a85",
        "colab": {
          "base_uri": "https://localhost:8080/"
        },
        "outputId": "13852237-4a7c-43a7-e3a0-b75b3ffe2ae0"
      },
      "outputs": [
        {
          "output_type": "stream",
          "name": "stdout",
          "text": [
            "Text Columns: 9\n",
            "Integer Columns: 1\n",
            "Float Columns: 7\n"
          ]
        }
      ],
      "source": [
        "# ваш код тут\n",
        "text_columns_count = df.select_dtypes(include=['object']).shape[1]\n",
        "int_columns_count = df.select_dtypes(include=['int64']).shape[1]\n",
        "float_columns_count = df.select_dtypes(include=['float64']).shape[1]\n",
        "\n",
        "print(\"Text Columns:\", text_columns_count)\n",
        "print(\"Integer Columns:\", int_columns_count)\n",
        "print(\"Float Columns:\", float_columns_count)"
      ]
    },
    {
      "cell_type": "markdown",
      "id": "815f9cc0",
      "metadata": {
        "id": "815f9cc0"
      },
      "source": [
        "5. Яку кількість покупок зробили чоловіки, а яку жінки?\n",
        "Спробуйте отримати відповідь за допомогою методу value_counts(), а також методу groupby()"
      ]
    },
    {
      "cell_type": "code",
      "source": [
        "gender_counts = df['Gender'].value_counts()\n",
        "gender_counts"
      ],
      "metadata": {
        "colab": {
          "base_uri": "https://localhost:8080/"
        },
        "id": "IifoPl1y8fwA",
        "outputId": "d37ca839-fc52-4803-ef61-d2de1b89e1c1"
      },
      "id": "IifoPl1y8fwA",
      "execution_count": 11,
      "outputs": [
        {
          "output_type": "execute_result",
          "data": {
            "text/plain": [
              "Female    501\n",
              "Male      499\n",
              "Name: Gender, dtype: int64"
            ]
          },
          "metadata": {},
          "execution_count": 11
        }
      ]
    },
    {
      "cell_type": "code",
      "source": [
        "gender_grouped = df.groupby('Gender').size() # групування за якістю стать\n",
        "gender_grouped"
      ],
      "metadata": {
        "colab": {
          "base_uri": "https://localhost:8080/"
        },
        "id": "t4oGay3E8_yR",
        "outputId": "1380c246-a583-484a-fec3-952a63486a2c"
      },
      "id": "t4oGay3E8_yR",
      "execution_count": 42,
      "outputs": [
        {
          "output_type": "execute_result",
          "data": {
            "text/plain": [
              "Gender\n",
              "Female    501\n",
              "Male      499\n",
              "dtype: int64"
            ]
          },
          "metadata": {},
          "execution_count": 42
        }
      ]
    },
    {
      "cell_type": "code",
      "source": [
        "df.query('Gender  == \"Female\" ').shape[0]  # звуження матриці на жінок\n"
      ],
      "metadata": {
        "colab": {
          "base_uri": "https://localhost:8080/"
        },
        "id": "Z8h_Vo-f8eeb",
        "outputId": "53379c30-3c72-4e24-a450-e60ec5686eb0"
      },
      "id": "Z8h_Vo-f8eeb",
      "execution_count": 43,
      "outputs": [
        {
          "output_type": "execute_result",
          "data": {
            "text/plain": [
              "501"
            ]
          },
          "metadata": {},
          "execution_count": 43
        }
      ]
    },
    {
      "cell_type": "markdown",
      "id": "f4c8d00f",
      "metadata": {
        "id": "f4c8d00f"
      },
      "source": [
        "6. Які існують унікальні продуктові лінії? (Product line)"
      ]
    },
    {
      "cell_type": "code",
      "execution_count": 12,
      "id": "61ae9569",
      "metadata": {
        "ExecuteTime": {
          "end_time": "2021-09-20T19:53:58.379972Z",
          "start_time": "2021-09-20T19:53:58.375472Z"
        },
        "id": "61ae9569",
        "colab": {
          "base_uri": "https://localhost:8080/"
        },
        "outputId": "8e468320-3df8-47b4-823c-1c9f58dfea64"
      },
      "outputs": [
        {
          "output_type": "execute_result",
          "data": {
            "text/plain": [
              "Fashion accessories       178\n",
              "Food and beverages        174\n",
              "Electronic accessories    170\n",
              "Sports and travel         166\n",
              "Home and lifestyle        160\n",
              "Health and beauty         152\n",
              "Name: Product line, dtype: int64"
            ]
          },
          "metadata": {},
          "execution_count": 12
        }
      ],
      "source": [
        "# ваш код тут\n",
        "Product_lines = df['Product line'].value_counts()\n",
        "Product_lines"
      ]
    },
    {
      "cell_type": "markdown",
      "id": "7d3dc308",
      "metadata": {
        "ExecuteTime": {
          "end_time": "2021-09-20T19:54:26.232269Z",
          "start_time": "2021-09-20T19:54:26.229253Z"
        },
        "id": "7d3dc308"
      },
      "source": [
        "7. Яка середня ціна товару (Unit price) для кожної продуктової лінії (Product line)?\n",
        "Hint: отримати відповідь можна за допомогою лиш однієї стрічки коду =)"
      ]
    },
    {
      "cell_type": "code",
      "execution_count": 13,
      "id": "575a0ffd",
      "metadata": {
        "id": "575a0ffd",
        "colab": {
          "base_uri": "https://localhost:8080/"
        },
        "outputId": "d7c44987-8585-4514-bf3b-7becee07e768"
      },
      "outputs": [
        {
          "output_type": "execute_result",
          "data": {
            "text/plain": [
              "Product line\n",
              "Electronic accessories    53.551588\n",
              "Fashion accessories       57.153652\n",
              "Food and beverages        56.008851\n",
              "Health and beauty         54.854474\n",
              "Home and lifestyle        55.316937\n",
              "Sports and travel         56.993253\n",
              "Name: Unit price, dtype: float64"
            ]
          },
          "metadata": {},
          "execution_count": 13
        }
      ],
      "source": [
        "# ваш код тут\n",
        "\n",
        "average_price_per_product_line = df.groupby('Product line')['Unit price'].mean()\n",
        "average_price_per_product_line"
      ]
    },
    {
      "cell_type": "markdown",
      "source": [
        "8. Перетворіть колонку Date в формат datetime."
      ],
      "metadata": {
        "id": "EoZChzjWgWfE"
      },
      "id": "EoZChzjWgWfE"
    },
    {
      "cell_type": "code",
      "source": [
        "#df['Date'] = None # ваш код тут\n",
        "df['Date'] = pd.to_datetime(df['Date'])\n",
        "df[['Product line','Gender','Total','Date']].head #Подивимось як це виглядає. Наче все вірно, але виглядає не дуже. Стовбчики з'їхали від своїх назв"
      ],
      "metadata": {
        "id": "PF_vvh3AgclJ",
        "colab": {
          "base_uri": "https://localhost:8080/"
        },
        "outputId": "ab6d9c7e-f0b9-47a6-e194-ce49a5a4f84d"
      },
      "id": "PF_vvh3AgclJ",
      "execution_count": 14,
      "outputs": [
        {
          "output_type": "execute_result",
          "data": {
            "text/plain": [
              "<bound method NDFrame.head of                Product line  Gender      Total       Date\n",
              "0         Health and beauty  Female   548.9715 2019-01-05\n",
              "1    Electronic accessories  Female    80.2200 2019-03-08\n",
              "2        Home and lifestyle    Male   340.5255 2019-03-03\n",
              "3         Health and beauty    Male   489.0480 2019-01-27\n",
              "4         Sports and travel    Male   634.3785 2019-02-08\n",
              "..                      ...     ...        ...        ...\n",
              "995       Health and beauty    Male    42.3675 2019-01-29\n",
              "996      Home and lifestyle  Female  1022.4900 2019-03-02\n",
              "997      Food and beverages    Male    33.4320 2019-02-09\n",
              "998      Home and lifestyle    Male    69.1110 2019-02-22\n",
              "999     Fashion accessories  Female   649.2990 2019-02-18\n",
              "\n",
              "[1000 rows x 4 columns]>"
            ]
          },
          "metadata": {},
          "execution_count": 14
        }
      ]
    },
    {
      "cell_type": "markdown",
      "id": "36df4c40",
      "metadata": {
        "ExecuteTime": {
          "end_time": "2021-09-20T19:59:14.456652Z",
          "start_time": "2021-09-20T19:59:14.452991Z"
        },
        "id": "36df4c40"
      },
      "source": [
        "9. За допомогою команди plot() побудуйте лінійний графік суми всіх покупок за кожен день. Нехай лінія буде зеленого кольору :) Не забудьте підписати вісі і дати графіку назву (title). Oберіть комфортніший для вас спосіб: чи то за допомогою методів pandas, чи за допомогою Matplotlib. Або навіть обома!\n",
        "Для виконання даного завдання необхідно просумувати колонку Total для кожного дня"
      ]
    },
    {
      "cell_type": "code",
      "execution_count": null,
      "id": "d6f3e55b",
      "metadata": {
        "id": "d6f3e55b"
      },
      "outputs": [],
      "source": [
        "# ваш код тут\n",
        "\n",
        "# Групування даних за датою і сумування значень у колонці 'Total'\n",
        "daily_sales = df.groupby(df['Date'])['Total'].sum()\n",
        "\n",
        "# Побудова графіка\n",
        "daily_sales.plot(color='green', figsize=(10, 6), title='Сума покупок за кожен день', xlabel = 'Data', ylabel='Total', grid=True)\n"
      ]
    },
    {
      "cell_type": "code",
      "source": [
        "\n",
        "# Групування даних за датою і сумування значень колонки Total\n",
        "\n",
        "\n",
        "# Побудова лінійного графіка\n",
        "plt.figure(figsize=(10, 6))\n",
        "daily_sales.plot(kind='line', color='green')\n",
        "plt.title('Сума покупок за кожен день')\n",
        "plt.xlabel('Дата')\n",
        "plt.ylabel('Сума покупок')\n",
        "plt.grid(True)\n",
        "plt.show()\n"
      ],
      "metadata": {
        "id": "SF_IQVzoGOjN"
      },
      "id": "SF_IQVzoGOjN",
      "execution_count": null,
      "outputs": []
    },
    {
      "cell_type": "markdown",
      "id": "eb08f39b",
      "metadata": {
        "ExecuteTime": {
          "end_time": "2021-09-20T20:10:04.154440Z",
          "start_time": "2021-09-20T20:10:04.144681Z"
        },
        "id": "eb08f39b"
      },
      "source": [
        "10. А тепер побудуйте графік кількості подобових продажів в кожному філіалі (Branch). Вкажіть розмір фігури (10, 6). На одному графіку має відображатись лінія для кожного філіалу. Лінії мають бути різного кольору. Кількість продажів можна порахувати як кількість унікальних Invoice ID.\n",
        "\n",
        "Один зі способів виконання завдання є створення наступної структури даних:\n",
        "1. зробити індексом дату\n",
        "2. колонки - це назви філіалів\n",
        "3. Значення кількість продажів в конкретну дану в конкретному філіалу\n",
        "4. Зробити таку транформацію можна за допомогою функції `pivot_table()`\n",
        "5. Таку таблицю можна легко відобразити на графіку за допомогою функції `DataFrame.plot()`  \n"
      ]
    },
    {
      "cell_type": "code",
      "execution_count": null,
      "id": "e090ee05",
      "metadata": {
        "ExecuteTime": {
          "end_time": "2021-09-20T20:24:10.478441Z",
          "start_time": "2021-09-20T20:24:10.121497Z"
        },
        "id": "e090ee05"
      },
      "outputs": [],
      "source": [
        "# ваш код тут\n",
        "#df['Branch'].value_counts()\n"
      ]
    },
    {
      "cell_type": "code",
      "source": [
        "\n",
        "\n",
        "# Create a pivot table with 'Date' as index and branches as columns\n",
        "# Count the number of Total for each branch on each date\n",
        "df_branches = df.pivot_table(index='Date', columns='Branch', values='Total', aggfunc='count')\n",
        "df_branches.columns = ['Branch A', 'Branch B', 'Branch C']\n",
        "#df_branches\n",
        "\n",
        "df_branches.plot(color=['red', 'green', 'blue'], figsize=(10, 6), title='Сума покупок за кожен день', xlabel = 'Data', ylabel='Total', grid=True)\n"
      ],
      "metadata": {
        "id": "kYCjeOdM_I55",
        "outputId": "d8265918-e13e-4040-bd0c-f0a12c602d2e",
        "colab": {
          "base_uri": "https://localhost:8080/",
          "height": 631
        }
      },
      "id": "kYCjeOdM_I55",
      "execution_count": 38,
      "outputs": [
        {
          "output_type": "execute_result",
          "data": {
            "text/plain": [
              "<Axes: title={'center': 'Сума покупок за кожен день'}, xlabel='Data', ylabel='Total'>"
            ]
          },
          "metadata": {},
          "execution_count": 38
        },
        {
          "output_type": "display_data",
          "data": {
            "text/plain": [
              "<Figure size 1000x600 with 1 Axes>"
            ],
            "image/png": "[encoded data removed]"
          },
          "metadata": {}
        }
      ]
    },
    {
      "cell_type": "markdown",
      "id": "135b71f8",
      "metadata": {
        "id": "135b71f8"
      },
      "source": [
        "Воу-воу, якось тяжко зрозуміти щось на такому графіку. Давайте спробуємо інакше. Покажіть кількість продажів для кодного філіала на окремому графіку.\n",
        "Досить просто зробити це, вказавши `subplots=True` в функції `plot()`.  \n",
        "Задайте розмір фігури (10,10)."
      ]
    },
    {
      "cell_type": "code",
      "execution_count": null,
      "id": "2be13edf",
      "metadata": {
        "ExecuteTime": {
          "end_time": "2021-09-20T20:32:09.735316Z",
          "start_time": "2021-09-20T20:32:08.948675Z"
        },
        "id": "2be13edf"
      },
      "outputs": [],
      "source": [
        "# ваш код тут"
      ]
    },
    {
      "cell_type": "markdown",
      "id": "7406d6d1",
      "metadata": {
        "id": "7406d6d1"
      },
      "source": [
        "<font color='blue'>**[Optional]**</font> Давайте зробимо графіки ще зручнішими для сприйняття. Хочеться їх трохи згладити. Одним з методів згладування є ковзне середнє (Moving Average - MA). Суть методу полягає в тому, що значення кожної точки дорівнює середньому значенню N попередніх точок. Це один з найпростіших методів згладжування набору статистичних даних і має кілька варіацій. [Тут](https://www.youtube.com/watch?v=7Rz_ITRIADg) непогано відео на тему.\n",
        "\n",
        "Для того, щоб порахувати ковзне середнє можемо використати функцію [pandas.DataFrame.rolling](https://pandas.pydata.org/docs/reference/api/pandas.DataFrame.rolling.html).     \n",
        "\n",
        "Используя параметры window=10 и min_periods=1 выведите сглаженные подневные графики количества продаж по филиалам."
      ]
    },
    {
      "cell_type": "code",
      "execution_count": null,
      "id": "5d52e558",
      "metadata": {
        "ExecuteTime": {
          "end_time": "2021-09-20T20:44:22.715996Z",
          "start_time": "2021-09-20T20:44:22.712644Z"
        },
        "id": "5d52e558"
      },
      "outputs": [],
      "source": [
        "# ваш код тут"
      ]
    },
    {
      "cell_type": "markdown",
      "id": "e96bcfcd",
      "metadata": {
        "ExecuteTime": {
          "end_time": "2021-09-20T20:47:23.016233Z",
          "start_time": "2021-09-20T20:47:23.012993Z"
        },
        "id": "e96bcfcd"
      },
      "source": [
        "12. В якому місті знаходиться кожен з філіалів?"
      ]
    },
    {
      "cell_type": "code",
      "execution_count": null,
      "id": "d8775d69",
      "metadata": {
        "id": "d8775d69"
      },
      "outputs": [],
      "source": [
        "# ваш код тут"
      ]
    },
    {
      "cell_type": "markdown",
      "id": "1635a0be",
      "metadata": {
        "ExecuteTime": {
          "end_time": "2021-09-20T20:52:59.173329Z",
          "start_time": "2021-09-20T20:52:59.169950Z"
        },
        "id": "1635a0be"
      },
      "source": [
        "12. В яких містах покупці частіше розраховуються готівкоюй (`Cash`), а в яких - електронним гаманцем (`Ewallet`)?  \n",
        "Для виконання цього завдання можна сформувати таблицю, де стрічки будуть відповідати способам оплати (`Payment`), в стовпці - `City`, значення - кількість покупок (вони ж -  продажі).\n",
        "\n",
        "Цікавить саме відсоткове співвідношення покупок зроблених різними способами =)\n"
      ]
    },
    {
      "cell_type": "code",
      "execution_count": null,
      "id": "d4891a4e",
      "metadata": {
        "id": "d4891a4e"
      },
      "outputs": [],
      "source": [
        "# ваш код тут"
      ]
    },
    {
      "cell_type": "markdown",
      "id": "b357a816",
      "metadata": {
        "id": "b357a816"
      },
      "source": [
        "<font color='blue'>**[Optional]**</font> 13. Давайте тепер проаналізуємо розподіл цін на товари в різних продуктових лінійках. Наша ціль - знайти відповідь на питання: в якій продуктовій лінійці найбільше дорогих товарів (90-100 у.о.)?\n",
        "\n",
        "Для початку побудуємо візуалізацію і зробимо це кількома способами. Подумайте, яка є більш інформативною для вас і яку би ви використали для роботи.\n",
        "\n",
        "\n",
        "  13.1.  На одній фігурі відобразіть гістограму розподілу цін на товари для кожної продуктової лінійкию Тобто на одній фігурі кількість гістограм рівна кількості продуктових лінійок."
      ]
    },
    {
      "cell_type": "code",
      "execution_count": null,
      "id": "cbcfb6f6",
      "metadata": {
        "ExecuteTime": {
          "end_time": "2021-09-20T21:11:56.022797Z",
          "start_time": "2021-09-20T21:11:56.020757Z"
        },
        "id": "cbcfb6f6"
      },
      "outputs": [],
      "source": [
        "# ваш код тут"
      ]
    },
    {
      "cell_type": "markdown",
      "id": "ce82d63f",
      "metadata": {
        "id": "ce82d63f"
      },
      "source": [
        "13.2. А тепер відобразіть гістограми з однаковою кількість бінів на одному графікую Для зручності використовуйте прозорість alpha не більше 0.4 і переконайтесь, що гістограми різного кольору. Не забудьте про легенду, заголовок."
      ]
    },
    {
      "cell_type": "code",
      "execution_count": null,
      "id": "67dc9149",
      "metadata": {
        "ExecuteTime": {
          "end_time": "2021-09-20T21:11:56.022797Z",
          "start_time": "2021-09-20T21:11:56.020757Z"
        },
        "id": "67dc9149"
      },
      "outputs": [],
      "source": [
        "# ваш код тут"
      ]
    },
    {
      "cell_type": "markdown",
      "id": "077d2557",
      "metadata": {
        "id": "077d2557"
      },
      "source": [
        "То яка візуалізація виявилась для вас зручнішою і чому?"
      ]
    },
    {
      "cell_type": "markdown",
      "id": "48d80b13",
      "metadata": {
        "id": "48d80b13"
      },
      "source": [
        "ваша відповідь тут"
      ]
    },
    {
      "cell_type": "markdown",
      "id": "bb572cb0",
      "metadata": {
        "id": "bb572cb0"
      },
      "source": [
        "13.3. А тепер знайдіть відповідь на питання за допомогою функцій numpy і pandas."
      ]
    },
    {
      "cell_type": "code",
      "source": [
        "# ваш код тут"
      ],
      "metadata": {
        "id": "ekTpHo0_Eymn"
      },
      "id": "ekTpHo0_Eymn",
      "execution_count": null,
      "outputs": []
    }
  ],
  "metadata": {
    "kernelspec": {
      "display_name": "Python 3 (ipykernel)",
      "language": "python",
      "name": "python3"
    },
    "language_info": {
      "codemirror_mode": {
        "name": "ipython",
        "version": 3
      },
      "file_extension": ".py",
      "mimetype": "text/x-python",
      "name": "python",
      "nbconvert_exporter": "python",
      "pygments_lexer": "ipython3",
      "version": "3.9.7"
    },
    "toc": {
      "base_numbering": 1,
      "nav_menu": {},
      "number_sections": true,
      "sideBar": true,
      "skip_h1_title": false,
      "title_cell": "Table of Contents",
      "title_sidebar": "Contents",
      "toc_cell": false,
      "toc_position": {},
      "toc_section_display": true,
      "toc_window_display": false
    },
    "colab": {
      "provenance": [],
      "include_colab_link": true
    }
  },
  "nbformat": 4,
  "nbformat_minor": 5
}