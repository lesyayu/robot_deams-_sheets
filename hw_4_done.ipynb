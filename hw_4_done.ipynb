{
 "cells": [
  {
   "cell_type": "markdown",
   "id": "c201591a",
   "metadata": {
    "ExecuteTime": {
     "end_time": "2021-10-08T14:20:56.413092Z",
     "start_time": "2021-10-08T14:20:56.409316Z"
    },
    "id": "c201591a"
   },
   "source": [
    "# Лінійна регресія"
   ]
  },
  {
   "cell_type": "markdown",
   "id": "178d8f7b",
   "metadata": {
    "ExecuteTime": {
     "end_time": "2021-10-08T14:20:56.413092Z",
     "start_time": "2021-10-08T14:20:56.409316Z"
    },
    "id": "178d8f7b"
   },
   "source": [
    "У цьому домашньому завданні ми працюємо з набором даних про рівень щастя у країнах за 2019 рік. Він доступний в кабінеті або можна завантажити з Kaggle [змагання](https://www.kaggle.com/unsdsn/world-happiness?select=2019.csv)."
   ]
  },
  {
   "cell_type": "markdown",
   "id": "682c5672",
   "metadata": {
    "ExecuteTime": {
     "end_time": "2021-10-08T14:24:45.084860Z",
     "start_time": "2021-10-08T14:24:45.081379Z"
    },
    "id": "682c5672"
   },
   "source": [
    "Усі імпорти розміщуємо зверху, під цією секцією."
   ]
  },
  {
   "cell_type": "code",
   "outputs": [],
   "source": [
    "import numpy as np\n",
    "import pandas as pd\n",
    "import seaborn as sns\n",
    "from pylab import rcParams\n",
    "import matplotlib.pyplot as plt\n",
    "from matplotlib import rc\n",
    "\n",
    "\n",
    "from sklearn.linear_model import LinearRegression\n",
    "from sklearn.model_selection import train_test_split\n",
    "from sklearn.preprocessing import MinMaxScaler, StandardScaler, RobustScaler\n",
    "\n",
    "from sklearn.preprocessing import PolynomialFeatures\n",
    "from sklearn.metrics import mean_squared_error, root_mean_squared_error, r2_score\n",
    "\n",
    "from sklearn.pipeline import Pipeline\n",
    "\n",
    "%matplotlib inline\n",
    "rcParams['figure.figsize'] = 12, 6"
   ],
   "metadata": {
    "collapsed": false,
    "ExecuteTime": {
     "end_time": "2024-01-28T16:24:28.340268100Z",
     "start_time": "2024-01-28T16:24:28.293002400Z"
    }
   },
   "id": "3decfdb843f9b086",
   "execution_count": 93
  },
  {
   "cell_type": "code",
   "outputs": [],
   "source": [
    "def get_metrics(y_true, y_predicted, n_digits=5):\n",
    "    params = dict(y_true=y_true, y_pred=y_predicted)\n",
    "    mse = mean_squared_error(**params)\n",
    "    rmse = mean_squared_error(**params, squared=False)\n",
    "    return dict(mse=round(mse, n_digits), rmse=round(rmse, n_digits))\n",
    "\n",
    "\n",
    "def evaluate_model(model, X_train, X_test, y_train, y_test):\n",
    "    y_train_pred = model.predict(X_train)\n",
    "    y_test_pred = model.predict(X_test)\n",
    "\n",
    "    train_metrics = get_metrics(y_train, y_train_pred)\n",
    "    test_metrics = get_metrics(y_test, y_test_pred)\n",
    "\n",
    "    return dict(train=train_metrics, test=test_metrics)\n",
    "\n",
    "\n"
   ],
   "metadata": {
    "collapsed": false,
    "ExecuteTime": {
     "end_time": "2024-01-28T16:22:39.665521600Z",
     "start_time": "2024-01-28T16:22:39.634233600Z"
    }
   },
   "id": "d44bc814dd815f8e",
   "execution_count": 57
  },
  {
   "cell_type": "code",
   "outputs": [],
   "source": [
    "# Erstellen der DataFrames für Trainings- und Testdaten\n",
    "df_MSE_train = pd.DataFrame({\n",
    "    'MSE': [None, None, None, None, None],\n",
    "    'RMSE': [None, None, None, None, None ],\n",
    "   # 'R2': [None, None, None, None, None]\n",
    "}, index=[\"my_Model\",\"model_2_dim1(lr_1_dim )\",\"lr.predict (lr dim 7)\", \"Poly_Regression\", \"ElasticNet\"])\n",
    "\n",
    "\n",
    "df_MSE_test = pd.DataFrame({\n",
    "    'MSE': [None, None, None, None, None],\n",
    "    'RMSE': [None, None, None, None, None ],\n",
    "   # 'R2': [None, None, None, None, None]\n",
    "}, index=[\"my_Model\",\"model_2_dim1(lr_1_dim )\",\"lr.predict (lr dim 7)\", \"Poly_Regression\", \"ElasticNet\"])\n"
   ],
   "metadata": {
    "collapsed": false,
    "ExecuteTime": {
     "end_time": "2024-01-28T16:22:39.679462100Z",
     "start_time": "2024-01-28T16:22:39.656169500Z"
    }
   },
   "id": "149952d273b78991",
   "execution_count": 58
  },
  {
   "cell_type": "markdown",
   "id": "d612bd8a",
   "metadata": {
    "id": "d612bd8a"
   },
   "source": [
    "1. Зчитайте дані за допомогою pandas у змінну `df`."
   ]
  },
  {
   "cell_type": "code",
   "execution_count": 59,
   "id": "ca3aeea7",
   "metadata": {
    "id": "ca3aeea7",
    "colab": {
     "base_uri": "https://localhost:8080/"
    },
    "outputId": "64168047-26fa-4f55-ef04-dd5c182db9d0",
    "ExecuteTime": {
     "end_time": "2024-01-28T16:22:39.717416600Z",
     "start_time": "2024-01-28T16:22:39.682533600Z"
    }
   },
   "outputs": [
    {
     "name": "stdout",
     "output_type": "stream",
     "text": [
      "<class 'pandas.core.frame.DataFrame'>\n",
      "RangeIndex: 156 entries, 0 to 155\n",
      "Data columns (total 9 columns):\n",
      " #   Column                        Non-Null Count  Dtype  \n",
      "---  ------                        --------------  -----  \n",
      " 0   Overall rank                  156 non-null    int64  \n",
      " 1   Country or region             156 non-null    object \n",
      " 2   Score                         156 non-null    float64\n",
      " 3   GDP per capita                156 non-null    float64\n",
      " 4   Social support                156 non-null    float64\n",
      " 5   Healthy life expectancy       156 non-null    float64\n",
      " 6   Freedom to make life choices  156 non-null    float64\n",
      " 7   Generosity                    156 non-null    float64\n",
      " 8   Perceptions of corruption     156 non-null    float64\n",
      "dtypes: float64(7), int64(1), object(1)\n",
      "memory usage: 11.1+ KB\n"
     ]
    }
   ],
   "source": [
    "#df = pd.read_csv(io.BytesIO(uploaded['2019.csv']))\n",
    "df = pd.read_csv('2019.csv')\n",
    "df.info()"
   ]
  },
  {
   "cell_type": "markdown",
   "id": "2b3cce20",
   "metadata": {
    "ExecuteTime": {
     "end_time": "2021-10-14T17:21:00.884611Z",
     "start_time": "2021-10-14T17:21:00.881566Z"
    },
    "id": "2b3cce20"
   },
   "source": [
    "2. Виведіть діаграму розсіювання ознак `Score` та `GDP per capita`, використовуючи метод `regplot()` з `seaborn`."
   ]
  },
  {
   "cell_type": "code",
   "execution_count": 60,
   "id": "fa1a32b9",
   "metadata": {
    "id": "fa1a32b9",
    "colab": {
     "base_uri": "https://localhost:8080/",
     "height": 565
    },
    "outputId": "f8c44337-dc00-42cb-fb0a-5594d6a86139",
    "ExecuteTime": {
     "end_time": "2024-01-28T16:22:40.064357200Z",
     "start_time": "2024-01-28T16:22:39.705458400Z"
    }
   },
   "outputs": [
    {
     "data": {
      "text/plain": "<Axes: xlabel='GDP per capita', ylabel='Score'>"
     },
     "execution_count": 60,
     "metadata": {},
     "output_type": "execute_result"
    },
    {
     "data": {
      "text/plain": "<Figure size 1200x600 with 1 Axes>",
      "image/png": "[encoded data removed]"
     },
     "metadata": {},
     "output_type": "display_data"
    }
   ],
   "source": [
    "# x='GDP per Capita', y='Score'\n",
    "sns.regplot(x='GDP per capita', y='Score', data=df)\n",
    "#plt.show()"
   ]
  },
  {
   "cell_type": "markdown",
   "id": "fe20c4f7",
   "metadata": {
    "id": "fe20c4f7"
   },
   "source": [
    "Ми моделюватимемо цю залежність. Тобто незалежною змінною є `GDP per capita`, залежною `Score`. Судячи з діаграми розсіювання, залежність між цими двома змінними має добре описуватись лінійною моделлю."
   ]
  },
  {
   "cell_type": "markdown",
   "id": "fac2b15e",
   "metadata": {
    "id": "fac2b15e"
   },
   "source": [
    "## Розв'язання задачі лінійної регресії методом градієнтного спуску"
   ]
  },
  {
   "cell_type": "markdown",
   "id": "c5f7382a",
   "metadata": {
    "id": "c5f7382a"
   },
   "source": [
    "Позначення:\n",
    "- `X` - матриця ознак\n",
    "- `y` - цільова змінна\n",
    "- `theta` - вектор параметрів\n",
    "- `alpha` - темп навчання (learning rate)"
   ]
  },
  {
   "cell_type": "markdown",
   "id": "b0820ce0",
   "metadata": {
    "ExecuteTime": {
     "end_time": "2021-10-08T14:31:44.843127Z",
     "start_time": "2021-10-08T14:31:44.839958Z"
    },
    "id": "b0820ce0"
   },
   "source": [
    "<font color='blue'>**[Optional]**</font> 3. Реалізуйте формулу передбачення лінійної регресії у методі `predict`. Метод повертає передбачення. Нагадаю, що для кожного спостереження з матриці ознак передбачення знаходимо за допомогою наступної формули:\n",
    "$$x \\in X, i \\in [1,m], j : \\\\ \\hat{y}_i = \\theta_0 + \\theta_1 x_1 + ... + \\theta_n x_n = \\theta^T x ,\\\\\n",
    "\\text{де m - кількість спостережень, } \\\\\n",
    "\\text{n - кількість ознак, } \\\\\n",
    "x_0 = 1 \\ \\text{для всіх спостережень}.\n",
    "$$\n",
    "\n",
    "Передбачення всіх спостережень у матриці Х можемо знайти як множення матриці ознак на ваги."
   ]
  },
  {
   "cell_type": "code",
   "execution_count": 61,
   "id": "a9f34e8f",
   "metadata": {
    "id": "a9f34e8f",
    "ExecuteTime": {
     "end_time": "2024-01-28T16:22:40.083081600Z",
     "start_time": "2024-01-28T16:22:39.944287400Z"
    }
   },
   "outputs": [],
   "source": [
    "def predict_my(x, theta):\n",
    "    #theta_0 = 1.8115 #theta 0\n",
    "    prediction = x.dot(theta) #+ theta_0\n",
    "    return  prediction\n"
   ]
  },
  {
   "cell_type": "markdown",
   "id": "dc68bc0e",
   "metadata": {
    "id": "dc68bc0e"
   },
   "source": [
    "<font color='blue'>**[Optional]**</font> 4. Доповніть обчислення значення функції витрат, формула якої наведена в слайдах лекції про лінійну регресію (підказка - формула така сама, якби ми рахували середньоквадратичну помилку).  \n",
    "Метод `cost()` приймає вектор параметрів `theta`, матрицю наших ознак `X` та реальні значення цільової змінної `y`.\n"
   ]
  },
  {
   "cell_type": "code",
   "execution_count": 62,
   "id": "b8e63ce7",
   "metadata": {
    "id": "b8e63ce7",
    "ExecuteTime": {
     "end_time": "2024-01-28T16:22:40.114334200Z",
     "start_time": "2024-01-28T16:22:39.958240400Z"
    }
   },
   "outputs": [],
   "source": [
    "def cost(theta, x, y_true):\n",
    "    y_estimate = predict_my(x, theta)\n",
    "    m = len(y_true)\n",
    "    cost_value = (1 / (2 * m)) * sum((y_estimate[i] - y_true[i]) ** 2 for i in range(m))\n",
    "    return cost_value\n"
   ]
  },
  {
   "cell_type": "markdown",
   "id": "64975088",
   "metadata": {
    "id": "64975088"
   },
   "source": [
    "<font color='blue'>**[Optional]**</font> 5. Ознайомтеся з реалізацією методу `get_gradient()`, який повертає вектор часткових похідних функції витрат за кожним із параметрів лінійної регресії.\n",
    "Доповніть метод `gradient_descent()`, який дозволить реалізувати алгоритм градієтного спуску. Під час градієнтного спуку ми оновлюємо параметри згідно з формулою:\n",
    "$$\n",
    "\\text{для кожного} \\ j \\in [0, n]: \\quad \\theta_j := \\theta_j - \\alpha \\frac{\\partial}{\\partial \\theta_j}J(\\theta), \\\\\n",
    "\\text{де n - кількість ознак}\n",
    "$$\n",
    "  Метод градієнтного спуску оновлює ваги (модель навчається) поки вони не перестануть змінюватися від ітерації до ітерації, тобто поки Евклідова відстань (звичайна відстань між веткорами, як у шкільній геометрії) між векторами ваг за останні дві ітерації не буде меншою за невелику константу (зазвичай позначається як $\\epsilon$ (епсілон), ми встановимо $\\epsilon=10^{-6}$).\n",
    "\n",
    "В `gradient_descent()` заповніть всі місця, де стоять три крапки. Використовуйте реалізовані у попередніх завданнях методи `cost()` та `predict()`, і звичайно ж Вам знадобиться метод `get_gradient()`."
   ]
  },
  {
   "cell_type": "code",
   "outputs": [],
   "source": [
    "def get_gradient(x, y, theta):\n",
    "    m = len(y)\n",
    "    predictions = x.dot(theta)\n",
    "    errors = predictions - y\n",
    "    gradient = (1/m) * x.T.dot(errors)\n",
    "    return gradient\n"
   ],
   "metadata": {
    "collapsed": false,
    "ExecuteTime": {
     "end_time": "2024-01-28T16:22:40.115330400Z",
     "start_time": "2024-01-28T16:22:39.974186800Z"
    }
   },
   "id": "ad031784d4be024a",
   "execution_count": 63
  },
  {
   "cell_type": "code",
   "outputs": [],
   "source": [
    "def gradient_descent(X, y, theta, learning_rate, eps, max_iterations):\n",
    "    cost_history = []\n",
    "    theta_history = []\n",
    "    iterations = 1\n",
    "\n",
    "    while True:\n",
    "        # Передбачення з поточними значеннями вагів\n",
    "        y_estimate = predict_my(X, theta)\n",
    "\n",
    "        # Значення часткових похідних функції витрат з поточними значеннями ваг\n",
    "        gradient = get_gradient(X, y, theta)\n",
    "\n",
    "        # Значення функції витрат при поточних вагах  Verbesserung des Fehlers або \"покращення помилки\"\n",
    "        cost_value = cost(theta, X, y)\n",
    "        cost_history.append(cost_value)\n",
    "\n",
    "        # Оновлення ваг\n",
    "        new_theta = theta - learning_rate * gradient\n",
    "        theta_history.append(new_theta)\n",
    "\n",
    "        # Умова зупинки (конвергенція)\n",
    "        if np.linalg.norm(new_theta - theta) < eps:\n",
    "            print(\"Алгоритм зійшовся.\")\n",
    "            break\n",
    "\n",
    "        # Друга умова зупинки (максимальна кількість ітерацій)\n",
    "        if iterations >= max_iterations:\n",
    "            print(\"Досягнуто максимальної кількості ітерацій\")\n",
    "            break\n",
    "\n",
    "        # Виводимо інформацію кожні 100 ітерацій\n",
    "        if iterations % 100 == 0:\n",
    "           # print(\"Ітерація: %d - Помилка на трейн даних: %.4f\" % (iterations, cost_value))\n",
    "            print(\"Ітерація: %d - Помилка на трейн даних: %.4f\" % (iterations, cost_value[0]))\n",
    "\n",
    "\n",
    "        iterations += 1\n",
    "        theta = new_theta\n",
    "\n",
    "    return theta, cost_history, theta_history, iterations\n"
   ],
   "metadata": {
    "collapsed": false,
    "ExecuteTime": {
     "end_time": "2024-01-28T16:22:40.164170Z",
     "start_time": "2024-01-28T16:22:39.991130300Z"
    }
   },
   "id": "c65819414d8d9e6b",
   "execution_count": 64
  },
  {
   "cell_type": "markdown",
   "id": "2cefb83e",
   "metadata": {
    "id": "2cefb83e"
   },
   "source": [
    "Підготуємо дані."
   ]
  },
  {
   "cell_type": "code",
   "outputs": [
    {
     "data": {
      "text/plain": "0      1.340\n1      1.383\n2      1.488\n3      1.380\n4      1.396\n       ...  \n151    0.359\n152    0.476\n153    0.350\n154    0.026\n155    0.306\nName: GDP per capita, Length: 156, dtype: float64"
     },
     "execution_count": 65,
     "metadata": {},
     "output_type": "execute_result"
    }
   ],
   "source": [
    "x = df['GDP per capita']\n",
    "x"
   ],
   "metadata": {
    "collapsed": false,
    "ExecuteTime": {
     "end_time": "2024-01-28T16:22:40.165163600Z",
     "start_time": "2024-01-28T16:22:40.007401Z"
    }
   },
   "id": "c94cd30278b2dd10",
   "execution_count": 65
  },
  {
   "cell_type": "code",
   "execution_count": 66,
   "id": "fdbb2770",
   "metadata": {
    "id": "fdbb2770",
    "ExecuteTime": {
     "end_time": "2024-01-28T16:22:40.166160300Z",
     "start_time": "2024-01-28T16:22:40.020503200Z"
    }
   },
   "outputs": [],
   "source": [
    "#DataFrame df in ein zweidimensionales NumPy-Array umgewandelt, das nur eine Spalte hat. Diese Operation ist nützlich, wenn man mit Scikit-Learn oder anderen Bibliotheken arbeitet, die als Eingabe ein 2D-Array erwarten, auch wenn man nur mit einer einzelnen Feature-Spalte arbeitet.\n",
    "\n",
    "x = df['GDP per capita'].values.reshape(-1,1)\n",
    "y = df['Score'] .values.reshape(-1,1)\n",
    "#x"
   ]
  },
  {
   "cell_type": "markdown",
   "id": "12fb7483",
   "metadata": {
    "id": "12fb7483"
   },
   "source": [
    "6. Розділіть `X` та `y` на `train` і `test` підвиборки у співвідношенні 80/20. Оскільки у нас мало даних, валідаційну вибірку не виділятимемо. Запишіть результати у `X_train`, `y_train`, `X_test`, `y_test`."
   ]
  },
  {
   "cell_type": "code",
   "source": [
    "# Розділення даних на навчальні та тестові\n",
    "x_train, x_test, y_train, y_test = train_test_split(x, y, test_size=0.20, random_state=42)\n"
   ],
   "metadata": {
    "id": "bL3PCtYRGeth",
    "ExecuteTime": {
     "end_time": "2024-01-28T16:22:40.167156900Z",
     "start_time": "2024-01-28T16:22:40.035454900Z"
    }
   },
   "id": "bL3PCtYRGeth",
   "execution_count": 67,
   "outputs": []
  },
  {
   "cell_type": "markdown",
   "id": "f54c99e4",
   "metadata": {
    "id": "f54c99e4"
   },
   "source": [
    "7.Реалізуйте масштабування ознак із використанням `MinMaxScaler`. Пам'ятайте про те, як ми застосовуємо масштабування ознак на`train` та `test` вибірках."
   ]
  },
  {
   "cell_type": "code",
   "execution_count": 68,
   "id": "d2f92029",
   "metadata": {
    "id": "d2f92029",
    "ExecuteTime": {
     "end_time": "2024-01-28T16:22:40.182108300Z",
     "start_time": "2024-01-28T16:22:40.054388700Z"
    }
   },
   "outputs": [
    {
     "data": {
      "text/plain": "array([[0.66508314],\n       [0.16330166],\n       [0.54691211],\n       [0.15914489],\n       [0.22862233],\n       [0.402019  ],\n       [0.58491686],\n       [0.47505938],\n       [0.48159145],\n       [0.72505938],\n       [0.20783848],\n       [0.8087886 ],\n       [0.85391924],\n       [0.63539192],\n       [0.19714964],\n       [0.62470309],\n       [0.61401425],\n       [0.4608076 ],\n       [0.70249406],\n       [0.33372922],\n       [0.83313539],\n       [0.52612827],\n       [0.22565321],\n       [0.73515439],\n       [0.82897862],\n       [0.66745843],\n       [0.32719715],\n       [0.12114014],\n       [0.72505938],\n       [0.81532067],\n       [0.3675772 ],\n       [0.81472684],\n       [0.2672209 ],\n       [0.11342043],\n       [0.79572447],\n       [0.        ],\n       [0.57007126],\n       [0.41211401],\n       [0.70130641],\n       [1.        ],\n       [0.44239905],\n       [0.57007126],\n       [0.68824228],\n       [0.78622328],\n       [0.39014252],\n       [0.71615202],\n       [0.41330166],\n       [0.02731591],\n       [0.2131829 ],\n       [0.16270784],\n       [0.69002375],\n       [0.5219715 ],\n       [0.7131829 ],\n       [0.29275534],\n       [0.93349169],\n       [0.29038005],\n       [0.21733967],\n       [0.50771971],\n       [0.01543943],\n       [0.3260095 ],\n       [0.77256532],\n       [0.86223278],\n       [0.34085511],\n       [0.05581948],\n       [0.5415677 ],\n       [0.76840855],\n       [0.63361045],\n       [0.5611639 ],\n       [0.47149644],\n       [0.64845606],\n       [0.77375297],\n       [0.74703088],\n       [0.4067696 ],\n       [0.08194774],\n       [0.55285036],\n       [0.58372922],\n       [0.04334917],\n       [0.16270784],\n       [0.61935867],\n       [0.81057007],\n       [0.95546318],\n       [0.69655582],\n       [0.19952494],\n       [0.81947743],\n       [0.80522565],\n       [0.73099762],\n       [0.62410926],\n       [0.54216152],\n       [0.8236342 ],\n       [0.3432304 ],\n       [0.49703088],\n       [0.88361045],\n       [0.304038  ],\n       [0.75      ],\n       [0.50475059],\n       [0.73456057],\n       [0.57007126],\n       [0.89073634],\n       [0.20783848],\n       [0.38123515],\n       [0.75      ],\n       [0.47565321],\n       [0.7719715 ],\n       [0.78800475],\n       [0.17042755],\n       [0.56353919],\n       [0.73990499],\n       [0.19180523],\n       [0.82125891],\n       [0.70486936],\n       [0.4216152 ],\n       [0.62767221],\n       [0.26484561],\n       [0.65320665],\n       [0.59501188],\n       [0.68586698],\n       [0.33847981],\n       [0.18171021],\n       [0.89251781],\n       [0.61995249],\n       [0.56235154],\n       [0.7915677 ],\n       [0.61104513],\n       [0.39964371]])"
     },
     "execution_count": 68,
     "metadata": {},
     "output_type": "execute_result"
    }
   ],
   "source": [
    "# Створення об'єкту MinMaxScaler\n",
    "scaler = MinMaxScaler()\n",
    "\n",
    "# Масштабування навчальної вибірки\n",
    "x_train_scaled = scaler.fit_transform(x_train)\n",
    "\n",
    "# Масштабування тестової вибірки\n",
    "# ВАЖЛИВО: використовувати ті ж параметри масштабування, що й для навчальної вибірки\n",
    "x_test_scaled = scaler.transform(x_test)\n",
    "\n",
    "# Тепер x_train_scaled та x_test_scaled містять масштабовані ознаки\n",
    "\n",
    "x_train_scaled\n"
   ]
  },
  {
   "cell_type": "markdown",
   "id": "832cd76a",
   "metadata": {
    "id": "832cd76a"
   },
   "source": [
    "<font color='blue'>**[Optional]**</font> 8. Додайте колонку з одиниць до масивів `X_train`, `X_test`."
   ]
  },
  {
   "cell_type": "code",
   "execution_count": 69,
   "id": "7722e7d4",
   "metadata": {
    "id": "7722e7d4",
    "ExecuteTime": {
     "end_time": "2024-01-28T16:22:40.184100400Z",
     "start_time": "2024-01-28T16:22:40.071332Z"
    }
   },
   "outputs": [
    {
     "data": {
      "text/plain": "array([[1.        , 0.66508314],\n       [1.        , 0.16330166],\n       [1.        , 0.54691211],\n       [1.        , 0.15914489],\n       [1.        , 0.22862233],\n       [1.        , 0.402019  ],\n       [1.        , 0.58491686],\n       [1.        , 0.47505938],\n       [1.        , 0.48159145],\n       [1.        , 0.72505938],\n       [1.        , 0.20783848],\n       [1.        , 0.8087886 ],\n       [1.        , 0.85391924],\n       [1.        , 0.63539192],\n       [1.        , 0.19714964],\n       [1.        , 0.62470309],\n       [1.        , 0.61401425],\n       [1.        , 0.4608076 ],\n       [1.        , 0.70249406],\n       [1.        , 0.33372922],\n       [1.        , 0.83313539],\n       [1.        , 0.52612827],\n       [1.        , 0.22565321],\n       [1.        , 0.73515439],\n       [1.        , 0.82897862],\n       [1.        , 0.66745843],\n       [1.        , 0.32719715],\n       [1.        , 0.12114014],\n       [1.        , 0.72505938],\n       [1.        , 0.81532067],\n       [1.        , 0.3675772 ],\n       [1.        , 0.81472684],\n       [1.        , 0.2672209 ],\n       [1.        , 0.11342043],\n       [1.        , 0.79572447],\n       [1.        , 0.        ],\n       [1.        , 0.57007126],\n       [1.        , 0.41211401],\n       [1.        , 0.70130641],\n       [1.        , 1.        ],\n       [1.        , 0.44239905],\n       [1.        , 0.57007126],\n       [1.        , 0.68824228],\n       [1.        , 0.78622328],\n       [1.        , 0.39014252],\n       [1.        , 0.71615202],\n       [1.        , 0.41330166],\n       [1.        , 0.02731591],\n       [1.        , 0.2131829 ],\n       [1.        , 0.16270784],\n       [1.        , 0.69002375],\n       [1.        , 0.5219715 ],\n       [1.        , 0.7131829 ],\n       [1.        , 0.29275534],\n       [1.        , 0.93349169],\n       [1.        , 0.29038005],\n       [1.        , 0.21733967],\n       [1.        , 0.50771971],\n       [1.        , 0.01543943],\n       [1.        , 0.3260095 ],\n       [1.        , 0.77256532],\n       [1.        , 0.86223278],\n       [1.        , 0.34085511],\n       [1.        , 0.05581948],\n       [1.        , 0.5415677 ],\n       [1.        , 0.76840855],\n       [1.        , 0.63361045],\n       [1.        , 0.5611639 ],\n       [1.        , 0.47149644],\n       [1.        , 0.64845606],\n       [1.        , 0.77375297],\n       [1.        , 0.74703088],\n       [1.        , 0.4067696 ],\n       [1.        , 0.08194774],\n       [1.        , 0.55285036],\n       [1.        , 0.58372922],\n       [1.        , 0.04334917],\n       [1.        , 0.16270784],\n       [1.        , 0.61935867],\n       [1.        , 0.81057007],\n       [1.        , 0.95546318],\n       [1.        , 0.69655582],\n       [1.        , 0.19952494],\n       [1.        , 0.81947743],\n       [1.        , 0.80522565],\n       [1.        , 0.73099762],\n       [1.        , 0.62410926],\n       [1.        , 0.54216152],\n       [1.        , 0.8236342 ],\n       [1.        , 0.3432304 ],\n       [1.        , 0.49703088],\n       [1.        , 0.88361045],\n       [1.        , 0.304038  ],\n       [1.        , 0.75      ],\n       [1.        , 0.50475059],\n       [1.        , 0.73456057],\n       [1.        , 0.57007126],\n       [1.        , 0.89073634],\n       [1.        , 0.20783848],\n       [1.        , 0.38123515],\n       [1.        , 0.75      ],\n       [1.        , 0.47565321],\n       [1.        , 0.7719715 ],\n       [1.        , 0.78800475],\n       [1.        , 0.17042755],\n       [1.        , 0.56353919],\n       [1.        , 0.73990499],\n       [1.        , 0.19180523],\n       [1.        , 0.82125891],\n       [1.        , 0.70486936],\n       [1.        , 0.4216152 ],\n       [1.        , 0.62767221],\n       [1.        , 0.26484561],\n       [1.        , 0.65320665],\n       [1.        , 0.59501188],\n       [1.        , 0.68586698],\n       [1.        , 0.33847981],\n       [1.        , 0.18171021],\n       [1.        , 0.89251781],\n       [1.        , 0.61995249],\n       [1.        , 0.56235154],\n       [1.        , 0.7915677 ],\n       [1.        , 0.61104513],\n       [1.        , 0.39964371]])"
     },
     "execution_count": 69,
     "metadata": {},
     "output_type": "execute_result"
    }
   ],
   "source": [
    "# Додавання колонки з одиницями до X_train\n",
    "ones_train = np.ones((x_train.shape[0], 1)) # Створення колонки одиниць для кожного рядка в X_train\n",
    "x_train_1 = np.hstack((ones_train, x_train)) # Горизонтальне з'єднання колонки з X_train\n",
    "x_train_scaled_1 = np.hstack((ones_train, x_train_scaled)) # Горизонтальне з'єднання колонки з X_train\n",
    "\n",
    "\n",
    "# Додавання колонки з одиницями до X_test\n",
    "ones_test = np.ones((x_test.shape[0], 1)) # Створення колонки одиниць для кожного рядка в X_test\n",
    "x_test_1  = np.hstack((ones_test, x_test)) # Горизонтальне з'єднання колонки з X_test\n",
    "x_test_scaled_1  = np.hstack((ones_test, x_test_scaled)) # Горизонтальне з'єднання колонки з X_test\n",
    "\n",
    "x_train_scaled_1\n"
   ]
  },
  {
   "cell_type": "markdown",
   "id": "bf927241",
   "metadata": {
    "id": "bf927241"
   },
   "source": [
    "<font color='blue'>**[Optional]**</font> 9. Встановіть темп навчання рівний 0.01, точність епсілон рівний $10^{-6}$, кількість ітерацій дорівнює 20000 і запустіть градієнтний спуск на тренувальні дані, передавши всі необхідні параметри."
   ]
  },
  {
   "cell_type": "code",
   "execution_count": 70,
   "id": "d485396af0154aef",
   "metadata": {
    "collapsed": false,
    "ExecuteTime": {
     "end_time": "2024-01-28T16:22:40.202040500Z",
     "start_time": "2024-01-28T16:22:40.107357300Z"
    }
   },
   "outputs": [],
   "source": [
    "learning_rate = 0.01\n",
    "max_iterations = 20000\n",
    "epsilon = 1e-6\n",
    "\n",
    "theta = np.random.randn(2,1)\n",
    "#theta"
   ]
  },
  {
   "cell_type": "markdown",
   "source": [
    "## порахуємо theta0 та theta 1 методом градіентного спуску"
   ],
   "metadata": {
    "collapsed": false
   },
   "id": "91fbf06d5691d26b"
  },
  {
   "cell_type": "code",
   "outputs": [],
   "source": [
    "#для порівняння проженемо алгоритм на не ітерованих даних\n",
    "#theta, cost_history, theta_history, iterations = gradient_descent(x_train_1, y_train, theta, learning_rate, epsilon, max_iterations) \n",
    "#theta"
   ],
   "metadata": {
    "id": "ed756079",
    "ExecuteTime": {
     "end_time": "2024-01-28T16:22:40.290083800Z",
     "start_time": "2024-01-28T16:22:40.204033600Z"
    }
   },
   "id": "ed756079",
   "execution_count": 71
  },
  {
   "cell_type": "markdown",
   "source": [
    "## а тепер те проженемо алгоритм градіент спуску для скальованих даних. Наші дані в змінній x_train_scaled_1 "
   ],
   "metadata": {
    "collapsed": false
   },
   "id": "d35c3ecf1ff6de54"
  },
  {
   "cell_type": "code",
   "outputs": [
    {
     "name": "stdout",
     "output_type": "stream",
     "text": [
      "Ітерація: 100 - Помилка на трейн даних: 1.0605\n",
      "Ітерація: 200 - Помилка на трейн даних: 0.3435\n",
      "Ітерація: 300 - Помилка на трейн даних: 0.2853\n",
      "Ітерація: 400 - Помилка на трейн даних: 0.2761\n",
      "Ітерація: 500 - Помилка на трейн даних: 0.2709\n",
      "Ітерація: 600 - Помилка на трейн даних: 0.2664\n",
      "Ітерація: 700 - Помилка на трейн даних: 0.2623\n",
      "Ітерація: 800 - Помилка на трейн даних: 0.2586\n",
      "Ітерація: 900 - Помилка на трейн даних: 0.2552\n",
      "Ітерація: 1000 - Помилка на трейн даних: 0.2521\n",
      "Ітерація: 1100 - Помилка на трейн даних: 0.2493\n",
      "Ітерація: 1200 - Помилка на трейн даних: 0.2468\n",
      "Ітерація: 1300 - Помилка на трейн даних: 0.2445\n",
      "Ітерація: 1400 - Помилка на трейн даних: 0.2423\n",
      "Ітерація: 1500 - Помилка на трейн даних: 0.2404\n",
      "Ітерація: 1600 - Помилка на трейн даних: 0.2387\n",
      "Ітерація: 1700 - Помилка на трейн даних: 0.2371\n",
      "Ітерація: 1800 - Помилка на трейн даних: 0.2356\n",
      "Ітерація: 1900 - Помилка на трейн даних: 0.2343\n",
      "Ітерація: 2000 - Помилка на трейн даних: 0.2331\n",
      "Ітерація: 2100 - Помилка на трейн даних: 0.2320\n",
      "Ітерація: 2200 - Помилка на трейн даних: 0.2310\n",
      "Ітерація: 2300 - Помилка на трейн даних: 0.2301\n",
      "Ітерація: 2400 - Помилка на трейн даних: 0.2293\n",
      "Ітерація: 2500 - Помилка на трейн даних: 0.2285\n",
      "Ітерація: 2600 - Помилка на трейн даних: 0.2278\n",
      "Ітерація: 2700 - Помилка на трейн даних: 0.2272\n",
      "Ітерація: 2800 - Помилка на трейн даних: 0.2266\n",
      "Ітерація: 2900 - Помилка на трейн даних: 0.2261\n",
      "Ітерація: 3000 - Помилка на трейн даних: 0.2256\n",
      "Ітерація: 3100 - Помилка на трейн даних: 0.2252\n",
      "Ітерація: 3200 - Помилка на трейн даних: 0.2248\n",
      "Ітерація: 3300 - Помилка на трейн даних: 0.2245\n",
      "Ітерація: 3400 - Помилка на трейн даних: 0.2241\n",
      "Ітерація: 3500 - Помилка на трейн даних: 0.2239\n",
      "Ітерація: 3600 - Помилка на трейн даних: 0.2236\n",
      "Ітерація: 3700 - Помилка на трейн даних: 0.2233\n",
      "Ітерація: 3800 - Помилка на трейн даних: 0.2231\n",
      "Ітерація: 3900 - Помилка на трейн даних: 0.2229\n",
      "Ітерація: 4000 - Помилка на трейн даних: 0.2227\n",
      "Ітерація: 4100 - Помилка на трейн даних: 0.2226\n",
      "Ітерація: 4200 - Помилка на трейн даних: 0.2224\n",
      "Ітерація: 4300 - Помилка на трейн даних: 0.2223\n",
      "Ітерація: 4400 - Помилка на трейн даних: 0.2221\n",
      "Ітерація: 4500 - Помилка на трейн даних: 0.2220\n",
      "Ітерація: 4600 - Помилка на трейн даних: 0.2219\n",
      "Ітерація: 4700 - Помилка на трейн даних: 0.2218\n",
      "Ітерація: 4800 - Помилка на трейн даних: 0.2217\n",
      "Ітерація: 4900 - Помилка на трейн даних: 0.2217\n",
      "Ітерація: 5000 - Помилка на трейн даних: 0.2216\n",
      "Ітерація: 5100 - Помилка на трейн даних: 0.2215\n",
      "Ітерація: 5200 - Помилка на трейн даних: 0.2215\n",
      "Ітерація: 5300 - Помилка на трейн даних: 0.2214\n",
      "Ітерація: 5400 - Помилка на трейн даних: 0.2214\n",
      "Ітерація: 5500 - Помилка на трейн даних: 0.2213\n",
      "Ітерація: 5600 - Помилка на трейн даних: 0.2213\n",
      "Ітерація: 5700 - Помилка на трейн даних: 0.2212\n",
      "Ітерація: 5800 - Помилка на трейн даних: 0.2212\n",
      "Ітерація: 5900 - Помилка на трейн даних: 0.2212\n",
      "Ітерація: 6000 - Помилка на трейн даних: 0.2211\n",
      "Ітерація: 6100 - Помилка на трейн даних: 0.2211\n",
      "Ітерація: 6200 - Помилка на трейн даних: 0.2211\n",
      "Ітерація: 6300 - Помилка на трейн даних: 0.2211\n",
      "Ітерація: 6400 - Помилка на трейн даних: 0.2211\n",
      "Ітерація: 6500 - Помилка на трейн даних: 0.2210\n",
      "Ітерація: 6600 - Помилка на трейн даних: 0.2210\n",
      "Ітерація: 6700 - Помилка на трейн даних: 0.2210\n",
      "Ітерація: 6800 - Помилка на трейн даних: 0.2210\n",
      "Ітерація: 6900 - Помилка на трейн даних: 0.2210\n",
      "Ітерація: 7000 - Помилка на трейн даних: 0.2210\n",
      "Ітерація: 7100 - Помилка на трейн даних: 0.2210\n",
      "Ітерація: 7200 - Помилка на трейн даних: 0.2210\n",
      "Ітерація: 7300 - Помилка на трейн даних: 0.2209\n",
      "Ітерація: 7400 - Помилка на трейн даних: 0.2209\n",
      "Ітерація: 7500 - Помилка на трейн даних: 0.2209\n",
      "Ітерація: 7600 - Помилка на трейн даних: 0.2209\n",
      "Ітерація: 7700 - Помилка на трейн даних: 0.2209\n",
      "Ітерація: 7800 - Помилка на трейн даних: 0.2209\n",
      "Ітерація: 7900 - Помилка на трейн даних: 0.2209\n",
      "Ітерація: 8000 - Помилка на трейн даних: 0.2209\n",
      "Ітерація: 8100 - Помилка на трейн даних: 0.2209\n",
      "Ітерація: 8200 - Помилка на трейн даних: 0.2209\n",
      "Ітерація: 8300 - Помилка на трейн даних: 0.2209\n",
      "Ітерація: 8400 - Помилка на трейн даних: 0.2209\n",
      "Ітерація: 8500 - Помилка на трейн даних: 0.2209\n",
      "Ітерація: 8600 - Помилка на трейн даних: 0.2209\n",
      "Ітерація: 8700 - Помилка на трейн даних: 0.2209\n",
      "Ітерація: 8800 - Помилка на трейн даних: 0.2209\n",
      "Ітерація: 8900 - Помилка на трейн даних: 0.2209\n",
      "Ітерація: 9000 - Помилка на трейн даних: 0.2209\n",
      "Ітерація: 9100 - Помилка на трейн даних: 0.2209\n",
      "Ітерація: 9200 - Помилка на трейн даних: 0.2209\n",
      "Ітерація: 9300 - Помилка на трейн даних: 0.2209\n",
      "Ітерація: 9400 - Помилка на трейн даних: 0.2209\n",
      "Ітерація: 9500 - Помилка на трейн даних: 0.2209\n",
      "Ітерація: 9600 - Помилка на трейн даних: 0.2209\n",
      "Ітерація: 9700 - Помилка на трейн даних: 0.2209\n",
      "Ітерація: 9800 - Помилка на трейн даних: 0.2209\n",
      "Ітерація: 9900 - Помилка на трейн даних: 0.2209\n",
      "Ітерація: 10000 - Помилка на трейн даних: 0.2209\n",
      "Ітерація: 10100 - Помилка на трейн даних: 0.2209\n",
      "Ітерація: 10200 - Помилка на трейн даних: 0.2209\n",
      "Ітерація: 10300 - Помилка на трейн даних: 0.2209\n",
      "Ітерація: 10400 - Помилка на трейн даних: 0.2209\n",
      "Ітерація: 10500 - Помилка на трейн даних: 0.2209\n",
      "Ітерація: 10600 - Помилка на трейн даних: 0.2209\n",
      "Ітерація: 10700 - Помилка на трейн даних: 0.2209\n",
      "Ітерація: 10800 - Помилка на трейн даних: 0.2209\n",
      "Ітерація: 10900 - Помилка на трейн даних: 0.2209\n",
      "Ітерація: 11000 - Помилка на трейн даних: 0.2209\n",
      "Ітерація: 11100 - Помилка на трейн даних: 0.2209\n",
      "Ітерація: 11200 - Помилка на трейн даних: 0.2209\n",
      "Ітерація: 11300 - Помилка на трейн даних: 0.2209\n",
      "Ітерація: 11400 - Помилка на трейн даних: 0.2209\n",
      "Ітерація: 11500 - Помилка на трейн даних: 0.2209\n",
      "Ітерація: 11600 - Помилка на трейн даних: 0.2209\n",
      "Ітерація: 11700 - Помилка на трейн даних: 0.2209\n",
      "Ітерація: 11800 - Помилка на трейн даних: 0.2209\n",
      "Ітерація: 11900 - Помилка на трейн даних: 0.2209\n",
      "Ітерація: 12000 - Помилка на трейн даних: 0.2209\n",
      "Ітерація: 12100 - Помилка на трейн даних: 0.2209\n",
      "Ітерація: 12200 - Помилка на трейн даних: 0.2209\n",
      "Ітерація: 12300 - Помилка на трейн даних: 0.2209\n",
      "Ітерація: 12400 - Помилка на трейн даних: 0.2209\n",
      "Ітерація: 12500 - Помилка на трейн даних: 0.2209\n",
      "Ітерація: 12600 - Помилка на трейн даних: 0.2209\n",
      "Ітерація: 12700 - Помилка на трейн даних: 0.2209\n",
      "Ітерація: 12800 - Помилка на трейн даних: 0.2209\n",
      "Ітерація: 12900 - Помилка на трейн даних: 0.2209\n",
      "Ітерація: 13000 - Помилка на трейн даних: 0.2209\n",
      "Ітерація: 13100 - Помилка на трейн даних: 0.2209\n",
      "Ітерація: 13200 - Помилка на трейн даних: 0.2209\n",
      "Ітерація: 13300 - Помилка на трейн даних: 0.2209\n",
      "Ітерація: 13400 - Помилка на трейн даних: 0.2209\n",
      "Ітерація: 13500 - Помилка на трейн даних: 0.2209\n",
      "Ітерація: 13600 - Помилка на трейн даних: 0.2209\n",
      "Ітерація: 13700 - Помилка на трейн даних: 0.2209\n",
      "Ітерація: 13800 - Помилка на трейн даних: 0.2209\n",
      "Ітерація: 13900 - Помилка на трейн даних: 0.2209\n",
      "Ітерація: 14000 - Помилка на трейн даних: 0.2209\n",
      "Ітерація: 14100 - Помилка на трейн даних: 0.2209\n",
      "Ітерація: 14200 - Помилка на трейн даних: 0.2209\n",
      "Ітерація: 14300 - Помилка на трейн даних: 0.2209\n",
      "Ітерація: 14400 - Помилка на трейн даних: 0.2209\n",
      "Алгоритм зійшовся.\n"
     ]
    }
   ],
   "source": [
    "theta, cost_history, theta_history, iterations = gradient_descent(x_train_scaled_1, y_train, theta, learning_rate, epsilon, max_iterations)"
   ],
   "metadata": {
    "collapsed": false,
    "ExecuteTime": {
     "end_time": "2024-01-28T16:22:43.113622300Z",
     "start_time": "2024-01-28T16:22:40.291855Z"
    }
   },
   "id": "87475fc83ab1422",
   "execution_count": 72
  },
  {
   "cell_type": "code",
   "outputs": [
    {
     "data": {
      "text/plain": "array([[3.42220589],\n       [3.70797933]])"
     },
     "execution_count": 73,
     "metadata": {},
     "output_type": "execute_result"
    }
   ],
   "source": [
    "theta"
   ],
   "metadata": {
    "collapsed": false,
    "ExecuteTime": {
     "end_time": "2024-01-28T16:22:43.145140200Z",
     "start_time": "2024-01-28T16:22:43.112629200Z"
    }
   },
   "id": "2608beef148cfc1",
   "execution_count": 73
  },
  {
   "cell_type": "markdown",
   "source": [
    "## помітили що тета 0 така сама а тета 0 змінилась"
   ],
   "metadata": {
    "collapsed": false
   },
   "id": "2037be204db0197a"
  },
  {
   "cell_type": "markdown",
   "id": "763cd65b",
   "metadata": {
    "id": "763cd65b"
   },
   "source": [
    "<font color='blue'>**[Optional]**</font> 10. Відобразіть на лінійному графіку значення змінної `cost_history`. Використовуйте будь-яку бібліотеку для візуалізації на вибір."
   ]
  },
  {
   "cell_type": "code",
   "execution_count": 74,
   "id": "9bdacbfa",
   "metadata": {
    "id": "9bdacbfa",
    "ExecuteTime": {
     "end_time": "2024-01-28T16:22:43.296603800Z",
     "start_time": "2024-01-28T16:22:43.127058300Z"
    }
   },
   "outputs": [
    {
     "data": {
      "text/plain": "<Figure size 1200x600 with 1 Axes>",
      "image/png": "[encoded data removed]"
     },
     "metadata": {},
     "output_type": "display_data"
    }
   ],
   "source": [
    "# Erstellen des Plots\n",
    "#plt.figure(figsize=(10, 6))\n",
    "plt.plot(cost_history)\n",
    "plt.title('Зміна Cost_histor у процесі ітерацій')\n",
    "plt.xlim(0, 1000)\n",
    "plt.xlabel('Iterationen')\n",
    "plt.ylabel('Kosten')\n",
    "plt.grid(True)\n",
    "#plt.show()"
   ]
  },
  {
   "cell_type": "markdown",
   "id": "f25e7b8e",
   "metadata": {
    "ExecuteTime": {
     "end_time": "2021-10-08T14:56:41.741952Z",
     "start_time": "2021-10-08T14:56:41.738456Z"
    },
    "id": "f25e7b8e"
   },
   "source": [
    "Відобразіть лише перші 200 ітерацій. Схоже, що після них модель мало навчається. Ми могли б застосувати техніку early stopping у даному випадку та зупинитися на деякій невеликій кількості ітерацій. Зазвичай ця техніка застосовується, щоб уникнути перенавчання. При цьому втрачається трохи точності на train set."
   ]
  },
  {
   "cell_type": "markdown",
   "id": "1b03a7de",
   "metadata": {
    "id": "1b03a7de"
   },
   "source": [
    "Виведемо отримані параметри та останнє значення функції витрат."
   ]
  },
  {
   "cell_type": "code",
   "execution_count": 75,
   "id": "a4b599fc",
   "metadata": {
    "id": "a4b599fc",
    "ExecuteTime": {
     "end_time": "2024-01-28T16:22:43.397051400Z",
     "start_time": "2024-01-28T16:22:43.298596800Z"
    }
   },
   "outputs": [
    {
     "name": "stdout",
     "output_type": "stream",
     "text": [
      "Theta_0:          3.422,\n",
      "Theta_1:          3.708\n",
      "Final cost/MSE:  0.221\n"
     ]
    }
   ],
   "source": [
    "print('Theta_0:          {:0.3f},\\nTheta_1:          {:0.3f}'.format(theta[0][-1], theta[1][-1]))\n",
    "print('Final cost/MSE:  {:0.3f}'.format(cost_history[-1].item()))\n",
    "#print('Number of iterations: {:d}'.format(iterations))\n"
   ]
  },
  {
   "cell_type": "markdown",
   "id": "4b900aa2",
   "metadata": {
    "id": "4b900aa2"
   },
   "source": [
    "<font color='blue'>**[Optional]**</font> 11. Знайдіть прогнози на `X_train`, `X_test` та порахуйте `mean_squared_error` помилку прогнозів обох підвибірках."
   ]
  },
  {
   "cell_type": "code",
   "execution_count": 76,
   "id": "92c350ea",
   "metadata": {
    "id": "92c350ea",
    "ExecuteTime": {
     "end_time": "2024-01-28T16:22:43.399043500Z",
     "start_time": "2024-01-28T16:22:43.314169200Z"
    }
   },
   "outputs": [
    {
     "name": "stdout",
     "output_type": "stream",
     "text": [
      "Середньоквадратична помилка на тренувальних даних: 0.44172140535304444\n",
      "Середньоквадратична помилка на тестових даних: 0.5079401669717492\n"
     ]
    },
    {
     "data": {
      "text/plain": "                              MSE  RMSE\nmy_Model                 0.441721  None\nmodel_2_dim1(lr_1_dim )      None  None\nlr.predict (lr dim 7)        None  None\nPoly_Regression              None  None\nElasticNet                   None  None",
      "text/html": "<div>\n<style scoped>\n    .dataframe tbody tr th:only-of-type {\n        vertical-align: middle;\n    }\n\n    .dataframe tbody tr th {\n        vertical-align: top;\n    }\n\n    .dataframe thead th {\n        text-align: right;\n    }\n</style>\n<table border=\"1\" class=\"dataframe\">\n  <thead>\n    <tr style=\"text-align: right;\">\n      <th></th>\n      <th>MSE</th>\n      <th>RMSE</th>\n    </tr>\n  </thead>\n  <tbody>\n    <tr>\n      <th>my_Model</th>\n      <td>0.441721</td>\n      <td>None</td>\n    </tr>\n    <tr>\n      <th>model_2_dim1(lr_1_dim )</th>\n      <td>None</td>\n      <td>None</td>\n    </tr>\n    <tr>\n      <th>lr.predict (lr dim 7)</th>\n      <td>None</td>\n      <td>None</td>\n    </tr>\n    <tr>\n      <th>Poly_Regression</th>\n      <td>None</td>\n      <td>None</td>\n    </tr>\n    <tr>\n      <th>ElasticNet</th>\n      <td>None</td>\n      <td>None</td>\n    </tr>\n  </tbody>\n</table>\n</div>"
     },
     "execution_count": 76,
     "metadata": {},
     "output_type": "execute_result"
    }
   ],
   "source": [
    "\n",
    "\n",
    "# Розрахунок прогнозів для тренувальних і тестових даних\n",
    "y_train_pred_my = predict_my(x_train_scaled_1, theta)\n",
    "y_test_pred_my = predict_my(x_test_scaled_1, theta)\n",
    "\n",
    "#print(\"прогнозів для тренувальних даних:\", y_train_pred)\n",
    "#print(\"прогнозів для тest даних:\", y_test_pred)\n",
    "\n",
    "\n",
    "# Розрахунок середньоквадратичної помилки\n",
    "mse_train_my = mean_squared_error(y_train, y_train_pred_my)\n",
    "mse_test_my = mean_squared_error(y_test, y_test_pred_my)\n",
    "\n",
    "print(\"Середньоквадратична помилка на тренувальних даних:\", mse_train_my)\n",
    "print(\"Середньоквадратична помилка на тестових даних:\", mse_test_my)\n",
    "\n",
    "df_MSE_train.loc[\"my_Model\", \"MSE\"] = mse_train_my\n",
    "df_MSE_test.loc[\"my_Model\", \"MSE\"] = mse_test_my\n",
    "df_MSE_train\n",
    "\n"
   ]
  },
  {
   "cell_type": "code",
   "outputs": [
    {
     "data": {
      "text/plain": "                             MSE  RMSE\nmy_Model                 0.50794  None\nmodel_2_dim1(lr_1_dim )     None  None\nlr.predict (lr dim 7)       None  None\nPoly_Regression             None  None\nElasticNet                  None  None",
      "text/html": "<div>\n<style scoped>\n    .dataframe tbody tr th:only-of-type {\n        vertical-align: middle;\n    }\n\n    .dataframe tbody tr th {\n        vertical-align: top;\n    }\n\n    .dataframe thead th {\n        text-align: right;\n    }\n</style>\n<table border=\"1\" class=\"dataframe\">\n  <thead>\n    <tr style=\"text-align: right;\">\n      <th></th>\n      <th>MSE</th>\n      <th>RMSE</th>\n    </tr>\n  </thead>\n  <tbody>\n    <tr>\n      <th>my_Model</th>\n      <td>0.50794</td>\n      <td>None</td>\n    </tr>\n    <tr>\n      <th>model_2_dim1(lr_1_dim )</th>\n      <td>None</td>\n      <td>None</td>\n    </tr>\n    <tr>\n      <th>lr.predict (lr dim 7)</th>\n      <td>None</td>\n      <td>None</td>\n    </tr>\n    <tr>\n      <th>Poly_Regression</th>\n      <td>None</td>\n      <td>None</td>\n    </tr>\n    <tr>\n      <th>ElasticNet</th>\n      <td>None</td>\n      <td>None</td>\n    </tr>\n  </tbody>\n</table>\n</div>"
     },
     "execution_count": 77,
     "metadata": {},
     "output_type": "execute_result"
    }
   ],
   "source": [
    "df_MSE_test"
   ],
   "metadata": {
    "collapsed": false,
    "ExecuteTime": {
     "end_time": "2024-01-28T16:22:43.442895700Z",
     "start_time": "2024-01-28T16:22:43.329264100Z"
    }
   },
   "id": "1db4095adea31265",
   "execution_count": 77
  },
  {
   "cell_type": "markdown",
   "id": "e5de21d1",
   "metadata": {
    "ExecuteTime": {
     "end_time": "2021-10-08T15:02:52.150262Z",
     "start_time": "2021-10-08T15:02:52.146946Z"
    },
    "id": "e5de21d1"
   },
   "source": [
    "<font color='blue'>**[Optional]**</font> 12. Виведіть діаграму розсіювання ознак `Score` та `GDP per capita` та додайте лінію прогнозу моделі."
   ]
  },
  {
   "cell_type": "code",
   "outputs": [
    {
     "data": {
      "text/plain": "<matplotlib.legend.Legend at 0x179eae10130>"
     },
     "execution_count": 78,
     "metadata": {},
     "output_type": "execute_result"
    },
    {
     "data": {
      "text/plain": "<Figure size 1200x600 with 1 Axes>",
      "image/png": "[encoded data removed]"
     },
     "metadata": {},
     "output_type": "display_data"
    }
   ],
   "source": [
    "# Діаграма розсіювання для training даних\n",
    "plt.scatter(x_train, y_train, color='green', label='Actual')\n",
    "plt.scatter(x_train, y_train_pred_my, color='orange', label='Predicted')\n",
    "plt.title('Actual vs Predicted for Training Data')\n",
    "plt.xlabel('GDP per capita')\n",
    "plt.ylabel('Score')\n",
    "plt.legend()"
   ],
   "metadata": {
    "collapsed": false,
    "ExecuteTime": {
     "end_time": "2024-01-28T16:22:43.616326700Z",
     "start_time": "2024-01-28T16:22:43.346219300Z"
    }
   },
   "id": "a2c713a1be47119a",
   "execution_count": 78
  },
  {
   "cell_type": "code",
   "execution_count": 79,
   "id": "5a53e725",
   "metadata": {
    "id": "5a53e725",
    "ExecuteTime": {
     "end_time": "2024-01-28T16:22:43.801574900Z",
     "start_time": "2024-01-28T16:22:43.565293200Z"
    }
   },
   "outputs": [
    {
     "data": {
      "text/plain": "<matplotlib.legend.Legend at 0x179ea88a140>"
     },
     "execution_count": 79,
     "metadata": {},
     "output_type": "execute_result"
    },
    {
     "data": {
      "text/plain": "<Figure size 1200x600 with 1 Axes>",
      "image/png": "[encoded data removed]"
     },
     "metadata": {},
     "output_type": "display_data"
    }
   ],
   "source": [
    "\n",
    "\n",
    "\n",
    "# Діаграма розсіювання для тестових даних\n",
    "plt.scatter(x_test, y_test, color='green', label='Actual')\n",
    "plt.scatter(x_test, y_test_pred_my, color='orange', label='Predicted')\n",
    "plt.title('Actual vs Predicted for Test Data')\n",
    "plt.xlabel('GDP per capita')\n",
    "plt.ylabel('Score')\n",
    "plt.legend()\n",
    "#plt.show()\n"
   ]
  },
  {
   "cell_type": "markdown",
   "id": "7c55cead",
   "metadata": {
    "id": "7c55cead"
   },
   "source": [
    "13. Навчіть лінійну регресію на наборі даних, що складається тільки з ознаки `GDP per capita`, але тепер використовуючи LinearRegression з sklearn.   \n",
    "Подумайте, чи треба в sklearn модель подавати стовпчик з одиниць, яку ми подавали в самописну модель."
   ]
  },
  {
   "cell_type": "markdown",
   "source": [
    "## ні, стовбчика з одиниць для реалізованої моделі склерн не потрібно."
   ],
   "metadata": {
    "collapsed": false
   },
   "id": "3e64944e8d39e50a"
  },
  {
   "cell_type": "code",
   "outputs": [
    {
     "data": {
      "text/plain": "0.5119632343226919"
     },
     "execution_count": 80,
     "metadata": {},
     "output_type": "execute_result"
    }
   ],
   "source": [
    "#für X_train_scaled\n",
    "# Створення екземпляра LinearRegression\n",
    "model_2_dim1 = LinearRegression()\n",
    "\n",
    "# Навчання моделі\n",
    "model_2_dim1.fit(x_train_scaled, y_train)\n",
    "\n",
    "# Оцінювання моделі (опціонально)\n",
    "model_2_dim1.score(x_test_scaled, y_test)"
   ],
   "metadata": {
    "collapsed": false,
    "ExecuteTime": {
     "end_time": "2024-01-28T16:22:43.892301600Z",
     "start_time": "2024-01-28T16:22:43.802571800Z"
    }
   },
   "id": "9e48548008d9ca15",
   "execution_count": 80
  },
  {
   "cell_type": "markdown",
   "source": [
    "## чомусь нема різниці між X_train та X_train_scaled. Дивно ?  Стовбчик одиниць додавати не треба"
   ],
   "metadata": {
    "collapsed": false
   },
   "id": "ed553aac9b36c2aa"
  },
  {
   "cell_type": "markdown",
   "id": "9ff8707d",
   "metadata": {
    "id": "9ff8707d"
   },
   "source": [
    "Порівняйте помилку на тестовій вибірці лінійної регресії, написаної вами, та зі sklearn. Чи є різниця у значеннях?"
   ]
  },
  {
   "cell_type": "code",
   "outputs": [
    {
     "name": "stdout",
     "output_type": "stream",
     "text": [
      "MSE на тестових даних для my моєї предікт : 0.5079401669717492\n",
      "MSE на тестових даних для предікт від  lr sklearn: 0.5079112698997723\n"
     ]
    },
    {
     "data": {
      "text/plain": "                              MSE  RMSE\nmy_Model                 0.441721  None\nmodel_2_dim1(lr_1_dim )  0.441721  None\nlr.predict (lr dim 7)        None  None\nPoly_Regression              None  None\nElasticNet                   None  None",
      "text/html": "<div>\n<style scoped>\n    .dataframe tbody tr th:only-of-type {\n        vertical-align: middle;\n    }\n\n    .dataframe tbody tr th {\n        vertical-align: top;\n    }\n\n    .dataframe thead th {\n        text-align: right;\n    }\n</style>\n<table border=\"1\" class=\"dataframe\">\n  <thead>\n    <tr style=\"text-align: right;\">\n      <th></th>\n      <th>MSE</th>\n      <th>RMSE</th>\n    </tr>\n  </thead>\n  <tbody>\n    <tr>\n      <th>my_Model</th>\n      <td>0.441721</td>\n      <td>None</td>\n    </tr>\n    <tr>\n      <th>model_2_dim1(lr_1_dim )</th>\n      <td>0.441721</td>\n      <td>None</td>\n    </tr>\n    <tr>\n      <th>lr.predict (lr dim 7)</th>\n      <td>None</td>\n      <td>None</td>\n    </tr>\n    <tr>\n      <th>Poly_Regression</th>\n      <td>None</td>\n      <td>None</td>\n    </tr>\n    <tr>\n      <th>ElasticNet</th>\n      <td>None</td>\n      <td>None</td>\n    </tr>\n  </tbody>\n</table>\n</div>"
     },
     "execution_count": 81,
     "metadata": {},
     "output_type": "execute_result"
    }
   ],
   "source": [
    "# Отримання прогнозів на тестових даних\n",
    "y_train_pred_lr_1dim = model_2_dim1.predict(x_train_scaled)\n",
    "y_test_pred_lr_1dim = model_2_dim1.predict(x_test_scaled)\n",
    "\n",
    "# Розрахунок MSE\n",
    "mse_train_lr_dim1 = mean_squared_error(y_train, y_train_pred_lr_1dim)\n",
    "mse_test_lr_dim1 = mean_squared_error(y_test, y_test_pred_lr_1dim)\n",
    "#mse_test_my_model = mean_squared_error(y_test,  y_test_pred_my)\n",
    "\n",
    "print(\"MSE на тестових даних для my моєї предікт :\", mse_test_my)\n",
    "print(\"MSE на тестових даних для предікт від  lr sklearn:\", mse_test_lr_dim1)\n",
    "\n",
    "df_MSE_train.loc[\"model_2_dim1(lr_1_dim )\", \"MSE\"] = mse_train_lr_dim1\n",
    "df_MSE_test.loc[\"model_2_dim1(lr_1_dim )\", \"MSE\"] = mse_test_lr_dim1\n",
    "df_MSE_train\n",
    "\n",
    "\n"
   ],
   "metadata": {
    "collapsed": false,
    "ExecuteTime": {
     "end_time": "2024-01-28T16:22:43.894288700Z",
     "start_time": "2024-01-28T16:22:43.819515600Z"
    }
   },
   "id": "640523578400f529",
   "execution_count": 81
  },
  {
   "cell_type": "code",
   "outputs": [
    {
     "data": {
      "text/plain": "                              MSE  RMSE\nmy_Model                  0.50794  None\nmodel_2_dim1(lr_1_dim )  0.507911  None\nlr.predict (lr dim 7)        None  None\nPoly_Regression              None  None\nElasticNet                   None  None",
      "text/html": "<div>\n<style scoped>\n    .dataframe tbody tr th:only-of-type {\n        vertical-align: middle;\n    }\n\n    .dataframe tbody tr th {\n        vertical-align: top;\n    }\n\n    .dataframe thead th {\n        text-align: right;\n    }\n</style>\n<table border=\"1\" class=\"dataframe\">\n  <thead>\n    <tr style=\"text-align: right;\">\n      <th></th>\n      <th>MSE</th>\n      <th>RMSE</th>\n    </tr>\n  </thead>\n  <tbody>\n    <tr>\n      <th>my_Model</th>\n      <td>0.50794</td>\n      <td>None</td>\n    </tr>\n    <tr>\n      <th>model_2_dim1(lr_1_dim )</th>\n      <td>0.507911</td>\n      <td>None</td>\n    </tr>\n    <tr>\n      <th>lr.predict (lr dim 7)</th>\n      <td>None</td>\n      <td>None</td>\n    </tr>\n    <tr>\n      <th>Poly_Regression</th>\n      <td>None</td>\n      <td>None</td>\n    </tr>\n    <tr>\n      <th>ElasticNet</th>\n      <td>None</td>\n      <td>None</td>\n    </tr>\n  </tbody>\n</table>\n</div>"
     },
     "execution_count": 82,
     "metadata": {},
     "output_type": "execute_result"
    }
   ],
   "source": [
    "df_MSE_test"
   ],
   "metadata": {
    "collapsed": false,
    "ExecuteTime": {
     "end_time": "2024-01-28T16:22:43.958781400Z",
     "start_time": "2024-01-28T16:22:43.833078400Z"
    }
   },
   "id": "e24a3f1fc6f33d0b",
   "execution_count": 82
  },
  {
   "cell_type": "markdown",
   "source": [
    "## різниця лише у 5му знаку після коми."
   ],
   "metadata": {
    "collapsed": false
   },
   "id": "d9a52650958e43c0"
  },
  {
   "cell_type": "markdown",
   "id": "61e8299b",
   "metadata": {
    "id": "61e8299b"
   },
   "source": [
    "14. Навчимо лінійну регресію на більшій кількості ознак і подивимося, чи вдасться покращити модель."
   ]
  },
  {
   "cell_type": "markdown",
   "id": "a4e10ab5",
   "metadata": {
    "ExecuteTime": {
     "end_time": "2021-10-14T16:54:08.159686Z",
     "start_time": "2021-10-14T16:54:08.152242Z"
    },
    "id": "a4e10ab5"
   },
   "source": [
    "14.1 Навчіть лінійну регресію з sklearn використовуючи як набор ознак наступний: `GDP per capita`, `Social support`, `Healthy life expectancy`, `Freedom to make life choices`, `Generosity`, `Perceptions of corruption`\n",
    "\n",
    "Не забудьте:  \n",
    "1. Розділити `train` та `test`.\n",
    "2. Нормувати кожну колонку даних."
   ]
  },
  {
   "cell_type": "markdown",
   "source": [
    "## Взагалі то треба було б розділити індекси. Але вже так. Наступного разу зроблю поділ по індексам."
   ],
   "metadata": {
    "collapsed": false
   },
   "id": "9e9535bcabb7bcf8"
  },
  {
   "cell_type": "code",
   "source": [
    "X = df.drop(['Score'],axis=1)\n",
    "X = X.drop(['Country or region'], axis=1)\n",
    "y = df['Score']\n",
    "\n",
    "#aufteilen von Daten\n",
    "X_train, X_test, y_train, y_test = train_test_split(X, y, test_size=0.20, random_state=42)\n",
    "\n",
    "# Створення об'єкту MinMaxScaler\n",
    "scaler = MinMaxScaler()\n",
    "\n",
    "# Масштабування навчальної вибірки\n",
    "X_train_scaled = scaler.fit_transform(X_train)\n",
    "\n",
    "# Масштабування тестової вибірки\n",
    "# ВАЖЛИВО: використовувати ті ж параметри масштабування, що й для навчальної вибірки\n",
    "X_test_scaled = scaler.transform(X_test)\n",
    "\n",
    "# Тепер X_train_scaled та X_test_scaled містять масштабовані ознаки\n",
    "\n",
    "X_train_scaled\n",
    "#X_train_scaled"
   ],
   "metadata": {
    "id": "vXhXtyHTxiqy",
    "ExecuteTime": {
     "end_time": "2024-01-28T16:22:43.961766300Z",
     "start_time": "2024-01-28T16:22:43.849109700Z"
    }
   },
   "id": "vXhXtyHTxiqy",
   "execution_count": 83,
   "outputs": [
    {
     "data": {
      "text/plain": "array([[0.36129032, 0.66508314, 0.86330049, 0.6993865 , 0.78922345,\n        0.37985866, 0.13245033],\n       [0.89032258, 0.16330166, 0.35221675, 0.35933392, 0.46434231,\n        0.31272085, 0.18763797],\n       [0.79354839, 0.54691211, 0.61576355, 0.71428571, 0.26465927,\n        0.10424028, 0.1214128 ],\n       [0.82580645, 0.15914489, 0.51785714, 0.21209465, 0.48969889,\n        0.44522968, 0.09933775],\n       [0.81935484, 0.22862233, 0.68041872, 0.26993865, 0.51822504,\n        0.27031802, 0.11479029],\n       [0.42580645, 0.402019  , 0.5455665 , 0.46888694, 0.49603803,\n        0.38869258, 0.21633554],\n       [0.27096774, 0.58491686, 0.8682266 , 0.73707274, 0.74484945,\n        0.17491166, 0.07505519],\n       [0.16774194, 0.47505938, 0.78140394, 0.65381245, 0.84786054,\n        0.30918728, 0.17218543],\n       [0.86451613, 0.48159145, 0.70751232, 0.        , 0.49603803,\n        0.13074205, 0.29801325],\n       [0.50967742, 0.72505938, 0.72105911, 0.72567923, 0.80507132,\n        0.45936396, 0.05298013],\n       [0.84516129, 0.20783848, 0.47167488, 0.16827344, 0.27575277,\n        0.34982332, 0.17218543],\n       [0.23225806, 0.8087886 , 0.84236453, 0.76336547, 0.84944532,\n        0.45053004, 0.24282561],\n       [0.48387097, 0.85391924, 0.78633005, 0.98334794, 0.69730586,\n        0.45583039, 0.63355408],\n       [0.14193548, 0.63539192, 0.81465517, 0.75460123, 0.68621236,\n        0.13074205, 0.1611479 ],\n       [0.87096774, 0.19714964, 0.65825123, 0.38825592, 0.56418384,\n        0.44522968, 0.13245033],\n       [0.55483871, 0.62470309, 0.94704433, 0.57581069, 0.62440571,\n        0.43109541, 0.06181015],\n       [0.07096774, 0.61401425, 0.88731527, 0.84399649, 0.88431062,\n        0.25441696, 0.20529801],\n       [0.38709677, 0.4608076 , 0.74445813, 0.61875548, 0.80982567,\n        0.24204947, 0.14128035],\n       [0.43225806, 0.70249406, 0.89408867, 0.63628396, 0.52931854,\n        0.14487633, 0.06843267],\n       [0.8       , 0.33372922, 0.57142857, 0.63365469, 0.83518225,\n        0.29328622, 0.31567329],\n       [0.17419355, 0.83313539, 0.83559113, 0.69675723, 0.69572108,\n        0.14134276, 0.29139073],\n       [0.76129032, 0.52612827, 0.41009852, 0.65907099, 0.54833597,\n        0.07597173, 0.36203091],\n       [0.75483871, 0.22565321, 0.51046798, 0.32865907, 0.52614897,\n        0.36572438, 0.18984547],\n       [0.26451613, 0.73515439, 0.93288177, 0.71691499, 0.46117274,\n        0.07597173, 0.09271523],\n       [0.02580645, 0.82897862, 0.93719212, 0.87554777, 0.88272583,\n        0.56890459, 0.65783664],\n       [0.20645161, 0.66745843, 0.9020936 , 0.78089395, 0.82884311,\n        0.22438163, 0.33112583],\n       [0.5483871 , 0.32719715, 0.88546798, 0.63365469, 0.80507132,\n        0.53003534, 0.05077263],\n       [0.78709677, 0.12114014, 0.60714286, 0.34180543, 0.78288431,\n        0.34805654, 0.30463576],\n       [0.41935484, 0.72505938, 0.88115764, 0.87554777, 0.80507132,\n        0.08303887, 0.05518764],\n       [0.10322581, 0.81532067, 0.8953202 , 0.86503067, 0.7844691 ,\n        0.46113074, 0.58498896],\n       [0.95483871, 0.3675772 , 0.23275862, 0.38562664, 0.02060222,\n        0.58480565, 0.31125828],\n       [0.06451613, 0.81472684, 0.95320197, 0.90797546, 0.88272583,\n        0.58657244, 0.6401766 ],\n       [0.70967742, 0.2672209 , 0.69827586, 0.50043821, 0.46275753,\n        0.27031802, 0.1589404 ],\n       [0.96129032, 0.11342043, 0.34482759, 0.43382997, 0.70206022,\n        0.38515901, 0.19646799],\n       [0.        , 0.79572447, 0.97721675, 0.86415425, 0.94453249,\n        0.27031802, 0.86754967],\n       [0.71612903, 0.        , 0.42980296, 0.23488168, 0.8858954 ,\n        0.42932862, 0.59602649],\n       [0.41290323, 0.57007126, 0.78448276, 0.74846626, 0.72107765,\n        0.14664311, 0.05960265],\n       [0.28387097, 0.41211401, 0.8158867 , 0.7318142 , 0.68938193,\n        0.35335689, 0.2803532 ],\n       [0.52258065, 0.70130641, 0.71182266, 0.87554777, 0.10618067,\n        0.        , 0.07505519],\n       [0.18064516, 1.        , 0.80849754, 0.76336547, 0.87955626,\n        0.38869258, 0.36865342],\n       [0.25806452, 0.44239905, 0.94150246, 0.66257669, 1.        ,\n        0.56890459, 0.52980132],\n       [0.67741935, 0.57007126, 0.83189655, 0.41104294, 0.61648177,\n        0.22968198, 0.1214128 ],\n       [0.16129032, 0.68824228, 0.8429803 , 0.80631025, 0.56576862,\n        0.33038869, 0.12362031],\n       [0.1483871 , 0.78622328, 0.90640394, 0.91586328, 0.69096672,\n        0.19611307, 0.40397351],\n       [0.70322581, 0.39014252, 0.76785714, 0.58895706, 0.35657686,\n        0.1819788 , 0.14569536],\n       [0.2516129 , 0.71615202, 0.88546798, 0.77475898, 0.76545166,\n        0.20671378, 0.11037528],\n       [0.54193548, 0.41330166, 0.6841133 , 0.21472393, 0.67511886,\n        0.37985866, 0.09050773],\n       [0.92903226, 0.02731591, 0.27524631, 0.33304119, 0.34865293,\n        0.31095406, 0.39735099],\n       [0.97419355, 0.2131829 , 0.43780788, 0.53812445, 0.87955626,\n        0.38339223, 0.90728477],\n       [0.91612903, 0.16270784, 0.56403941, 0.48641543, 0.23454834,\n        0.29858657, 0.09050773],\n       [0.30322581, 0.69002375, 0.75862069, 0.72304996, 0.73217116,\n        0.14664311, 0.01103753],\n       [0.72258065, 0.5219715 , 0.80849754, 0.41805434, 0.63549921,\n        0.12367491, 0.12362031],\n       [0.39354839, 0.7131829 , 0.8682266 , 0.72567923, 0.31537242,\n        0.14310954, 0.04415011],\n       [0.47096774, 0.29275534, 0.67610837, 0.62927257, 0.61648177,\n        0.40636042, 0.31788079],\n       [0.21290323, 0.93349169, 0.90086207, 1.        , 0.88114105,\n        0.47879859, 1.        ],\n       [0.92258065, 0.29038005, 0.71982759, 0.14723926, 0.56893819,\n        0.18904594, 0.20529801],\n       [0.93548387, 0.21733967, 0.68596059, 0.37949167, 0.57210777,\n        0.26678445, 0.19646799],\n       [0.4       , 0.50771971, 0.90825123, 0.6809816 , 0.81458003,\n        0.32508834, 0.17660044],\n       [0.99354839, 0.01543943, 0.        , 0.09202454, 0.35657686,\n        0.41519435, 0.07726269],\n       [0.61290323, 0.3260095 , 0.56034483, 0.29009641, 0.60380349,\n        0.33038869, 0.0816777 ],\n       [0.34193548, 0.77256532, 0.75061576, 0.90797546, 0.25198098,\n        0.30918728, 0.12362031],\n       [0.03225806, 0.86223278, 0.93965517, 0.92199825, 0.90649762,\n        0.46466431, 0.75717439],\n       [0.69677419, 0.34085511, 0.6908867 , 0.55828221, 0.96513471,\n        0.40989399, 0.13686534],\n       [0.81290323, 0.05581948, 0.69273399, 0.31288344, 0.42630745,\n        0.3745583 , 0.11699779],\n       [0.31612903, 0.5415677 , 0.80788177, 0.7607362 , 0.78922345,\n        0.22261484, 0.19205298],\n       [0.22580645, 0.76840855, 0.91625616, 0.91060473, 0.36608558,\n        0.27915194, 0.06622517],\n       [0.51612903, 0.63361045, 0.9020936 , 0.69149869, 0.37242472,\n        0.16607774, 0.31346578],\n       [0.49677419, 0.5611639 , 0.74630542, 0.74057844, 0.33597464,\n        0.46466431, 0.01324503],\n       [0.21935484, 0.47149644, 0.76477833, 0.69149869, 0.681458  ,\n        0.16431095, 0.16335541],\n       [0.29677419, 0.64845606, 0.8817734 , 0.77212971, 0.74643423,\n        0.11660777, 0.11037528],\n       [0.04516129, 0.77375297, 0.95874384, 0.89921122, 0.92709984,\n        0.58303887, 0.8388521 ],\n       [0.27741935, 0.74703088, 0.93780788, 0.83523225, 0.89381933,\n        0.25441696, 0.12582781],\n       [0.4516129 , 0.4067696 , 0.81773399, 0.64767748, 0.38827258,\n        0.31978799, 0.        ],\n       [0.72903226, 0.08194774, 0.47660099, 0.32077125, 0.50396197,\n        0.33215548, 0.22516556],\n       [0.58709677, 0.55285036, 0.74076355, 0.57843996, 0.77812995,\n        0.87985866, 0.06181015],\n       [0.53548387, 0.58372922, 0.79679803, 0.73444347, 0.54675119,\n        0.32685512, 0.07505519],\n       [0.90322581, 0.04334917, 0.56773399, 0.38825592, 0.58637084,\n        0.41166078, 0.07284768],\n       [0.90967742, 0.16270784, 0.466133  , 0.44259422, 0.22503962,\n        0.48586572, 0.17218543],\n       [0.57419355, 0.61935867, 0.70628079, 0.6739702 , 0.5562599 ,\n        0.06183746, 0.401766  ],\n       [0.0516129 , 0.81057007, 0.92672414, 0.91060473, 0.92551506,\n        0.50353357, 0.6799117 ],\n       [0.08387097, 0.95546318, 0.91071429, 0.88694128, 0.83359746,\n        0.34275618, 0.69757174],\n       [0.38064516, 0.69655582, 0.92857143, 0.63891323, 0.64976228,\n        0.25795053, 0.21192053],\n       [0.85806452, 0.19952494, 0.63608374, 0.46625767, 0.5451664 ,\n        0.36925795, 0.22075055],\n       [0.01935484, 0.81947743, 1.        , 0.89921122, 0.93660856,\n        0.6254417 , 0.26048565],\n       [0.10967742, 0.80522565, 0.92610837, 0.86415425, 0.7496038 ,\n        0.28268551, 0.46357616],\n       [0.24516129, 0.73099762, 0.90948276, 0.62489045, 0.77496038,\n        0.32685512, 0.03532009],\n       [0.46451613, 0.62410926, 0.83805419, 0.76336547, 0.31220285,\n        0.25088339, 0.17660044],\n       [0.87741935, 0.54216152, 0.63977833, 0.56441718, 0.38193344,\n        0.13427562, 0.14790287],\n       [0.03870968, 0.8236342 , 0.91564039, 0.88431201, 0.90966719,\n        0.47173145, 0.82339956],\n       [0.88387097, 0.3432304 , 0.65147783, 0.3733567 , 0.68304279,\n        0.43639576, 0.19205298],\n       [0.64516129, 0.49703088, 0.75431034, 0.71428571, 0.60697306,\n        0.19434629, 0.28697572],\n       [0.01290323, 0.88361045, 0.97413793, 0.90096407, 0.95562599,\n        0.47879859, 0.75275938],\n       [0.77419355, 0.304038  , 0.60529557, 0.50920245, 0.68304279,\n        0.65724382, 0.11699779],\n       [0.40645161, 0.75      , 0.77093596, 0.91323401, 0.66085578,\n        0.33745583, 0.35761589],\n       [0.74193548, 0.50475059, 0.64963054, 0.71428571, 0.44849445,\n        0.16784452, 0.14128035],\n       [0.3483871 , 0.73456057, 0.9408867 , 0.76599474, 0.7844691 ,\n        0.1819788 , 0.35540839],\n       [0.69032258, 0.57007126, 0.87869458, 0.70552147, 0.24405705,\n        0.1130742 , 0.10375276],\n       [0.32258065, 0.89073634, 0.81219212, 0.70815074, 0.78129952,\n        0.25088339, 0.21412804],\n       [0.98709677, 0.20783848, 0.31834975, 0.31638913, 0.        ,\n        0.27915194, 0.05518764],\n       [0.37419355, 0.38123515, 0.76108374, 0.72567923, 0.80348653,\n        0.43462898, 0.17218543],\n       [0.30967742, 0.75      , 0.75307882, 0.91323401, 0.64342314,\n        0.33568905, 0.09050773],\n       [0.56774194, 0.47565321, 0.48152709, 0.68536372, 0.66244057,\n        0.06360424, 0.16777042],\n       [0.13548387, 0.7719715 , 0.93596059, 0.87554777, 0.89381933,\n        0.66254417, 0.33333333],\n       [0.36774194, 0.78800475, 0.87376847, 0.95354952, 0.70522979,\n        0.12190813, 0.30905077],\n       [0.96774194, 0.17042755, 0.716133  , 0.4057844 , 0.22662441,\n        0.19081272, 0.16997792],\n       [0.83225806, 0.56353919, 0.77894089, 0.7283085 , 0.74484945,\n        0.43109541, 0.10375276],\n       [0.23870968, 0.73990499, 0.92610837, 0.77212971, 0.52931854,\n        0.21378092, 0.03090508],\n       [0.94193548, 0.19180523, 0.42364532, 0.39351446, 0.04120444,\n        0.74028269, 0.24282561],\n       [0.00645161, 0.82125891, 0.96859606, 0.87291849, 0.93819334,\n        0.44522968, 0.90507726],\n       [0.33548387, 0.70486936, 0.9020936 , 0.71165644, 0.41838352,\n        0.13250883, 0.14128035],\n       [0.83870968, 0.4216152 , 0.72721675, 0.48641543, 0.83201268,\n        1.        , 0.37969095],\n       [0.66451613, 0.62767221, 0.72844828, 0.50043821, 0.46751189,\n        0.07597173, 0.1214128 ],\n       [0.63870968, 0.26484561, 0.75492611, 0.59333918, 0.69572108,\n        0.50353357, 0.19646799],\n       [0.7483871 , 0.65320665, 0.51847291, 0.68799299, 0.48335975,\n        0.4770318 , 0.27593819],\n       [0.56129032, 0.59501188, 0.71428571, 0.68799299, 0.1362916 ,\n        0.12897527, 0.25165563],\n       [0.47741935, 0.68586698, 0.77955665, 0.80105171, 0.46909667,\n        0.21024735, 0.04856512],\n       [0.78064516, 0.33847981, 0.71859606, 0.42857143, 0.10459588,\n        0.18727915, 0.19426049],\n       [1.        , 0.18171021, 0.35406404, 0.25854514, 0.01584786,\n        0.35689046, 0.200883  ],\n       [0.12903226, 0.89251781, 0.80665025, 0.72304996, 0.94770206,\n        0.46289753, 0.401766  ],\n       [0.45806452, 0.61995249, 0.8023399 , 0.58983348, 0.659271  ,\n        0.23498233, 0.33554084],\n       [0.68387097, 0.56235154, 0.52216749, 0.76599474, 0.60697306,\n        0.31448763, 0.05960265],\n       [0.09032258, 0.7915677 , 0.94704433, 0.87291849, 0.71315372,\n        0.61484099, 0.61368653],\n       [0.59354839, 0.61104513, 0.69273399, 0.7826468 , 0.82567353,\n        0.1024735 , 0.22075055],\n       [0.65806452, 0.39964371, 0.49199507, 0.44522349, 0.58954041,\n        0.18551237, 0.20529801]])"
     },
     "execution_count": 83,
     "metadata": {},
     "output_type": "execute_result"
    }
   ]
  },
  {
   "cell_type": "markdown",
   "id": "8d8e3625",
   "metadata": {
    "id": "8d8e3625"
   },
   "source": [
    "14.2 Виведіть помилку прогнозу на `train` та `test` вибірках. Порівняйте з результатом, отриманим під час навчання однією ознакою. Чи змінилися метрики?"
   ]
  },
  {
   "cell_type": "code",
   "source": [
    "lr = LinearRegression() #model 7features\n",
    "\n",
    "lr.fit(X_train_scaled,y_train)\n",
    "\n",
    "lr.score(X_test_scaled, y_test) # score дає квадрати "
   ],
   "metadata": {
    "colab": {
     "base_uri": "https://localhost:8080/"
    },
    "id": "Q5jd9NHV1c32",
    "outputId": "8a2e6d24-e8bb-4a9c-b92a-65e0e0f7f8e6",
    "ExecuteTime": {
     "end_time": "2024-01-28T16:22:43.977609700Z",
     "start_time": "2024-01-28T16:22:43.880338Z"
    }
   },
   "id": "Q5jd9NHV1c32",
   "execution_count": 84,
   "outputs": [
    {
     "data": {
      "text/plain": "0.9770579560089099"
     },
     "execution_count": 84,
     "metadata": {},
     "output_type": "execute_result"
    }
   ]
  },
  {
   "cell_type": "code",
   "source": [
    "y_train_pred_lr_7 = lr.predict(X_train_scaled)\n",
    "y_test_pred_lr_7 = lr.predict(X_test_scaled)\n",
    "\n",
    "mse_train_X_lr_7 = mean_squared_error(y_train, y_train_pred_lr_7)\n",
    "mse_test_X_lr_7 = mean_squared_error(y_test, y_test_pred_lr_7)\n",
    "\n",
    "df_MSE_train.loc[\"lr.predict (lr dim 7)\", \"MSE\"] =mse_train_X_lr_7\n",
    "df_MSE_test.loc[\"lr.predict (lr dim 7)\", \"MSE\"] =mse_test_X_lr_7\n",
    "\n",
    "df_MSE_train\n",
    "df_MSE_test\n",
    "\n"
   ],
   "metadata": {
    "id": "lo55eta01htU",
    "ExecuteTime": {
     "end_time": "2024-01-28T16:22:43.996532400Z",
     "start_time": "2024-01-28T16:22:43.895286Z"
    }
   },
   "id": "lo55eta01htU",
   "execution_count": 85,
   "outputs": [
    {
     "data": {
      "text/plain": "                              MSE  RMSE\nmy_Model                  0.50794  None\nmodel_2_dim1(lr_1_dim )  0.507911  None\nlr.predict (lr dim 7)    0.023876  None\nPoly_Regression              None  None\nElasticNet                   None  None",
      "text/html": "<div>\n<style scoped>\n    .dataframe tbody tr th:only-of-type {\n        vertical-align: middle;\n    }\n\n    .dataframe tbody tr th {\n        vertical-align: top;\n    }\n\n    .dataframe thead th {\n        text-align: right;\n    }\n</style>\n<table border=\"1\" class=\"dataframe\">\n  <thead>\n    <tr style=\"text-align: right;\">\n      <th></th>\n      <th>MSE</th>\n      <th>RMSE</th>\n    </tr>\n  </thead>\n  <tbody>\n    <tr>\n      <th>my_Model</th>\n      <td>0.50794</td>\n      <td>None</td>\n    </tr>\n    <tr>\n      <th>model_2_dim1(lr_1_dim )</th>\n      <td>0.507911</td>\n      <td>None</td>\n    </tr>\n    <tr>\n      <th>lr.predict (lr dim 7)</th>\n      <td>0.023876</td>\n      <td>None</td>\n    </tr>\n    <tr>\n      <th>Poly_Regression</th>\n      <td>None</td>\n      <td>None</td>\n    </tr>\n    <tr>\n      <th>ElasticNet</th>\n      <td>None</td>\n      <td>None</td>\n    </tr>\n  </tbody>\n</table>\n</div>"
     },
     "execution_count": 85,
     "metadata": {},
     "output_type": "execute_result"
    }
   ]
  },
  {
   "cell_type": "code",
   "outputs": [],
   "source": [
    "## як бачимо стало краще.  Середнтоквадратична помилка зменшилась більш ніж вдвічі"
   ],
   "metadata": {
    "collapsed": false,
    "ExecuteTime": {
     "end_time": "2024-01-28T16:22:44.093730Z",
     "start_time": "2024-01-28T16:22:43.909241400Z"
    }
   },
   "id": "7196254f8d5ef6cc",
   "execution_count": 86
  },
  {
   "cell_type": "markdown",
   "id": "f1b2b3fb",
   "metadata": {
    "id": "f1b2b3fb"
   },
   "source": [
    "14.3 Виведіть коефіцієнти моделі і визначте, які ознаки мають найбільші коефіцієнти по модулю, що стоять перед ними (достатньо вивести назви ознак і коефіцієнти в одному датафреймі)."
   ]
  },
  {
   "cell_type": "code",
   "outputs": [
    {
     "data": {
      "text/plain": "                        Feature  Coefficient |theta|\n0                  Overall rank             3.506525\n1                GDP per capita             0.054281\n2                Social support             0.438554\n3       Healthy life expectancy             0.029401\n4  Freedom to make life choices             0.114464\n5                    Generosity             0.084918\n6     Perceptions of corruption             0.224217",
      "text/html": "<div>\n<style scoped>\n    .dataframe tbody tr th:only-of-type {\n        vertical-align: middle;\n    }\n\n    .dataframe tbody tr th {\n        vertical-align: top;\n    }\n\n    .dataframe thead th {\n        text-align: right;\n    }\n</style>\n<table border=\"1\" class=\"dataframe\">\n  <thead>\n    <tr style=\"text-align: right;\">\n      <th></th>\n      <th>Feature</th>\n      <th>Coefficient |theta|</th>\n    </tr>\n  </thead>\n  <tbody>\n    <tr>\n      <th>0</th>\n      <td>Overall rank</td>\n      <td>3.506525</td>\n    </tr>\n    <tr>\n      <th>1</th>\n      <td>GDP per capita</td>\n      <td>0.054281</td>\n    </tr>\n    <tr>\n      <th>2</th>\n      <td>Social support</td>\n      <td>0.438554</td>\n    </tr>\n    <tr>\n      <th>3</th>\n      <td>Healthy life expectancy</td>\n      <td>0.029401</td>\n    </tr>\n    <tr>\n      <th>4</th>\n      <td>Freedom to make life choices</td>\n      <td>0.114464</td>\n    </tr>\n    <tr>\n      <th>5</th>\n      <td>Generosity</td>\n      <td>0.084918</td>\n    </tr>\n    <tr>\n      <th>6</th>\n      <td>Perceptions of corruption</td>\n      <td>0.224217</td>\n    </tr>\n  </tbody>\n</table>\n</div>"
     },
     "execution_count": 87,
     "metadata": {},
     "output_type": "execute_result"
    }
   ],
   "source": [
    "abs_coef = abs(lr.coef_) # \n",
    "coeff_df = pd.DataFrame({'Feature': X_train.columns, 'Coefficient |theta|': abs_coef})\n",
    "coeff_df"
   ],
   "metadata": {
    "collapsed": false,
    "ExecuteTime": {
     "end_time": "2024-01-28T16:22:44.095723800Z",
     "start_time": "2024-01-28T16:22:43.934378400Z"
    }
   },
   "id": "54298ba8cdfea7ce",
   "execution_count": 87
  },
  {
   "cell_type": "code",
   "outputs": [
    {
     "name": "stdout",
     "output_type": "stream",
     "text": [
      "Feature: Overall rank, Score: -3.507\n",
      "Feature: GDP per capita, Score: -0.054\n",
      "Feature: Social support, Score: 0.439\n",
      "Feature: Healthy life expectancy, Score: -0.029\n",
      "Feature: Freedom to make life choices, Score: 0.114\n",
      "Feature: Generosity, Score: 0.085\n",
      "Feature: Perceptions of corruption, Score: 0.224\n"
     ]
    },
    {
     "data": {
      "text/plain": "<Figure size 1200x600 with 1 Axes>",
      "image/png": "[encoded data removed]"
     },
     "metadata": {},
     "output_type": "display_data"
    }
   ],
   "source": [
    "importance = lr.coef_\n",
    "for feature_name, value in zip(X.columns, importance):\n",
    "    print(f'Feature: {feature_name}, Score: {value:.3f}')\n",
    "\n",
    "# побудуємо графік\n",
    "xticks = range(len(importance))\n",
    "plt.bar(xticks, importance)\n",
    "plt.xticks()\n",
    "plt.xticks(xticks, X.columns)\n",
    "plt.show()"
   ],
   "metadata": {
    "collapsed": false,
    "ExecuteTime": {
     "end_time": "2024-01-28T16:22:44.169066400Z",
     "start_time": "2024-01-28T16:22:43.939361700Z"
    }
   },
   "id": "4510b21f33bb9c6c",
   "execution_count": 88
  },
  {
   "cell_type": "markdown",
   "id": "21912671",
   "metadata": {
    "id": "21912671"
   },
   "source": [
    "15. Навчіть модель поліноміальної регресії зі ступенем 2 на тих самих даних, що й у попередньому пункті. Використовуйте у процесі навчання `PolynomialFeatures`. Дослідіть метрики якості на трейні та тест датасетах. Чи є перенавчання (overfit)?"
   ]
  },
  {
   "cell_type": "code",
   "execution_count": 89,
   "id": "91b34b669091e98c",
   "metadata": {
    "collapsed": false,
    "ExecuteTime": {
     "end_time": "2024-01-28T16:22:44.210384100Z",
     "start_time": "2024-01-28T16:22:44.063830500Z"
    }
   },
   "outputs": [
    {
     "data": {
      "text/plain": "array([[1.        , 0.36129032, 0.66508314, ..., 0.1442926 , 0.0503124 ,\n        0.01754309],\n       [1.        , 0.89032258, 0.16330166, ..., 0.09779433, 0.0586783 ,\n        0.03520801],\n       [1.        , 0.79354839, 0.54691211, ..., 0.01086604, 0.0126561 ,\n        0.01474107],\n       ...,\n       [1.        , 0.09032258, 0.7915677 , ..., 0.37802944, 0.37731964,\n        0.37661116],\n       [1.        , 0.59354839, 0.61104513, ..., 0.01050082, 0.02262108,\n        0.04873081],\n       [1.        , 0.65806452, 0.39964371, ..., 0.03441484, 0.03808532,\n        0.04214727]])"
     },
     "execution_count": 89,
     "metadata": {},
     "output_type": "execute_result"
    }
   ],
   "source": [
    "poly = PolynomialFeatures(2)\n",
    "X_train_poly = poly.fit_transform(X_train_scaled)\n",
    "X_test_poly = poly.transform(X_test_scaled)\n",
    "X_train_poly"
   ]
  },
  {
   "cell_type": "code",
   "outputs": [
    {
     "name": "stdout",
     "output_type": "stream",
     "text": [
      " Poly_Regression Trainingsdaten: RMSE = 0.11400127165365226 , R2 = 0.9898423661542971\n",
      " Poly_Regression Testdaten: RMSE = 0.14527940775457535 , R2 = 0.9797197729727939\n",
      "Явного оверфітінгу немає. )\n"
     ]
    }
   ],
   "source": [
    "\n",
    "new_model = LinearRegression()\n",
    "# Erstellen der Pipeline\n",
    "#model = make_pipeline(poly, LinearRegression())\n",
    "\n",
    "# Trainieren des Modells\n",
    "new_model.fit(X_train_poly, y_train)\n",
    "\n",
    "# Vorhersagen und Bewertung des Modells\n",
    "y_train_pred_poly = new_model.predict(X_train_poly)\n",
    "y_test_pred_poly = new_model.predict(X_test_poly)\n",
    "\n",
    "mse_train_poly= mean_squared_error(y_train, y_train_pred_poly)\n",
    "mse_test_poly= mean_squared_error(y_test, y_test_pred_poly)\n",
    "\n",
    "#df_MSE_train.loc[\"Poly_Regression\", \"MSE\"] = mse_train_poly\n",
    "\n",
    "train_rmse_poly = root_mean_squared_error(y_train, y_train_pred_poly)\n",
    "test_rmse_poly = root_mean_squared_error(y_test, y_test_pred_poly)\n",
    "train_r2_poly = r2_score(y_train, y_train_pred_poly)\n",
    "test_r2_poly = r2_score(y_test, y_test_pred_poly)\n",
    "\n",
    "# Ausgabe der Metriken\n",
    "print(\" Poly_Regression Trainingsdaten: RMSE =\", train_rmse_poly, \", R2 =\", train_r2_poly)\n",
    "print(\" Poly_Regression Testdaten: RMSE =\", test_rmse_poly, \", R2 =\", test_r2_poly)\n",
    "\n",
    "# Überprüfung auf Overfitting\n",
    "if train_rmse_poly+0.1 < test_rmse_poly or train_r2_poly > test_r2_poly+ 0.1 :\n",
    "    print(\"Можливо наявний оверфітінг.\")\n",
    "else:\n",
    "    print(\"Явного оверфітінгу немає. )\")\n"
   ],
   "metadata": {
    "id": "f2432d1c",
    "ExecuteTime": {
     "end_time": "2024-01-28T16:24:40.330564500Z",
     "start_time": "2024-01-28T16:24:40.273741500Z"
    }
   },
   "id": "f2432d1c",
   "execution_count": 94
  },
  {
   "cell_type": "code",
   "outputs": [
    {
     "data": {
      "text/plain": "                              MSE  RMSE\nmy_Model                 0.441721  None\nmodel_2_dim1(lr_1_dim )  0.441721  None\nlr.predict (lr dim 7)     0.02242  None\nPoly_Regression          0.012996  None\nElasticNet                   None  None",
      "text/html": "<div>\n<style scoped>\n    .dataframe tbody tr th:only-of-type {\n        vertical-align: middle;\n    }\n\n    .dataframe tbody tr th {\n        vertical-align: top;\n    }\n\n    .dataframe thead th {\n        text-align: right;\n    }\n</style>\n<table border=\"1\" class=\"dataframe\">\n  <thead>\n    <tr style=\"text-align: right;\">\n      <th></th>\n      <th>MSE</th>\n      <th>RMSE</th>\n    </tr>\n  </thead>\n  <tbody>\n    <tr>\n      <th>my_Model</th>\n      <td>0.441721</td>\n      <td>None</td>\n    </tr>\n    <tr>\n      <th>model_2_dim1(lr_1_dim )</th>\n      <td>0.441721</td>\n      <td>None</td>\n    </tr>\n    <tr>\n      <th>lr.predict (lr dim 7)</th>\n      <td>0.02242</td>\n      <td>None</td>\n    </tr>\n    <tr>\n      <th>Poly_Regression</th>\n      <td>0.012996</td>\n      <td>None</td>\n    </tr>\n    <tr>\n      <th>ElasticNet</th>\n      <td>None</td>\n      <td>None</td>\n    </tr>\n  </tbody>\n</table>\n</div>"
     },
     "execution_count": 95,
     "metadata": {},
     "output_type": "execute_result"
    }
   ],
   "source": [
    "df_MSE_train.loc[\"Poly_Regression\", \"MSE\"] =mse_train_poly\n",
    "df_MSE_test.loc[\"Poly_Regression\", \"MSE\"] = mse_test_poly\n",
    "\n",
    "df_MSE_train\n"
   ],
   "metadata": {
    "collapsed": false,
    "ExecuteTime": {
     "end_time": "2024-01-28T16:24:45.028042Z",
     "start_time": "2024-01-28T16:24:44.998124700Z"
    }
   },
   "id": "a097a3f4eadb0c3a",
   "execution_count": 95
  },
  {
   "cell_type": "code",
   "outputs": [
    {
     "data": {
      "text/plain": "                              MSE  RMSE\nmy_Model                  0.50794  None\nmodel_2_dim1(lr_1_dim )  0.507911  None\nlr.predict (lr dim 7)    0.023876  None\nPoly_Regression          0.021106  None\nElasticNet                   None  None",
      "text/html": "<div>\n<style scoped>\n    .dataframe tbody tr th:only-of-type {\n        vertical-align: middle;\n    }\n\n    .dataframe tbody tr th {\n        vertical-align: top;\n    }\n\n    .dataframe thead th {\n        text-align: right;\n    }\n</style>\n<table border=\"1\" class=\"dataframe\">\n  <thead>\n    <tr style=\"text-align: right;\">\n      <th></th>\n      <th>MSE</th>\n      <th>RMSE</th>\n    </tr>\n  </thead>\n  <tbody>\n    <tr>\n      <th>my_Model</th>\n      <td>0.50794</td>\n      <td>None</td>\n    </tr>\n    <tr>\n      <th>model_2_dim1(lr_1_dim )</th>\n      <td>0.507911</td>\n      <td>None</td>\n    </tr>\n    <tr>\n      <th>lr.predict (lr dim 7)</th>\n      <td>0.023876</td>\n      <td>None</td>\n    </tr>\n    <tr>\n      <th>Poly_Regression</th>\n      <td>0.021106</td>\n      <td>None</td>\n    </tr>\n    <tr>\n      <th>ElasticNet</th>\n      <td>None</td>\n      <td>None</td>\n    </tr>\n  </tbody>\n</table>\n</div>"
     },
     "execution_count": 96,
     "metadata": {},
     "output_type": "execute_result"
    }
   ],
   "source": [
    "df_MSE_test"
   ],
   "metadata": {
    "collapsed": false,
    "ExecuteTime": {
     "end_time": "2024-01-28T16:24:50.761423800Z",
     "start_time": "2024-01-28T16:24:50.733567700Z"
    }
   },
   "id": "fc9a5922a2dabe40",
   "execution_count": 96
  },
  {
   "cell_type": "markdown",
   "id": "af1ffc17",
   "metadata": {
    "id": "af1ffc17"
   },
   "source": [
    "16. Зробіть пайплайн із кроками `MinMaxScaler`, `PolynomialFeatures` та `ElasticNet`.\n",
    "\n"
   ]
  },
  {
   "cell_type": "code",
   "execution_count": 97,
   "id": "8b654ac1",
   "metadata": {
    "id": "8b654ac1",
    "ExecuteTime": {
     "end_time": "2024-01-28T16:25:00.050008900Z",
     "start_time": "2024-01-28T16:25:00.014058300Z"
    }
   },
   "outputs": [
    {
     "name": "stdout",
     "output_type": "stream",
     "text": [
      "ElasticNet Trainingsdaten: RMSE = 1.1311323388715853 , R2 = 0.0\n",
      "ElasticNet Testdaten: RMSE = 1.0219743615514894 , R2 = -0.0035631184593831744\n"
     ]
    },
    {
     "data": {
      "text/plain": "                              MSE  RMSE\nmy_Model                  0.50794  None\nmodel_2_dim1(lr_1_dim )  0.507911  None\nlr.predict (lr dim 7)    0.023876  None\nPoly_Regression          0.021106  None\nElasticNet               1.044432  None",
      "text/html": "<div>\n<style scoped>\n    .dataframe tbody tr th:only-of-type {\n        vertical-align: middle;\n    }\n\n    .dataframe tbody tr th {\n        vertical-align: top;\n    }\n\n    .dataframe thead th {\n        text-align: right;\n    }\n</style>\n<table border=\"1\" class=\"dataframe\">\n  <thead>\n    <tr style=\"text-align: right;\">\n      <th></th>\n      <th>MSE</th>\n      <th>RMSE</th>\n    </tr>\n  </thead>\n  <tbody>\n    <tr>\n      <th>my_Model</th>\n      <td>0.50794</td>\n      <td>None</td>\n    </tr>\n    <tr>\n      <th>model_2_dim1(lr_1_dim )</th>\n      <td>0.507911</td>\n      <td>None</td>\n    </tr>\n    <tr>\n      <th>lr.predict (lr dim 7)</th>\n      <td>0.023876</td>\n      <td>None</td>\n    </tr>\n    <tr>\n      <th>Poly_Regression</th>\n      <td>0.021106</td>\n      <td>None</td>\n    </tr>\n    <tr>\n      <th>ElasticNet</th>\n      <td>1.044432</td>\n      <td>None</td>\n    </tr>\n  </tbody>\n</table>\n</div>"
     },
     "execution_count": 97,
     "metadata": {},
     "output_type": "execute_result"
    }
   ],
   "source": [
    "from sklearn.pipeline import Pipeline\n",
    "from sklearn.linear_model import ElasticNet\n",
    "\n",
    "pipeline = Pipeline([\n",
    "    ('scaler', MinMaxScaler()),\n",
    "    ('poly_features', PolynomialFeatures(degree=2)),\n",
    "    ('elastic_net', ElasticNet())\n",
    "])\n",
    "\n",
    "# Trainieren der Pipeline mit Ihren Daten\n",
    "# Angenommen, X_train und y_train sind Ihre Trainingsdaten\n",
    "pipeline.fit(X_train, y_train)\n",
    "\n",
    "# Vorhersagen oder Evaluierung der Pipeline\n",
    "# Zum Beispiel: Vorhersagen auf Testdaten X_test\n",
    "y_train_pipeline_pred = pipeline.predict(X_train)\n",
    "y_test_pipeline_pred = pipeline.predict(X_test)\n",
    "\n",
    "\n",
    "mse_train_ElasticNet =mean_squared_error(y_train, y_train_pipeline_pred)\n",
    "mse_test_ElasticNet =mean_squared_error(y_test, y_test_pipeline_pred)\n",
    "\n",
    "df_MSE_train.loc[\"ElasticNet\",\"MSE\"]= mse_train_ElasticNet\n",
    "df_MSE_test.loc[\"ElasticNet\",\"MSE\"]= mse_test_ElasticNet\n",
    "\n",
    "train_rmse = root_mean_squared_error(y_train, y_train_pipeline_pred)\n",
    "test_rmse = root_mean_squared_error(y_test, y_test_pipeline_pred)\n",
    "train_r2 = r2_score(y_train, y_train_pipeline_pred)\n",
    "test_r2 = r2_score(y_test, y_test_pipeline_pred)\n",
    "\n",
    "# Ausgabe der Metriken\n",
    "print(\"ElasticNet Trainingsdaten: RMSE =\", train_rmse, \", R2 =\", train_r2)\n",
    "print(\"ElasticNet Testdaten: RMSE =\", test_rmse, \", R2 =\", test_r2)\n",
    "\n",
    "df_MSE_test\n",
    "\n",
    "# Hier können Sie weitere Schritte zur Bewertung oder Verwendung der Vorhersagen durchführen\n"
   ]
  },
  {
   "cell_type": "markdown",
   "source": [
    "Яка модель у домашньому завданні дала найкращі значення середньоквадратичної помилки на тестових даних, лін. регресія написана самостійно, лін. регресія зі sklearn, поліноміальна регресія?"
   ],
   "metadata": {
    "collapsed": false
   },
   "id": "38810c14f9344586"
  },
  {
   "cell_type": "code",
   "outputs": [
    {
     "name": "stdout",
     "output_type": "stream",
     "text": [
      "Середньоквадратична помилка (MSE) на тренувальних даних для lr.predict від sklearn: 0.02242029538225759\n",
      "Середньоквадратична помилка (MSE) на тестових даних для lr.predict від sklearn: 0.02387632145180575\n",
      "Середньоквадратична помилка (MSE) на тестових даних для предікт від sklearn 1 змінна: 0.5079112698997723\n",
      "Середньоквадратична помилка (MSE) на тестових даних для моєї предікт 1 змінна: 0.5079401606839119\n",
      "Середньоквадратична помилка (MSE) на тестових даних для предікт від sklearn: 0.5079112698997723\n",
      "Середньоквадратична помилка (MSE) на тестових даних для моєї предікт : 0.5079401606839119\n",
      " Poly_Regression Trainingsdaten: RMSE = 0.11400127165365226 , R2 = 0.9898423661542971\n",
      " Poly_Regression Testdaten: RMSE = 0.14527940775457535 , R2 = 0.9797197729727939\n",
      "ElasticNet Trainingsdaten: RMSE = 0.11400127165365226 , R2 = 0.9898423661542971\n",
      "ElasticNet Testdaten: RMSE = 0.14527940775457535 , R2 = 0.9797197729727939\n"
     ]
    }
   ],
   "source": [
    "\n",
    "print(\"Середньоквадратична помилка (MSE) на тренувальних даних для lr.predict від sklearn:\", train_mse)\n",
    "print(\"Середньоквадратична помилка (MSE) на тестових даних для lr.predict від sklearn:\", test_mse)\n",
    "\n",
    "#ще раз для однієї змінної\n",
    "\n",
    "print(\"Середньоквадратична помилка (MSE) на тестових даних для предікт від sklearn 1 змінна:\",sklearn_mse)\n",
    "print(\"Середньоквадратична помилка (MSE) на тестових даних для моєї предікт 1 змінна:\",my_model_mse)\n",
    "\n",
    "\n",
    "print(\"Середньоквадратична помилка (MSE) на тестових даних для предікт від sklearn:\",sklearn_mse)\n",
    "print(\"Середньоквадратична помилка (MSE) на тестових даних для моєї предікт :\",my_model_mse)\n",
    "\n",
    "print(\" Poly_Regression Trainingsdaten: RMSE =\", train_rmse, \", R2 =\", train_r2)\n",
    "print(\" Poly_Regression Testdaten: RMSE =\", test_rmse, \", R2 =\", test_r2)\n",
    "print(\"ElasticNet Trainingsdaten: RMSE =\", train_rmse, \", R2 =\", train_r2)\n",
    "print(\"ElasticNet Testdaten: RMSE =\", test_rmse, \", R2 =\", test_r2)"
   ],
   "metadata": {
    "collapsed": false,
    "ExecuteTime": {
     "end_time": "2024-01-27T17:41:54.570986800Z",
     "start_time": "2024-01-27T17:41:54.531689600Z"
    }
   },
   "id": "9a6c14c218e9bc65",
   "execution_count": 293
  },
  {
   "cell_type": "code",
   "outputs": [],
   "source": [],
   "metadata": {
    "collapsed": false
   },
   "id": "bdb6f975a119b7e6"
  },
  {
   "cell_type": "code",
   "outputs": [],
   "source": [
    "from sklearn.pipeline import Pipeline\n",
    "from sklearn.preprocessing import PolynomialFeatures\n",
    "from sklearn.linear_model import ElasticNet\n",
    "from sklearn.model_selection import GridSearchCV\n",
    "\n",
    "# Erstellen der Pipeline\n",
    "\n",
    "pipeline = Pipeline([\n",
    "    ('scaler', MinMaxScaler()),\n",
    "    ('poly_features', PolynomialFeatures(degree=2)),\n",
    "    ('elastic_net', ElasticNet())\n",
    "])\n",
    "\n",
    "\n",
    "# Festlegen des Parametergitters\n",
    "param_grid = {\n",
    "    'poly__degree': [1, 2, 3],  # Verschiedene Grade für PolynomialFeatures\n",
    "    'elasticnet__alpha': [0.1, 1, 10],  # Verschiedene Alpha-Werte für ElasticNet\n",
    "    'elasticnet__l1_ratio': [0.1, 0.5, 0.9]  # Verschiedene l1_ratio-Werte für ElasticNet\n",
    "}\n",
    "\n",
    "# Erstellen von GridSearchCV\n",
    "grid_search = GridSearchCV(pipeline, param_grid, cv=5, scoring='neg_mean_squared_error')\n",
    "\n",
    "# Trainieren von GridSearchCV mit Ihren Daten\n",
    "# Angenommen, X_train und y_train sind Ihre Trainingsdaten\n",
    "grid_search.fit(X_train, y_train)\n",
    "\n",
    "# Bestes Modell\n",
    "best_model = grid_search.best_estimator_\n",
    "\n",
    "# Sie können dann das beste Modell verwenden, um Vorhersagen zu machen oder weiter zu analysieren\n"
   ],
   "metadata": {
    "collapsed": false
   },
   "id": "4f74b5a029e7f857"
  }
 ],
 "metadata": {
  "kernelspec": {
   "display_name": "Python 3 (ipykernel)",
   "language": "python",
   "name": "python3"
  },
  "language_info": {
   "codemirror_mode": {
    "name": "ipython",
    "version": 3
   },
   "file_extension": ".py",
   "mimetype": "text/x-python",
   "name": "python",
   "nbconvert_exporter": "python",
   "pygments_lexer": "ipython3",
   "version": "3.9.7"
  },
  "toc": {
   "base_numbering": 1,
   "nav_menu": {},
   "number_sections": true,
   "sideBar": true,
   "skip_h1_title": false,
   "title_cell": "Table of Contents",
   "title_sidebar": "Contents",
   "toc_cell": false,
   "toc_position": {},
   "toc_section_display": true,
   "toc_window_display": false
  },
  "colab": {
   "provenance": [],
   "include_colab_link": true
  }
 },
 "nbformat": 4,
 "nbformat_minor": 5
}
